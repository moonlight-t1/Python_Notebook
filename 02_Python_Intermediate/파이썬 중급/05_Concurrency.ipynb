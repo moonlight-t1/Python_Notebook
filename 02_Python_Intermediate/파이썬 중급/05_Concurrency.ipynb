{
 "cells": [
  {
   "cell_type": "markdown",
   "metadata": {},
   "source": [
    "# 파이썬 병행성\n",
    "- 병행성, 흐름제어 설명\n",
    "- 이터레이터(Iterator)\n",
    "- 제너리에터(Generator)\n",
    "- `__iter__`, `__next__`\n",
    "- 클래스 기반 제너레이터 구현"
   ]
  },
  {
   "cell_type": "markdown",
   "metadata": {},
   "source": [
    "## 병행성 기본 - 이터레이터와 제너레이터\n",
    "\n",
    "### 이터레이터(Iterator)\n",
    "\n",
    "- 파이썬 제너레이너는 이터레이터를 만들어 낸다.\n",
    "\n",
    "- 간단히 말해 제너레이터는 반복할 수 있는 이터레이터 오브젝트를 리턴한다.\n",
    "\n",
    "- 파이썬 반복 가능한 타입\n",
    "\n",
    "    - for, collections, text file, List, Dict, Set, Tuple, unpacking, *args"
   ]
  },
  {
   "cell_type": "code",
   "execution_count": 1,
   "metadata": {},
   "outputs": [
    {
     "name": "stdout",
     "output_type": "stream",
     "text": [
      "['__add__', '__class__', '__contains__', '__delattr__', '__dir__', '__doc__', '__eq__', '__format__', '__ge__', '__getattribute__', '__getitem__', '__getnewargs__', '__gt__', '__hash__', '__init__', '__init_subclass__', '__iter__', '__le__', '__len__', '__lt__', '__mod__', '__mul__', '__ne__', '__new__', '__reduce__', '__reduce_ex__', '__repr__', '__rmod__', '__rmul__', '__setattr__', '__sizeof__', '__str__', '__subclasshook__', 'capitalize', 'casefold', 'center', 'count', 'encode', 'endswith', 'expandtabs', 'find', 'format', 'format_map', 'index', 'isalnum', 'isalpha', 'isascii', 'isdecimal', 'isdigit', 'isidentifier', 'islower', 'isnumeric', 'isprintable', 'isspace', 'istitle', 'isupper', 'join', 'ljust', 'lower', 'lstrip', 'maketrans', 'partition', 'replace', 'rfind', 'rindex', 'rjust', 'rpartition', 'rsplit', 'rstrip', 'split', 'splitlines', 'startswith', 'strip', 'swapcase', 'title', 'translate', 'upper', 'zfill']\n"
     ]
    }
   ],
   "source": [
    "# 반복 가능한 이유? -> iter(x) 함수 호출\n",
    "t = 'ABCDEFGHIJKLMNOPQRSTUVWXYZ'\n",
    "\n",
    "# for c in t:\n",
    "#     print(c)\n",
    "\n",
    "print(dir(t))"
   ]
  },
  {
   "cell_type": "markdown",
   "metadata": {},
   "source": [
    "- `__iter__`가 있으므로 반복이 가능하다.\n",
    "- 내부적으로 `__iter__`를 받은 후 `__next__`를 호출한다."
   ]
  },
  {
   "cell_type": "code",
   "execution_count": 2,
   "metadata": {},
   "outputs": [
    {
     "name": "stdout",
     "output_type": "stream",
     "text": [
      "['__class__', '__delattr__', '__dir__', '__doc__', '__eq__', '__format__', '__ge__', '__getattribute__', '__gt__', '__hash__', '__init__', '__init_subclass__', '__iter__', '__le__', '__length_hint__', '__lt__', '__ne__', '__new__', '__next__', '__reduce__', '__reduce_ex__', '__repr__', '__setattr__', '__setstate__', '__sizeof__', '__str__', '__subclasshook__']\n"
     ]
    }
   ],
   "source": [
    "# while 반복\n",
    "w = iter(t) # 직접 iter 함수 호출\n",
    "\n",
    "print(dir(w))"
   ]
  },
  {
   "cell_type": "markdown",
   "metadata": {},
   "source": [
    "- `__iter__`도 있고 `__next__`도 있다."
   ]
  },
  {
   "cell_type": "code",
   "execution_count": 3,
   "metadata": {},
   "outputs": [
    {
     "name": "stdout",
     "output_type": "stream",
     "text": [
      "A\n",
      "B\n",
      "C\n"
     ]
    }
   ],
   "source": [
    "print(next(w))\n",
    "print(next(w))\n",
    "print(next(w))"
   ]
  },
  {
   "cell_type": "markdown",
   "metadata": {},
   "source": [
    "- 내부적으로 `iter`라는 함수를 호출하여 반복할 수 있다.\n",
    "\n",
    "- 내부적으로 t가 `iter` 함수를 호출해서 iterable한 것을 받아 `next` 함수를 호출하여 다음 것을 받아온다."
   ]
  },
  {
   "cell_type": "code",
   "execution_count": 4,
   "metadata": {},
   "outputs": [
    {
     "name": "stdout",
     "output_type": "stream",
     "text": [
      "D\n",
      "E\n",
      "F\n",
      "G\n",
      "H\n",
      "I\n",
      "J\n",
      "K\n",
      "L\n",
      "M\n",
      "N\n",
      "O\n",
      "P\n",
      "Q\n",
      "R\n",
      "S\n",
      "T\n",
      "U\n",
      "V\n",
      "W\n",
      "X\n",
      "Y\n",
      "Z\n"
     ]
    }
   ],
   "source": [
    "while True:\n",
    "    try:\n",
    "        print(next(w))\n",
    "    except StopIteration:\n",
    "        break"
   ]
  },
  {
   "cell_type": "markdown",
   "metadata": {},
   "source": [
    "- `while`문으로 `next`를 계속 호출하고 `StopIteration` 예외가 발생하면 `while`문 탈출한다.\n",
    "\n",
    "- 위의 매커니즘이 `for`문에서 내부적으로 적용되는 것이다."
   ]
  },
  {
   "cell_type": "code",
   "execution_count": 5,
   "metadata": {},
   "outputs": [
    {
     "name": "stdout",
     "output_type": "stream",
     "text": [
      "True\n",
      "True\n"
     ]
    }
   ],
   "source": [
    "from collections import abc\n",
    "\n",
    "# 반복형 확인\n",
    "print(hasattr(t, '__iter__'))\n",
    "print(isinstance(t, abc.Iterable)) # 상속을 받았는지 확인"
   ]
  },
  {
   "cell_type": "markdown",
   "metadata": {},
   "source": [
    "- `hasattr`는 속성을 확인한다.\n",
    "\n",
    "- `isinstance(object, class )`는 첫 번째 인자로 인스턴스, 두 번째 인자로 클래스 이름을 받는다. 입력으로 받은 인스턴스가 그 클래스의 인스턴스인지를 판단하여 참이면 True, 거짓이면 False를 돌려준다."
   ]
  },
  {
   "cell_type": "markdown",
   "metadata": {},
   "source": [
    "### 클래스 기반 제너레이터"
   ]
  },
  {
   "cell_type": "code",
   "execution_count": 6,
   "metadata": {},
   "outputs": [],
   "source": [
    "# next 사용\n",
    "class WordSplitter:\n",
    "    def __init__(self, text):\n",
    "        self._idx = 0\n",
    "        self._text = text.split(' ')\n",
    "\n",
    "    # 매직 메소드로 next 함수를 구현\n",
    "    def __next__(self):\n",
    "        # print('Called __next__')\n",
    "        try:\n",
    "            word = self._text[self._idx]\n",
    "        except IndexError:\n",
    "            raise StopIteration('Stopped Iteration.')\n",
    "        self._idx += 1\n",
    "        return word\n",
    "\n",
    "    def __repr__(self):\n",
    "        return 'WordSplit(%s)' % (self._text)"
   ]
  },
  {
   "cell_type": "code",
   "execution_count": 7,
   "metadata": {},
   "outputs": [
    {
     "name": "stdout",
     "output_type": "stream",
     "text": [
      "WordSplit(['Do', 'today', 'what', 'you', 'could', 'do', 'tomorrow'])\n",
      "Do\n",
      "today\n",
      "what\n",
      "you\n",
      "could\n",
      "do\n",
      "tomorrow\n"
     ]
    }
   ],
   "source": [
    "wi = WordSplitter('Do today what you could do tomorrow')\n",
    "\n",
    "print(wi)\n",
    "print(next(wi))\n",
    "print(next(wi))\n",
    "print(next(wi))\n",
    "print(next(wi))\n",
    "print(next(wi))\n",
    "print(next(wi))\n",
    "print(next(wi))\n",
    "# print(next(wi)) # error"
   ]
  },
  {
   "cell_type": "markdown",
   "metadata": {},
   "source": [
    "- 매직 메소드로 `next` 함수를 구현하여 iterable하게 만들어준다.\n",
    "\n",
    "- 클래스이지만 iterable 하게 되었다.\n",
    "\n",
    "- 하지만 위의 `next` 패턴은 예외처리등 불편하다.\n",
    "\n",
    "- 이걸 `generator` 패턴으로 바꾸면 한결 코드가 간결해진다."
   ]
  },
  {
   "cell_type": "markdown",
   "metadata": {},
   "source": [
    "### 제너레이터 패턴\n",
    "\n",
    "**Generator 패턴**\n",
    "\n",
    "1. 지능형 리스트, 딕셔너리, 집합 -> 데이터 양 증가 후 메모리 사용량 증가 -> 제네레이터 사용 권장\n",
    "2. 단위 실행 가능한 `코루틴(Coroutine)` 구현과 연동\n",
    "3. 작은 메모리 조각 사용"
   ]
  },
  {
   "cell_type": "code",
   "execution_count": 8,
   "metadata": {},
   "outputs": [],
   "source": [
    "class WordSplitGenerator:\n",
    "    def __init__(self, text):\n",
    "        self._text = text.split(' ')\n",
    "\n",
    "    # 매직 메소드로 __iter__ 함수 구현\n",
    "    def __iter__(self):\n",
    "        # print('Called __iter__')\n",
    "        for word in self._text:\n",
    "            yield word  # 제네레이터\n",
    "        return\n",
    "\n",
    "    def __repr__(self):\n",
    "        return 'WordSplit(%s)' % (self._text)"
   ]
  },
  {
   "cell_type": "code",
   "execution_count": 9,
   "metadata": {},
   "outputs": [
    {
     "name": "stdout",
     "output_type": "stream",
     "text": [
      "<generator object WordSplitGenerator.__iter__ at 0x000002D2C82062C8>\n",
      "Do\n",
      "today\n",
      "what\n",
      "you\n",
      "could\n",
      "do\n",
      "tomorrow\n"
     ]
    }
   ],
   "source": [
    "wg = WordSplitGenerator('Do today what you could do tomorrow')\n",
    "\n",
    "wt = iter(wg) # iter 함수 호출\n",
    "\n",
    "print(wt)\n",
    "print(next(wt))\n",
    "print(next(wt))\n",
    "print(next(wt))\n",
    "print(next(wt))\n",
    "print(next(wt))\n",
    "print(next(wt))\n",
    "print(next(wt))\n",
    "# print(next(wt))"
   ]
  },
  {
   "cell_type": "markdown",
   "metadata": {},
   "source": [
    "- `yield` 키워드에 의해서 리턴과 예외처리를 알아서 처리해준다."
   ]
  },
  {
   "cell_type": "markdown",
   "metadata": {},
   "source": [
    "## 제너레이터(Generator)\n",
    "- 제너레이터 실습\n",
    "- Yield 실습\n",
    "- Itertools 실습"
   ]
  },
  {
   "cell_type": "markdown",
   "metadata": {},
   "source": [
    "### 제너레이터 실습\n",
    "- 병행성(Concurrency) : 한 컴퓨터가 여러 일을 동시에 수행\n",
    "\n",
    "    - 단일 프로그램 안에서 여러 일을 쉽게 해결\n",
    "    - 코루틴\n",
    "    - 쓰레드는 하나이지만 여러 일을 동시에 하는 것처럼 행동\n",
    "    \n",
    "    \n",
    "\n",
    "- 병렬성(Parallelism) : 여러 컴퓨터가 여러 작업을 동시에 수행\n",
    "\n",
    "    - 속도"
   ]
  },
  {
   "cell_type": "code",
   "execution_count": 10,
   "metadata": {},
   "outputs": [
    {
     "name": "stdout",
     "output_type": "stream",
     "text": [
      "Start\n",
      "A Point. \n",
      "------------------------------\n",
      "continue\n",
      "B Point. \n"
     ]
    }
   ],
   "source": [
    "# Generator Ex1\n",
    "import itertools\n",
    "\n",
    "\n",
    "def generator_ex1():\n",
    "    print('Start')\n",
    "    yield 'A Point. '\n",
    "    print('continue')\n",
    "    yield 'B Point. '\n",
    "    print('End')\n",
    "\n",
    "\n",
    "temp = iter(generator_ex1()) # iter 함수에 gernerator_ex1을 넣는다\n",
    "\n",
    "print(next(temp))\n",
    "print(\"-\" * 30)\n",
    "\n",
    "print(next(temp))\n",
    "\n",
    "# print(next(temp)) # StopIteration"
   ]
  },
  {
   "cell_type": "markdown",
   "metadata": {},
   "source": [
    "```python\n",
    "print('Start')\n",
    "yield 'A Point.'\n",
    "```\n",
    "- start 출력 후 A Point에서 멈춰 있는다. 다음 `next`로 호출할 때까지 `yield`까지 실행 된 것이다.\n",
    "\n",
    "```python\n",
    "print('continue')\n",
    "yield 'B Point.'\n",
    "```\n",
    "- `next`를 다시 호출하면 continue를 출력하고 B Point에서 멈춰있는다.\n",
    "- 또 다시 `next`로 호출하면 End가 출력된 후 `StopIteration` 에러가 발생한다.\n",
    "\n",
    "이러한 과정이 여러 일을 동시에 수행해주는 메커니즘이다.\n",
    "\n",
    "`yield`에 문자 출력 대신 네이버에서 크롤링, 다음에서 크롤링 같은 코드를 넣으면 네이버에서 크롤링하고 다 될 때까지 잠시 멈춰있다가, 다음의 할 일을 기억한 상태에서 다른 일을 하다 다시 `next`를 호출하면 그 다음의 일을 수행하게 하는 것이 가능해진다.\n",
    "\n",
    "이런식으로 단일 프로그램에서 여러일을 동시에 처리할 수 있게 해준다."
   ]
  },
  {
   "cell_type": "code",
   "execution_count": 11,
   "metadata": {},
   "outputs": [
    {
     "name": "stdout",
     "output_type": "stream",
     "text": [
      "Start\n",
      "A Point. \n",
      "continue\n",
      "B Point. \n",
      "End\n"
     ]
    }
   ],
   "source": [
    "# for문에서도 반복이 가능하다\n",
    "for v in generator_ex1():\n",
    "    print(v)"
   ]
  },
  {
   "cell_type": "markdown",
   "metadata": {},
   "source": [
    "- for문에서 바로 호출도 가능하다."
   ]
  },
  {
   "cell_type": "code",
   "execution_count": 12,
   "metadata": {},
   "outputs": [
    {
     "name": "stdout",
     "output_type": "stream",
     "text": [
      "Start\n",
      "continue\n",
      "End\n",
      "['A Point. A Point. A Point. ', 'B Point. B Point. B Point. ']\n",
      "--------------------------------------------------\n",
      "<generator object <genexpr> at 0x000002D2C8235DC8>\n"
     ]
    }
   ],
   "source": [
    "# Generator Ex2\n",
    "temp2 = [x * 3 for x in generator_ex1()] # list\n",
    "temp3 = (x * 3 for x in generator_ex1()) # generator\n",
    "\n",
    "print(temp2) # list\n",
    "print(\"-\" * 50)\n",
    "print(temp3) # generator"
   ]
  },
  {
   "cell_type": "markdown",
   "metadata": {},
   "source": [
    "- `yield`뒤에 있는 리턴 값들이 x에 들어가게 된다. `yield`가 `return` 역할을 한다고 볼 수 있다."
   ]
  },
  {
   "cell_type": "code",
   "execution_count": 13,
   "metadata": {},
   "outputs": [
    {
     "name": "stdout",
     "output_type": "stream",
     "text": [
      "A Point. A Point. A Point. \n",
      "B Point. B Point. B Point. \n",
      "--------------------------------------------------\n",
      "Start\n",
      "A Point. A Point. A Point. \n",
      "continue\n",
      "B Point. B Point. B Point. \n",
      "End\n"
     ]
    }
   ],
   "source": [
    "# list\n",
    "for i in temp2:\n",
    "    print(i)\n",
    "\n",
    "print(\"-\" * 50)\n",
    "\n",
    "# generator\n",
    "for i in temp3:\n",
    "    print(i)"
   ]
  },
  {
   "cell_type": "markdown",
   "metadata": {},
   "source": [
    "- temp2는 A point가 3번 B point가 3번씩 반복한다. `yield`에서 리턴된 값들이 리스트 안에 들어간다.\n",
    "\n",
    "- temp3는 제너레이터이다. 그러므로 `for`문으로 호출하면 print문부터 차례대로 출력이 된다.\n",
    "     - continue까지 실행되고 멈추고, 다시 호출되면 End까지 실행된다."
   ]
  },
  {
   "cell_type": "markdown",
   "metadata": {},
   "source": [
    "### 제너레이터 중요 함수\n",
    "\n",
    "- filterfalse, accumulate, chain, product, product, groupby"
   ]
  },
  {
   "cell_type": "code",
   "execution_count": 14,
   "metadata": {},
   "outputs": [
    {
     "name": "stdout",
     "output_type": "stream",
     "text": [
      "1\n",
      "3.5\n",
      "6.0\n",
      "8.5\n"
     ]
    }
   ],
   "source": [
    "# 데이터를 무한으로 만들고 싶을 때\n",
    "\n",
    "import itertools\n",
    "\n",
    "# 데이터를 무한으로 만들어준다\n",
    "gen1 = itertools.count(1, 2.5)\n",
    "\n",
    "print(next(gen1))\n",
    "print(next(gen1))\n",
    "print(next(gen1))\n",
    "print(next(gen1))\n",
    "# ... 무한"
   ]
  },
  {
   "cell_type": "markdown",
   "metadata": {},
   "source": [
    "- 무한대로 2.5씩 증가하는 수를 `itertools.count`를 이용해 만든다."
   ]
  },
  {
   "cell_type": "code",
   "execution_count": 15,
   "metadata": {},
   "outputs": [
    {
     "name": "stdout",
     "output_type": "stream",
     "text": [
      "1\n",
      "3.5\n",
      "6.0\n",
      "8.5\n",
      "11.0\n",
      "13.5\n",
      "16.0\n",
      "18.5\n",
      "21.0\n",
      "23.5\n",
      "26.0\n",
      "28.5\n",
      "31.0\n",
      "33.5\n",
      "36.0\n",
      "38.5\n",
      "41.0\n",
      "43.5\n",
      "46.0\n",
      "48.5\n",
      "51.0\n",
      "53.5\n",
      "56.0\n",
      "58.5\n",
      "61.0\n",
      "63.5\n",
      "66.0\n",
      "68.5\n",
      "71.0\n",
      "73.5\n",
      "76.0\n",
      "78.5\n",
      "81.0\n",
      "83.5\n",
      "86.0\n",
      "88.5\n",
      "91.0\n",
      "93.5\n",
      "96.0\n",
      "98.5\n",
      "101.0\n",
      "103.5\n",
      "106.0\n",
      "108.5\n",
      "111.0\n",
      "113.5\n",
      "116.0\n",
      "118.5\n",
      "121.0\n",
      "123.5\n",
      "126.0\n",
      "128.5\n",
      "131.0\n",
      "133.5\n",
      "136.0\n",
      "138.5\n",
      "141.0\n",
      "143.5\n",
      "146.0\n",
      "148.5\n",
      "151.0\n",
      "153.5\n",
      "156.0\n",
      "158.5\n",
      "161.0\n",
      "163.5\n",
      "166.0\n",
      "168.5\n",
      "171.0\n",
      "173.5\n",
      "176.0\n",
      "178.5\n",
      "181.0\n",
      "183.5\n",
      "186.0\n",
      "188.5\n",
      "191.0\n",
      "193.5\n",
      "196.0\n",
      "198.5\n",
      "201.0\n",
      "203.5\n",
      "206.0\n",
      "208.5\n",
      "211.0\n",
      "213.5\n",
      "216.0\n",
      "218.5\n",
      "221.0\n",
      "223.5\n",
      "226.0\n",
      "228.5\n",
      "231.0\n",
      "233.5\n",
      "236.0\n",
      "238.5\n",
      "241.0\n",
      "243.5\n",
      "246.0\n",
      "248.5\n",
      "251.0\n",
      "253.5\n",
      "256.0\n",
      "258.5\n",
      "261.0\n",
      "263.5\n",
      "266.0\n",
      "268.5\n",
      "271.0\n",
      "273.5\n",
      "276.0\n",
      "278.5\n",
      "281.0\n",
      "283.5\n",
      "286.0\n",
      "288.5\n",
      "291.0\n",
      "293.5\n",
      "296.0\n",
      "298.5\n",
      "301.0\n",
      "303.5\n",
      "306.0\n",
      "308.5\n",
      "311.0\n",
      "313.5\n",
      "316.0\n",
      "318.5\n",
      "321.0\n",
      "323.5\n",
      "326.0\n",
      "328.5\n",
      "331.0\n",
      "333.5\n",
      "336.0\n",
      "338.5\n",
      "341.0\n",
      "343.5\n",
      "346.0\n",
      "348.5\n",
      "351.0\n",
      "353.5\n",
      "356.0\n",
      "358.5\n",
      "361.0\n",
      "363.5\n",
      "366.0\n",
      "368.5\n",
      "371.0\n",
      "373.5\n",
      "376.0\n",
      "378.5\n",
      "381.0\n",
      "383.5\n",
      "386.0\n",
      "388.5\n",
      "391.0\n",
      "393.5\n",
      "396.0\n",
      "398.5\n",
      "401.0\n",
      "403.5\n",
      "406.0\n",
      "408.5\n",
      "411.0\n",
      "413.5\n",
      "416.0\n",
      "418.5\n",
      "421.0\n",
      "423.5\n",
      "426.0\n",
      "428.5\n",
      "431.0\n",
      "433.5\n",
      "436.0\n",
      "438.5\n",
      "441.0\n",
      "443.5\n",
      "446.0\n",
      "448.5\n",
      "451.0\n",
      "453.5\n",
      "456.0\n",
      "458.5\n",
      "461.0\n",
      "463.5\n",
      "466.0\n",
      "468.5\n",
      "471.0\n",
      "473.5\n",
      "476.0\n",
      "478.5\n",
      "481.0\n",
      "483.5\n",
      "486.0\n",
      "488.5\n",
      "491.0\n",
      "493.5\n",
      "496.0\n",
      "498.5\n",
      "501.0\n",
      "503.5\n",
      "506.0\n",
      "508.5\n",
      "511.0\n",
      "513.5\n",
      "516.0\n",
      "518.5\n",
      "521.0\n",
      "523.5\n",
      "526.0\n",
      "528.5\n",
      "531.0\n",
      "533.5\n",
      "536.0\n",
      "538.5\n",
      "541.0\n",
      "543.5\n",
      "546.0\n",
      "548.5\n",
      "551.0\n",
      "553.5\n",
      "556.0\n",
      "558.5\n",
      "561.0\n",
      "563.5\n",
      "566.0\n",
      "568.5\n",
      "571.0\n",
      "573.5\n",
      "576.0\n",
      "578.5\n",
      "581.0\n",
      "583.5\n",
      "586.0\n",
      "588.5\n",
      "591.0\n",
      "593.5\n",
      "596.0\n",
      "598.5\n",
      "601.0\n",
      "603.5\n",
      "606.0\n",
      "608.5\n",
      "611.0\n",
      "613.5\n",
      "616.0\n",
      "618.5\n",
      "621.0\n",
      "623.5\n",
      "626.0\n",
      "628.5\n",
      "631.0\n",
      "633.5\n",
      "636.0\n",
      "638.5\n",
      "641.0\n",
      "643.5\n",
      "646.0\n",
      "648.5\n",
      "651.0\n",
      "653.5\n",
      "656.0\n",
      "658.5\n",
      "661.0\n",
      "663.5\n",
      "666.0\n",
      "668.5\n",
      "671.0\n",
      "673.5\n",
      "676.0\n",
      "678.5\n",
      "681.0\n",
      "683.5\n",
      "686.0\n",
      "688.5\n",
      "691.0\n",
      "693.5\n",
      "696.0\n",
      "698.5\n",
      "701.0\n",
      "703.5\n",
      "706.0\n",
      "708.5\n",
      "711.0\n",
      "713.5\n",
      "716.0\n",
      "718.5\n",
      "721.0\n",
      "723.5\n",
      "726.0\n",
      "728.5\n",
      "731.0\n",
      "733.5\n",
      "736.0\n",
      "738.5\n",
      "741.0\n",
      "743.5\n",
      "746.0\n",
      "748.5\n",
      "751.0\n",
      "753.5\n",
      "756.0\n",
      "758.5\n",
      "761.0\n",
      "763.5\n",
      "766.0\n",
      "768.5\n",
      "771.0\n",
      "773.5\n",
      "776.0\n",
      "778.5\n",
      "781.0\n",
      "783.5\n",
      "786.0\n",
      "788.5\n",
      "791.0\n",
      "793.5\n",
      "796.0\n",
      "798.5\n",
      "801.0\n",
      "803.5\n",
      "806.0\n",
      "808.5\n",
      "811.0\n",
      "813.5\n",
      "816.0\n",
      "818.5\n",
      "821.0\n",
      "823.5\n",
      "826.0\n",
      "828.5\n",
      "831.0\n",
      "833.5\n",
      "836.0\n",
      "838.5\n",
      "841.0\n",
      "843.5\n",
      "846.0\n",
      "848.5\n",
      "851.0\n",
      "853.5\n",
      "856.0\n",
      "858.5\n",
      "861.0\n",
      "863.5\n",
      "866.0\n",
      "868.5\n",
      "871.0\n",
      "873.5\n",
      "876.0\n",
      "878.5\n",
      "881.0\n",
      "883.5\n",
      "886.0\n",
      "888.5\n",
      "891.0\n",
      "893.5\n",
      "896.0\n",
      "898.5\n",
      "901.0\n",
      "903.5\n",
      "906.0\n",
      "908.5\n",
      "911.0\n",
      "913.5\n",
      "916.0\n",
      "918.5\n",
      "921.0\n",
      "923.5\n",
      "926.0\n",
      "928.5\n",
      "931.0\n",
      "933.5\n",
      "936.0\n",
      "938.5\n",
      "941.0\n",
      "943.5\n",
      "946.0\n",
      "948.5\n",
      "951.0\n",
      "953.5\n",
      "956.0\n",
      "958.5\n",
      "961.0\n",
      "963.5\n",
      "966.0\n",
      "968.5\n",
      "971.0\n",
      "973.5\n",
      "976.0\n",
      "978.5\n",
      "981.0\n",
      "983.5\n",
      "986.0\n",
      "988.5\n",
      "991.0\n",
      "993.5\n",
      "996.0\n",
      "998.5\n"
     ]
    }
   ],
   "source": [
    "# 조건\n",
    "# takewhile(함수, itertools.count)\n",
    "gen2 = itertools.takewhile(lambda n: n < 1000, itertools.count(1, 2.5))\n",
    "\n",
    "for v in gen2:\n",
    "    print(v)"
   ]
  },
  {
   "cell_type": "markdown",
   "metadata": {},
   "source": [
    "- `takewhile`을 이용해서 1000 미만까지 수를 계속 만들어낸다.\n",
    "- 이런식으로 `takewhile`과 `itertools.count`는 주로 같이 쓰인다."
   ]
  },
  {
   "cell_type": "code",
   "execution_count": 16,
   "metadata": {},
   "outputs": [
    {
     "name": "stdout",
     "output_type": "stream",
     "text": [
      "3\n",
      "4\n",
      "5\n"
     ]
    }
   ],
   "source": [
    "# 필터 반대\n",
    "gen3 = itertools.filterfalse(lambda n: n < 3, [1, 2, 3, 4, 5])\n",
    "\n",
    "for v in gen3:\n",
    "    print(v)"
   ]
  },
  {
   "cell_type": "markdown",
   "metadata": {},
   "source": [
    "- `filterfalse`는 `filter`의 반대 역할을 한다."
   ]
  },
  {
   "cell_type": "code",
   "execution_count": 17,
   "metadata": {},
   "outputs": [
    {
     "name": "stdout",
     "output_type": "stream",
     "text": [
      "1\n",
      "3\n",
      "6\n",
      "10\n",
      "15\n",
      "21\n",
      "28\n",
      "36\n",
      "45\n",
      "55\n",
      "66\n",
      "78\n",
      "91\n",
      "105\n",
      "120\n",
      "136\n",
      "153\n",
      "171\n",
      "190\n",
      "210\n",
      "231\n",
      "253\n",
      "276\n",
      "300\n",
      "325\n",
      "351\n",
      "378\n",
      "406\n",
      "435\n",
      "465\n",
      "496\n",
      "528\n",
      "561\n",
      "595\n",
      "630\n",
      "666\n",
      "703\n",
      "741\n",
      "780\n",
      "820\n",
      "861\n",
      "903\n",
      "946\n",
      "990\n",
      "1035\n",
      "1081\n",
      "1128\n",
      "1176\n",
      "1225\n",
      "1275\n",
      "1326\n",
      "1378\n",
      "1431\n",
      "1485\n",
      "1540\n",
      "1596\n",
      "1653\n",
      "1711\n",
      "1770\n",
      "1830\n",
      "1891\n",
      "1953\n",
      "2016\n",
      "2080\n",
      "2145\n",
      "2211\n",
      "2278\n",
      "2346\n",
      "2415\n",
      "2485\n",
      "2556\n",
      "2628\n",
      "2701\n",
      "2775\n",
      "2850\n",
      "2926\n",
      "3003\n",
      "3081\n",
      "3160\n",
      "3240\n",
      "3321\n",
      "3403\n",
      "3486\n",
      "3570\n",
      "3655\n",
      "3741\n",
      "3828\n",
      "3916\n",
      "4005\n",
      "4095\n",
      "4186\n",
      "4278\n",
      "4371\n",
      "4465\n",
      "4560\n",
      "4656\n",
      "4753\n",
      "4851\n",
      "4950\n",
      "5050\n"
     ]
    }
   ],
   "source": [
    "# 누적 합계\n",
    "gen4 = itertools.accumulate([x for x in range(1, 101)])\n",
    "\n",
    "for v in gen4:\n",
    "    print(v)"
   ]
  },
  {
   "cell_type": "markdown",
   "metadata": {},
   "source": [
    "- `itertools.accumulate`로 누적 합계를 출력한다."
   ]
  },
  {
   "cell_type": "code",
   "execution_count": 18,
   "metadata": {},
   "outputs": [
    {
     "name": "stdout",
     "output_type": "stream",
     "text": [
      "['A', 'B', 'C', 'D', 'E', 1, 3, 5, 7, 9]\n"
     ]
    }
   ],
   "source": [
    "# 연결1\n",
    "gen5 = itertools.chain('ABCDE', range(1, 11, 2))\n",
    "\n",
    "print(list(gen5))"
   ]
  },
  {
   "cell_type": "markdown",
   "metadata": {},
   "source": [
    "- `chain`을 이용해 iterable한 두 개를 이어서 하나로 만든다"
   ]
  },
  {
   "cell_type": "code",
   "execution_count": 19,
   "metadata": {},
   "outputs": [
    {
     "name": "stdout",
     "output_type": "stream",
     "text": [
      "[(0, 'A'), (1, 'B'), (2, 'C'), (3, 'D'), (4, 'E')]\n"
     ]
    }
   ],
   "source": [
    "# 연결2\n",
    "gen6 = itertools.chain(enumerate('ABCDE'))\n",
    "\n",
    "print(list(gen6))"
   ]
  },
  {
   "cell_type": "markdown",
   "metadata": {},
   "source": [
    "- `enumerate`가 인덱스 번호를 붙여주므로 위와 같이 쌍으로 튜플형 리스트가 나온다."
   ]
  },
  {
   "cell_type": "code",
   "execution_count": 20,
   "metadata": {},
   "outputs": [
    {
     "name": "stdout",
     "output_type": "stream",
     "text": [
      "[('A',), ('B',), ('C',), ('D',), ('E',)]\n"
     ]
    }
   ],
   "source": [
    "# 개별\n",
    "gen7 = itertools.product('ABCDE')\n",
    "\n",
    "print(list(gen7))"
   ]
  },
  {
   "cell_type": "markdown",
   "metadata": {},
   "source": [
    "- `itertools.product`를 사용하면 개별로 분리해서 튜플 리스트 형태로 만들어준다."
   ]
  },
  {
   "cell_type": "code",
   "execution_count": 21,
   "metadata": {},
   "outputs": [
    {
     "name": "stdout",
     "output_type": "stream",
     "text": [
      "[('A', 'A'), ('A', 'B'), ('A', 'C'), ('A', 'D'), ('A', 'E'), ('B', 'A'), ('B', 'B'), ('B', 'C'), ('B', 'D'), ('B', 'E'), ('C', 'A'), ('C', 'B'), ('C', 'C'), ('C', 'D'), ('C', 'E'), ('D', 'A'), ('D', 'B'), ('D', 'C'), ('D', 'D'), ('D', 'E'), ('E', 'A'), ('E', 'B'), ('E', 'C'), ('E', 'D'), ('E', 'E')]\n"
     ]
    }
   ],
   "source": [
    "# 연산(경우의 수)\n",
    "gen8 = itertools.product('ABCDE', repeat=2)\n",
    "\n",
    "print(list(gen8))"
   ]
  },
  {
   "cell_type": "markdown",
   "metadata": {},
   "source": [
    "- `itertools.product`에 `repeat` 옵션을 붙여줘 모든 경우의 수를 따져서 순서쌍 맺어준다."
   ]
  },
  {
   "cell_type": "code",
   "execution_count": 22,
   "metadata": {},
   "outputs": [
    {
     "name": "stdout",
     "output_type": "stream",
     "text": [
      "A  :  ['A', 'A', 'A']\n",
      "B  :  ['B', 'B']\n",
      "C  :  ['C', 'C', 'C', 'C']\n",
      "D  :  ['D', 'D']\n",
      "E  :  ['E', 'E', 'E']\n"
     ]
    }
   ],
   "source": [
    "# 그룹화\n",
    "gen9 = itertools.groupby('AAABBCCCCDDEEE')\n",
    "\n",
    "# print(list(gen9))\n",
    "\n",
    "for chr, group in gen9:\n",
    "    print(chr, ' : ', list(group))"
   ]
  },
  {
   "cell_type": "markdown",
   "metadata": {},
   "source": [
    "- `itertools.groupby`로 그룹화를 해준다."
   ]
  },
  {
   "cell_type": "markdown",
   "metadata": {},
   "source": [
    "## 코루틴(Coroutine), Yield\n",
    "\n",
    "- 병행성(Concurrency) : 한 컴퓨터가 여러 일을 동시에 수행 -> 단일 프로그램안에서 여러 일을 쉽게 해결\n",
    "- 병렬성(Parallelism) : 여러 컴퓨터가 여러 작업을 동시에 수행 -> 속도\n",
    "\n",
    "\n",
    "**쓰레드** \n",
    "- OS에서 직접 관리, 동시에 각자의 일이나 한가지 일 수행, \n",
    "- CPU 코어에서 실시간 혹은 시분할로 나눠서 비동기 작업 -> `멀티 쓰레드`\n",
    "\n",
    "**코루틴**\n",
    "- `단일(싱글) 스레드` 안에서 `메인루틴`과 `서브루틴`이 상호작용을 하면서 작업 \n",
    "- 스택을 기반으로 동작하는 `비동기 작업`\n",
    "- 리소스가 부족한 단일 스레드 환경 아래에서 하나의 작업을 순차적으로 하면서 블럭되지 않고 작업을 한다.\n",
    "- 코루틴을 제어할 때는 `상태`를 저장하고 `양방향 전송`한다.\n",
    "- 서브루틴은 `메인 루틴`에서 호출하면 `서브 루틴`에서 수행한다.(흐름 제어)\n",
    "- 루틴 실행 중 중지를 할 수 있으므로 `동시성 프로그래밍`이라고도 한다.\n",
    "- 코루틴의 장점은 쓰레드에 비해 오버헤드가 감소한다는 장점이 있다.\n",
    "    - 멀티 스레드는 교착 상태 발생 가능성, 컨텍스트 스위칭 비용 발생, 자원 소비 가능성 증가한다."
   ]
  },
  {
   "cell_type": "markdown",
   "metadata": {},
   "source": [
    "### yield, send\n",
    "- `yield`와 `send` 키워드를 통해서 메인과 서브루틴이 상호작용을 할 것이다.\n",
    "- 제너레이터(값을 반복적으로 생성)에서 파생된 것이 코루틴이다."
   ]
  },
  {
   "cell_type": "code",
   "execution_count": 23,
   "metadata": {},
   "outputs": [],
   "source": [
    "# 코루틴 Ex1\n",
    "from inspect import getgeneratorstate\n",
    "\n",
    "\n",
    "def coroutine1():\n",
    "    print('>>> coroutine started.')\n",
    "    i = yield  # i에 yield 할당\n",
    "    print('>>> coroutine received : {}'.format(i))"
   ]
  },
  {
   "cell_type": "markdown",
   "metadata": {},
   "source": [
    "- i에 `yield`를 할당한다.\n",
    "    - 함수를 보지 말고 안의 제너레이터를 봐야 한다.\n",
    "    - 함수와 제너레이터, 코루틴은 모두 `def`로 만들기 떄문에 구분을 잘해야 한다.\n",
    "- `yield`라는 키워드가 들어가면 제너레이터이다. 그래서 제너레이터 기반 코루틴이라고 설명하기도 한다."
   ]
  },
  {
   "cell_type": "code",
   "execution_count": 24,
   "metadata": {},
   "outputs": [
    {
     "name": "stdout",
     "output_type": "stream",
     "text": [
      "<generator object coroutine1 at 0x000002D2C8206348> <class 'generator'>\n"
     ]
    }
   ],
   "source": [
    "# 메인 루틴\n",
    "\n",
    "cr1 = coroutine1() # 제네레이터 선언\n",
    "\n",
    "print(cr1, type(cr1))"
   ]
  },
  {
   "cell_type": "markdown",
   "metadata": {},
   "source": [
    "- 함수처럼 제너레이터를 선언해준다.\n",
    "- 타입은 `genrerator`이다."
   ]
  },
  {
   "cell_type": "code",
   "execution_count": 25,
   "metadata": {},
   "outputs": [
    {
     "name": "stdout",
     "output_type": "stream",
     "text": [
      ">>> coroutine started.\n"
     ]
    }
   ],
   "source": [
    "# yield 지점 까지 서브루틴 수행\n",
    "next(cr1)"
   ]
  },
  {
   "cell_type": "markdown",
   "metadata": {},
   "source": [
    "- `next`를 이용해 서브루틴을 한 번 수행하면 coroutine started까지 출력된다."
   ]
  },
  {
   "cell_type": "code",
   "execution_count": 26,
   "metadata": {},
   "outputs": [],
   "source": [
    "# 기본 전달 값 None\n",
    "# next(cr1) # StopItertation"
   ]
  },
  {
   "cell_type": "code",
   "execution_count": 27,
   "metadata": {},
   "outputs": [],
   "source": [
    "# 값 전송\n",
    "\n",
    "# 메인 루틴에서 서브루틴으로 100 보낸다\n",
    "# cr1.send(100) # StopIteration"
   ]
  },
  {
   "cell_type": "markdown",
   "metadata": {},
   "source": [
    "- `send` 명령어를 통해서 메인루틴과 서브루틴이데이터를 주고 받을 수 있다.\n",
    "\n",
    "- `send`는 `next` 기능도 포함하고 있다.\n",
    "\n",
    "- `send`에 아무것도 넣지 않으면 기본값으로 `None`이 전달된다."
   ]
  },
  {
   "cell_type": "code",
   "execution_count": 28,
   "metadata": {},
   "outputs": [],
   "source": [
    "# 잘못된 사용\n",
    "cr2 = coroutine1()\n",
    "\n",
    "# next(cr1) # next 없이 바로 send를 실행하면 예외 발생\n",
    "\n",
    "# cr2.send(100) # 예외 발생"
   ]
  },
  {
   "cell_type": "markdown",
   "metadata": {},
   "source": [
    "- `next` 없이 바로 `send`를 실행하면 예외 발생한다.\n",
    "\n",
    "- `yield`에서 멈춘 다음에 `send`를 보내야 한다."
   ]
  },
  {
   "cell_type": "markdown",
   "metadata": {},
   "source": [
    "### 코루틴 상태값\n",
    "- `GEN_CREATED` : 처음 대기 상태\n",
    "- `GEN_RUNNING` : 실행 상태\n",
    "- `GEN_SUSPENDED` : yield 대기 상태\n",
    "- `GEN_CLOSED` : 실행 완료 상태"
   ]
  },
  {
   "cell_type": "code",
   "execution_count": 29,
   "metadata": {},
   "outputs": [],
   "source": [
    "# 매개변수가 있는 코루틴\n",
    "from inspect import getgeneratorstate\n",
    "\n",
    "def coroutine2(x):\n",
    "    print('>>> coroutine started : x = {}'.format(x)) # 받았는지 확인하기 위해 x값 출력\n",
    "    y = yield x  # x를 서브루틴에서 메인루틴으로 전달\n",
    "    print('>>> coroutine received : y = {}'.format(y))\n",
    "    z = yield x + y\n",
    "    print('>>> coroutine received : z = {}'.format(z))"
   ]
  },
  {
   "cell_type": "code",
   "execution_count": 30,
   "metadata": {},
   "outputs": [
    {
     "name": "stdout",
     "output_type": "stream",
     "text": [
      ">>> coroutine started : x = 100\n",
      "100\n",
      "GEN_SUSPENDED\n",
      ">>> coroutine received : y = 200\n",
      "300\n",
      "GEN_SUSPENDED\n"
     ]
    }
   ],
   "source": [
    "cr3 = coroutine2(100) # 시작시에 메인 루틴에서 서브루틴으로 100을 넣고 시작\n",
    "\n",
    "# print(getgeneratorstate(cr3))  # 코루틴 상태 출력\n",
    "\n",
    "print(next(cr3)) # yield x 리턴, y 값 받을 대기 상태\n",
    "print(getgeneratorstate(cr3))  # 코루틴 상태 출력\n",
    "\n",
    "print(cr3.send(200)) # y 값으로 200을 보낸다, z를 받기 위한 상태가 된다\n",
    "print(getgeneratorstate(cr3))  # 코루틴 상태 출력\n",
    "\n",
    "# print(cr3.send(300))  # 예외 StopIteration"
   ]
  },
  {
   "cell_type": "markdown",
   "metadata": {},
   "source": [
    "**1. 제너레이터 생성**\n",
    "```python\n",
    "cr3 = coroutine2(100) # 100을 넣고 시작\n",
    "```\n",
    "\n",
    "- 시작시에 메인 루틴에서 서브루틴으로 `x` 값 100을 넣고 시작한다. (`GEN_CREATED`)\n",
    "\n",
    "    ```python\n",
    "    print(getgeneratorstate(cr3))  # 코루틴 상태 출력\n",
    "    ```\n",
    "    - `getgeneratorstate`으로 코루틴의 상태를 출력한다.\n",
    "\n",
    "**2. `next(cr3)`**\n",
    "```python\n",
    "next(cr3) # yield x 리턴, y 값 받을 대기 상태\n",
    "```\n",
    "\n",
    "- `yield x`가 반환(return)되어 메인 루틴으로 보내졌다.\n",
    "    ```python\n",
    "    y = yield x  # x를 서브루틴에서 메인루틴으로 전달\n",
    "    ```\n",
    "- 그리고 `y`값을 받을 대기 상태가 된다. (`GEN_SUSPENDED`)\n",
    "\n",
    "**3. `send(200)`**\n",
    "\n",
    "```python\n",
    "cr3.send(200) # y 값으로 200을 보낸다, z를 받기 위한 상태가 된다\n",
    "```\n",
    "\n",
    "\n",
    "- `y`값으로 200을 메인 루틴에서 서브루틴으로 보낸다. \n",
    "- `z`를 받기 위한 상태가 된다. (`GEN_SUSPENDED`)\n",
    "- 이 때 `yield x + y`가 서브루틴에서 메인 루틴으로 전달(리턴)한다.\n",
    "    ```python\n",
    "    z = yield x + y\n",
    "    ```\n",
    "    - 양방향 전송이다.\n",
    "    - 오른쪽에 있으면 메인루틴에 보내는거고, 왼쪽에 있으면 입력을 받는거다.\n",
    "    \n",
    "    \n",
    "**4. `send(300)`**\n",
    "\n",
    "- `z` 값으로 메인루틴에서 서브루틴으로 300을 `send`한다.\n",
    "- `StopIteration` 예외가 발생한다.\n",
    "\n",
    "\n",
    "\n",
    "- 이런식으로 동시성 개발을 할 수 있다. 제너레이터를 기반으로 시작된다. 제너레이터는 클로저의 상태(free variable)를 저장한다.\n",
    "- 파이썬 3.5 이상부터 def → `async`, yield → `await` 키워드로 바꿀 수 있다."
   ]
  },
  {
   "cell_type": "code",
   "execution_count": 31,
   "metadata": {},
   "outputs": [
    {
     "name": "stdout",
     "output_type": "stream",
     "text": [
      "A\n",
      "B\n",
      "1\n",
      "2\n",
      "3\n",
      "['A', 'B', 1, 2, 3]\n"
     ]
    }
   ],
   "source": [
    "# 코루틴 Ex3\n",
    "# StopIteration 자동 처리(3.5 -> await)\n",
    "# 중첩 코루틴 처리\n",
    "\n",
    "\n",
    "def generator1():\n",
    "    for x in 'AB':\n",
    "        yield x\n",
    "    for y in range(1, 4):\n",
    "        yield y\n",
    "\n",
    "\n",
    "t1 = generator1()\n",
    "\n",
    "print(next(t1))\n",
    "print(next(t1))\n",
    "print(next(t1))\n",
    "print(next(t1))\n",
    "print(next(t1))\n",
    "# print(next(t1)) # StopIteration\n",
    "\n",
    "t2 = generator1()\n",
    "\n",
    "print(list(t2)) # 리스트로 형변환"
   ]
  },
  {
   "cell_type": "code",
   "execution_count": 32,
   "metadata": {},
   "outputs": [
    {
     "name": "stdout",
     "output_type": "stream",
     "text": [
      "A\n",
      "B\n",
      "1\n",
      "2\n",
      "3\n"
     ]
    }
   ],
   "source": [
    "def generator2():\n",
    "    yield from 'AB'\n",
    "    yield from range(1, 4)\n",
    "\n",
    "\n",
    "t3 = generator2()\n",
    "\n",
    "print(next(t3))\n",
    "print(next(t3))\n",
    "print(next(t3))\n",
    "print(next(t3))\n",
    "print(next(t3))\n",
    "# print(next(t3))"
   ]
  },
  {
   "cell_type": "markdown",
   "metadata": {},
   "source": [
    "- 위의 코드를 `yield from` 키워드로 대체할 수 있다.\n",
    "- `yield from`으로 반복 가능한 객체의 요소를 하나씩 바깥으로 보낸다."
   ]
  },
  {
   "cell_type": "markdown",
   "metadata": {},
   "source": [
    "## 병렬성 1 - Futures\n",
    "\n",
    "- 비동기 작업 처리\n",
    "- 파이썬 GIL 설명\n",
    "- 동시성 처리 실습 예제\n",
    "- Process, Thread 예제"
   ]
  },
  {
   "cell_type": "markdown",
   "metadata": {},
   "source": [
    "### 동시성\n",
    "\n",
    "#### **비동기 asynchronous**\n",
    "\n",
    "- `병렬성` 혹은 `동시성`은 최대한 자원을 활용해서 여러개의 작업을 동시에 처리할 수 있게 해준다.\n",
    "\n",
    "- `비동기(asynchronous)`는 A → B → END 의 프로세스에서 A의 작업이 시작되면 끝날 때까지 기다리지 않고 B의 작업을 시작하는 것이다.\n",
    "    - 반면 `동기(synchronous)`는 A의 일이 끝나야만이 B의 일을 시작할 수 있다.\n",
    "    - 지연시간(block) CPU 및 리소스 낭비 방지 \n",
    "    - (File)Network I/O 관련 작업등에서는 동시성 활용이 권장된다\n",
    "    - 비동기 작업과 적합한 프로그램일 경우 압도적으로 성능이 향상된다.\n",
    "\n",
    "\n",
    "#### **`futures`**\n",
    "- `futures` : 비동기 실행을 위한 API를 고수준으로 작성하여 사용하기 쉽도록 개선한 것이 `futures`이다.\n",
    "    - `threading`, `multiprocessing`을 wrapping 하였다.\n",
    "    \n",
    "    \n",
    "    \n",
    "#### **`concurrent.Futures`**\n",
    "\n",
    "1. 멀티스레딩/멀티프로세싱 API 통일 -> 매우 사용하기 쉬움\n",
    "2. 실행중이 작업 취소, 완료 여부 체크, 타임아웃 옵션, 콜백추가, 동기화 코드 매우 쉽게 작성 -> Promise 개념\n",
    "\n",
    "#### **GIL**\n",
    "- `GIL(Global Interface Lock)`은 여러개의 작업을 실행할 떄 전체가 락이 걸리는 현상을 말한다. 파이썬에만 있는 독특한 특징이다.\n",
    "- 두 개 이상의 스레드가 동시에 실행 될 때 하나의 자원을 엑세스 하는 경우 문제점을 방지하기 위해 GIL이 실행된다. 즉, 리소스 전체가 락이 걸린다. 게다가 문맥 교환 비용이 든다.\n",
    "- 서로 일한 것을 합치는 과정을 `문맥 교환(Context Switch)`이라 한다.\n",
    "- 그래서 여러개의 쓰레드로 작업하면 오히려 하나만 쓸 때보다 느릴 때가 있다.\n",
    "\n",
    "\n",
    "- 그래서 GIL을 우회하기 위해 멀티 프로세싱을 사용하고나 CPython을 사용한다.\n",
    "- 결론은 파이썬에 GIL이라는 특징이 있기 떄문에 무조건 쓰레드를 많이 사용하는 것이 좋은 것이 아니다."
   ]
  },
  {
   "cell_type": "markdown",
   "metadata": {},
   "source": [
    "### `concurrent.futures` 사용법1 - Thread 사용\n",
    "\n",
    "- [프로세스와 쓰레드의 차이](https://gmlwjd9405.github.io/2018/09/14/process-vs-thread.html)\n",
    "\n",
    "\n",
    "- [concurrent.futures — 병렬 작업 실행하기](https://docs.python.org/ko/3.7/library/concurrent.futures.html)\n",
    "- `concurrent.futures` 모듈은 비동기적으로 콜러블을 실행하는 고수준 인터페이스를 제공합니다.\n",
    "\n",
    "- 비동기 실행은 (`ThreadPoolExecutor`를 사용해서) 스레드나 (`ProcessPoolExecutor`를 사용해서) 별도의 프로세스로 수행 할 수 있습니다. 둘 다 추상 Executor 클래스로 정의된 것과 같은 인터페이스를 구현합니다."
   ]
  },
  {
   "cell_type": "code",
   "execution_count": 3,
   "metadata": {},
   "outputs": [],
   "source": [
    "import os\n",
    "import time # 시간 측정\n",
    "from concurrent import futures # futures"
   ]
  },
  {
   "cell_type": "markdown",
   "metadata": {},
   "source": [
    "- `futures` 안에 `threading`, `multiprocessing` 관련 코드가 포함되어 있다."
   ]
  },
  {
   "cell_type": "code",
   "execution_count": 4,
   "metadata": {},
   "outputs": [],
   "source": [
    "# 동시에 4개의 worker에게 일을 시켜서 각각 1부터의 합을 구한다.\n",
    "\n",
    "WORK_LIST = [100000, 1000000, 10000000, 10000000]"
   ]
  },
  {
   "cell_type": "code",
   "execution_count": 5,
   "metadata": {},
   "outputs": [],
   "source": [
    "# 동시성 합계 계산 메인함수 - 누적 합계 함수(제네레이터)\n",
    "\n",
    "\n",
    "def sum_generator(n):\n",
    "    return sum(n for n in range(1, n + 1))"
   ]
  },
  {
   "cell_type": "markdown",
   "metadata": {},
   "source": [
    "- 동시성이므로 위의 함수(`sum_generator`)가 한 번에 4개가 실행된다."
   ]
  },
  {
   "cell_type": "code",
   "execution_count": 6,
   "metadata": {},
   "outputs": [
    {
     "name": "stdout",
     "output_type": "stream",
     "text": [
      "\n",
      " Result -> [5000050000, 500000500000, 50000005000000, 50000005000000] Time : 1.45s\n"
     ]
    }
   ],
   "source": [
    "# 진입점\n",
    "def main():\n",
    "    # Worker Count\n",
    "    # worker 수를 10개 혹은 리스트의 원소 갯수 중 최소값으로 지정한다.\n",
    "    worker = min(10, len(WORK_LIST))\n",
    "\n",
    "    start_tm = time.time()  # 시작 시간\n",
    "\n",
    "    # ThreadPoolExecutor\n",
    "    with futures.ThreadPoolExecutor() as excutor:\n",
    "        # map -> 작업 순서 유지, 즉시 실행\n",
    "        result = excutor.map(sum_generator, WORK_LIST)\n",
    "\n",
    "    end_tm = time.time() - start_tm  # 종료 시간\n",
    "    \n",
    "    msg = '\\n Result -> {} Time : {:.2f}s'  # 출력 포맷\n",
    "    print(msg.format(list(result), end_tm))  # 최종 결과\n",
    "\n",
    "\n",
    "#  시작점 명시적 작성\n",
    "if __name__ == '__main__':\n",
    "    main()"
   ]
  },
  {
   "cell_type": "markdown",
   "metadata": {},
   "source": [
    "```python\n",
    "worker = min(10, len(WORK_LIST))\n",
    "```\n",
    "- worker의 숫자를 10개 혹은 리스트의 원소 갯수 중 최소값으로 지정한다.\n",
    "\n",
    "**`class concurrent.futures.Executor`**\n",
    "\n",
    "- 비동기적으로 호출을 실행하는 메서드를 제공하는 추상 클래스입니다. 직접 사용해서는 안 되며, 구체적인 하위 클래스를 통해 사용해야 합니다.\n",
    "\n",
    "**`ThreadPoolExecutor`**\n",
    "\n",
    "- `ThreadPoolExecutor` 는 스레드 풀을 사용하여 호출을 비동기적으로 실행하는 `Executor` 서브 클래스입니다.\n",
    "```python\n",
    "# ThreadPoolExecutor\n",
    "with futures.ThreadPoolExecutor() as excutor:\n",
    "    # map -> 작업 순서 유지, 즉시 실행\n",
    "    result = excutor.map(sum_generator, WORK_LIST)\n",
    "```\n",
    "- 4가지 연산을 동시에 한다."
   ]
  },
  {
   "cell_type": "markdown",
   "metadata": {},
   "source": [
    "### `concurrent.futures` 사용법2 - Process 사용"
   ]
  },
  {
   "cell_type": "code",
   "execution_count": 7,
   "metadata": {},
   "outputs": [
    {
     "ename": "BrokenProcessPool",
     "evalue": "A process in the process pool was terminated abruptly while the future was running or pending.",
     "output_type": "error",
     "traceback": [
      "\u001b[1;31m---------------------------------------------------------------------------\u001b[0m",
      "\u001b[1;31mBrokenProcessPool\u001b[0m                         Traceback (most recent call last)",
      "\u001b[1;32m<ipython-input-7-e639631eb1b3>\u001b[0m in \u001b[0;36m<module>\u001b[1;34m\u001b[0m\n\u001b[0;32m     18\u001b[0m \u001b[1;31m#  시작점 명시적 작성\u001b[0m\u001b[1;33m\u001b[0m\u001b[1;33m\u001b[0m\u001b[1;33m\u001b[0m\u001b[0m\n\u001b[0;32m     19\u001b[0m \u001b[1;32mif\u001b[0m \u001b[0m__name__\u001b[0m \u001b[1;33m==\u001b[0m \u001b[1;34m'__main__'\u001b[0m\u001b[1;33m:\u001b[0m\u001b[1;33m\u001b[0m\u001b[1;33m\u001b[0m\u001b[0m\n\u001b[1;32m---> 20\u001b[1;33m     \u001b[0mmain\u001b[0m\u001b[1;33m(\u001b[0m\u001b[1;33m)\u001b[0m\u001b[1;33m\u001b[0m\u001b[1;33m\u001b[0m\u001b[0m\n\u001b[0m",
      "\u001b[1;32m<ipython-input-7-e639631eb1b3>\u001b[0m in \u001b[0;36mmain\u001b[1;34m()\u001b[0m\n\u001b[0;32m     14\u001b[0m     \u001b[0mend_tm\u001b[0m \u001b[1;33m=\u001b[0m \u001b[0mtime\u001b[0m\u001b[1;33m.\u001b[0m\u001b[0mtime\u001b[0m\u001b[1;33m(\u001b[0m\u001b[1;33m)\u001b[0m \u001b[1;33m-\u001b[0m \u001b[0mstart_tm\u001b[0m  \u001b[1;31m# 종료 시간\u001b[0m\u001b[1;33m\u001b[0m\u001b[1;33m\u001b[0m\u001b[0m\n\u001b[0;32m     15\u001b[0m     \u001b[0mmsg\u001b[0m \u001b[1;33m=\u001b[0m \u001b[1;34m'\\n Result -> {} Time : {:.2f}s'\u001b[0m  \u001b[1;31m# 출력 포맷\u001b[0m\u001b[1;33m\u001b[0m\u001b[1;33m\u001b[0m\u001b[0m\n\u001b[1;32m---> 16\u001b[1;33m     \u001b[0mprint\u001b[0m\u001b[1;33m(\u001b[0m\u001b[0mmsg\u001b[0m\u001b[1;33m.\u001b[0m\u001b[0mformat\u001b[0m\u001b[1;33m(\u001b[0m\u001b[0mlist\u001b[0m\u001b[1;33m(\u001b[0m\u001b[0mresult\u001b[0m\u001b[1;33m)\u001b[0m\u001b[1;33m,\u001b[0m \u001b[0mend_tm\u001b[0m\u001b[1;33m)\u001b[0m\u001b[1;33m)\u001b[0m  \u001b[1;31m# 최종 결과\u001b[0m\u001b[1;33m\u001b[0m\u001b[1;33m\u001b[0m\u001b[0m\n\u001b[0m\u001b[0;32m     17\u001b[0m \u001b[1;33m\u001b[0m\u001b[0m\n\u001b[0;32m     18\u001b[0m \u001b[1;31m#  시작점 명시적 작성\u001b[0m\u001b[1;33m\u001b[0m\u001b[1;33m\u001b[0m\u001b[1;33m\u001b[0m\u001b[0m\n",
      "\u001b[1;32m~\\anaconda3\\lib\\concurrent\\futures\\process.py\u001b[0m in \u001b[0;36m_chain_from_iterable_of_lists\u001b[1;34m(iterable)\u001b[0m\n\u001b[0;32m    481\u001b[0m     \u001b[0mcareful\u001b[0m \u001b[1;32mnot\u001b[0m \u001b[0mto\u001b[0m \u001b[0mkeep\u001b[0m \u001b[0mreferences\u001b[0m \u001b[0mto\u001b[0m \u001b[0myielded\u001b[0m \u001b[0mobjects\u001b[0m\u001b[1;33m.\u001b[0m\u001b[1;33m\u001b[0m\u001b[1;33m\u001b[0m\u001b[0m\n\u001b[0;32m    482\u001b[0m     \"\"\"\n\u001b[1;32m--> 483\u001b[1;33m     \u001b[1;32mfor\u001b[0m \u001b[0melement\u001b[0m \u001b[1;32min\u001b[0m \u001b[0miterable\u001b[0m\u001b[1;33m:\u001b[0m\u001b[1;33m\u001b[0m\u001b[1;33m\u001b[0m\u001b[0m\n\u001b[0m\u001b[0;32m    484\u001b[0m         \u001b[0melement\u001b[0m\u001b[1;33m.\u001b[0m\u001b[0mreverse\u001b[0m\u001b[1;33m(\u001b[0m\u001b[1;33m)\u001b[0m\u001b[1;33m\u001b[0m\u001b[1;33m\u001b[0m\u001b[0m\n\u001b[0;32m    485\u001b[0m         \u001b[1;32mwhile\u001b[0m \u001b[0melement\u001b[0m\u001b[1;33m:\u001b[0m\u001b[1;33m\u001b[0m\u001b[1;33m\u001b[0m\u001b[0m\n",
      "\u001b[1;32m~\\anaconda3\\lib\\concurrent\\futures\\_base.py\u001b[0m in \u001b[0;36mresult_iterator\u001b[1;34m()\u001b[0m\n\u001b[0;32m    596\u001b[0m                     \u001b[1;31m# Careful not to keep a reference to the popped future\u001b[0m\u001b[1;33m\u001b[0m\u001b[1;33m\u001b[0m\u001b[1;33m\u001b[0m\u001b[0m\n\u001b[0;32m    597\u001b[0m                     \u001b[1;32mif\u001b[0m \u001b[0mtimeout\u001b[0m \u001b[1;32mis\u001b[0m \u001b[1;32mNone\u001b[0m\u001b[1;33m:\u001b[0m\u001b[1;33m\u001b[0m\u001b[1;33m\u001b[0m\u001b[0m\n\u001b[1;32m--> 598\u001b[1;33m                         \u001b[1;32myield\u001b[0m \u001b[0mfs\u001b[0m\u001b[1;33m.\u001b[0m\u001b[0mpop\u001b[0m\u001b[1;33m(\u001b[0m\u001b[1;33m)\u001b[0m\u001b[1;33m.\u001b[0m\u001b[0mresult\u001b[0m\u001b[1;33m(\u001b[0m\u001b[1;33m)\u001b[0m\u001b[1;33m\u001b[0m\u001b[1;33m\u001b[0m\u001b[0m\n\u001b[0m\u001b[0;32m    599\u001b[0m                     \u001b[1;32melse\u001b[0m\u001b[1;33m:\u001b[0m\u001b[1;33m\u001b[0m\u001b[1;33m\u001b[0m\u001b[0m\n\u001b[0;32m    600\u001b[0m                         \u001b[1;32myield\u001b[0m \u001b[0mfs\u001b[0m\u001b[1;33m.\u001b[0m\u001b[0mpop\u001b[0m\u001b[1;33m(\u001b[0m\u001b[1;33m)\u001b[0m\u001b[1;33m.\u001b[0m\u001b[0mresult\u001b[0m\u001b[1;33m(\u001b[0m\u001b[0mend_time\u001b[0m \u001b[1;33m-\u001b[0m \u001b[0mtime\u001b[0m\u001b[1;33m.\u001b[0m\u001b[0mmonotonic\u001b[0m\u001b[1;33m(\u001b[0m\u001b[1;33m)\u001b[0m\u001b[1;33m)\u001b[0m\u001b[1;33m\u001b[0m\u001b[1;33m\u001b[0m\u001b[0m\n",
      "\u001b[1;32m~\\anaconda3\\lib\\concurrent\\futures\\_base.py\u001b[0m in \u001b[0;36mresult\u001b[1;34m(self, timeout)\u001b[0m\n\u001b[0;32m    426\u001b[0m                 \u001b[1;32mraise\u001b[0m \u001b[0mCancelledError\u001b[0m\u001b[1;33m(\u001b[0m\u001b[1;33m)\u001b[0m\u001b[1;33m\u001b[0m\u001b[1;33m\u001b[0m\u001b[0m\n\u001b[0;32m    427\u001b[0m             \u001b[1;32melif\u001b[0m \u001b[0mself\u001b[0m\u001b[1;33m.\u001b[0m\u001b[0m_state\u001b[0m \u001b[1;33m==\u001b[0m \u001b[0mFINISHED\u001b[0m\u001b[1;33m:\u001b[0m\u001b[1;33m\u001b[0m\u001b[1;33m\u001b[0m\u001b[0m\n\u001b[1;32m--> 428\u001b[1;33m                 \u001b[1;32mreturn\u001b[0m \u001b[0mself\u001b[0m\u001b[1;33m.\u001b[0m\u001b[0m__get_result\u001b[0m\u001b[1;33m(\u001b[0m\u001b[1;33m)\u001b[0m\u001b[1;33m\u001b[0m\u001b[1;33m\u001b[0m\u001b[0m\n\u001b[0m\u001b[0;32m    429\u001b[0m \u001b[1;33m\u001b[0m\u001b[0m\n\u001b[0;32m    430\u001b[0m             \u001b[0mself\u001b[0m\u001b[1;33m.\u001b[0m\u001b[0m_condition\u001b[0m\u001b[1;33m.\u001b[0m\u001b[0mwait\u001b[0m\u001b[1;33m(\u001b[0m\u001b[0mtimeout\u001b[0m\u001b[1;33m)\u001b[0m\u001b[1;33m\u001b[0m\u001b[1;33m\u001b[0m\u001b[0m\n",
      "\u001b[1;32m~\\anaconda3\\lib\\concurrent\\futures\\_base.py\u001b[0m in \u001b[0;36m__get_result\u001b[1;34m(self)\u001b[0m\n\u001b[0;32m    382\u001b[0m     \u001b[1;32mdef\u001b[0m \u001b[0m__get_result\u001b[0m\u001b[1;33m(\u001b[0m\u001b[0mself\u001b[0m\u001b[1;33m)\u001b[0m\u001b[1;33m:\u001b[0m\u001b[1;33m\u001b[0m\u001b[1;33m\u001b[0m\u001b[0m\n\u001b[0;32m    383\u001b[0m         \u001b[1;32mif\u001b[0m \u001b[0mself\u001b[0m\u001b[1;33m.\u001b[0m\u001b[0m_exception\u001b[0m\u001b[1;33m:\u001b[0m\u001b[1;33m\u001b[0m\u001b[1;33m\u001b[0m\u001b[0m\n\u001b[1;32m--> 384\u001b[1;33m             \u001b[1;32mraise\u001b[0m \u001b[0mself\u001b[0m\u001b[1;33m.\u001b[0m\u001b[0m_exception\u001b[0m\u001b[1;33m\u001b[0m\u001b[1;33m\u001b[0m\u001b[0m\n\u001b[0m\u001b[0;32m    385\u001b[0m         \u001b[1;32melse\u001b[0m\u001b[1;33m:\u001b[0m\u001b[1;33m\u001b[0m\u001b[1;33m\u001b[0m\u001b[0m\n\u001b[0;32m    386\u001b[0m             \u001b[1;32mreturn\u001b[0m \u001b[0mself\u001b[0m\u001b[1;33m.\u001b[0m\u001b[0m_result\u001b[0m\u001b[1;33m\u001b[0m\u001b[1;33m\u001b[0m\u001b[0m\n",
      "\u001b[1;31mBrokenProcessPool\u001b[0m: A process in the process pool was terminated abruptly while the future was running or pending."
     ]
    }
   ],
   "source": [
    "# 진입점\n",
    "def main():\n",
    "    # Worker Count\n",
    "    # worker 수를 10개 혹은 리스트의 원소 갯수 중 최소값으로 지정한다.\n",
    "    worker = min(10, len(WORK_LIST))\n",
    "\n",
    "    start_tm = time.time()  # 시작 시간\n",
    "\n",
    "    # ProcessPoolExecutor\n",
    "    with futures.ProcessPoolExecutor() as excutor:\n",
    "        # map -> 작업 순서 유지, 즉시 실행\n",
    "        result = excutor.map(sum_generator, WORK_LIST)\n",
    "\n",
    "    end_tm = time.time() - start_tm  # 종료 시간\n",
    "    msg = '\\n Result -> {} Time : {:.2f}s'  # 출력 포맷\n",
    "    print(msg.format(list(result), end_tm))  # 최종 결과\n",
    "    \n",
    "#  시작점 명시적 작성\n",
    "if __name__ == '__main__':\n",
    "    main()"
   ]
  },
  {
   "cell_type": "markdown",
   "metadata": {},
   "source": [
    "**`ProcessPoolExecutor`**\n",
    "```python\n",
    "# ProcessPoolExecutor\n",
    "with futures.ProcessPoolExecutor() as excutor:\n",
    "    # map -> 작업 순서 유지, 즉시 실행\n",
    "    result = excutor.map(sum_generator, WORK_LIST)\n",
    "```\n",
    "- `ProcessPoolExecutor` 클래스는 프로세스 풀을 사용하여 호출을 비동기적으로 실행하는 `Executor` 서브 클래스입니다. \n",
    "- `ProcessPoolExecutor` 는 `multiprocessing` 모듈을 사용합니다. 전역 인터프리터 록 을 피할 수 있도록 하지만, 오직 피클 가능한 객체만 실행되고 반환될 수 있음을 의미합니다.\n",
    "\n",
    "\n",
    "- `__main__` 모듈은 작업자 서브 프로세스가 임포트 할 수 있어야 합니다. 즉, `ProcessPoolExecutor` 는 대화형 인터프리터에서 작동하지 않습니다.\n",
    "\n",
    "\n",
    "- 단순계산에서는 프로세스가 쓰레드를 사용하는 것보다 조금 더 빠르다."
   ]
  },
  {
   "cell_type": "markdown",
   "metadata": {},
   "source": [
    "### Thread and Process\n",
    "\n",
    "- 프로세스는 식당, 쓰레드는 종업원에 비유할 수 있다.\n",
    "\n",
    "\n",
    "- 싱글 쓰레드는 식당에 종업원이 한 명 있는 경우이다.\n",
    "    - 먼저 온 손님의 주문을 받고, 주방에서 조리하는 사이에 다른 손님의 주문을 받을 수 있다.\n",
    "- 멀티 쓰레드는 식당에 종업원이 여러명 있는 경우이다.\n",
    "    - 각 손님에게 종업원 한명씩 할당에 서빙할 수 있다. \n",
    "    - 하지만 손님이 없는 경우 자원의 낭비가 된다.\n",
    "    \n",
    "    \n",
    "- 프로세스는 식당에 비유할 수 있다. \n",
    "    - 하나의 식당(프로세스)는 하나의 프로그램이다.\n",
    "- 멀티 프로세스로 작업을 하면 각기 다른 식당(한식, 중식, 일식)이 동시에 일을 하여 나중에 음식을 합쳐 코스 요리로 낼 수 있게 된다.\n",
    "\n",
    "**Reference**\n",
    "- [프로세스와 쓰레드의 차이](https://gmlwjd9405.github.io/2018/09/14/process-vs-thread.html)\n",
    "\n",
    "#### 프로그램(Program) 이란\n",
    "\n",
    "- 사전적 의미\n",
    "    - “어떤 작업을 위해 실행할 수 있는 파일”\n",
    "\n",
    "#### 프로세스(Process) 란\n",
    "\n",
    "\n",
    "<img src=\"https://gmlwjd9405.github.io/images/os-process-and-thread/process.png\" alt=\"Process\" style=\"width: 500px;\"/>\n",
    "\n",
    "- 사전적 의미\n",
    "    - “컴퓨터에서 연속적으로 실행되고 있는 컴퓨터 프로그램”\n",
    "    - 메모리에 올라와 실행되고 있는 프로그램의 인스턴스(독립적인 개체)\n",
    "    - 운영체제로부터 시스템 자원을 할당받는 작업의 단위\n",
    "    - 즉, 동적인 개념으로는 실행된 프로그램을 의미한다.\n",
    "        \n",
    "\n",
    "- 참고: 할당받는 시스템 자원의 예\n",
    "    - CPU 시간\n",
    "    - 운영되기 위해 필요한 주소 공간\n",
    "    - Code, Data, Stack, Heap의 구조로 되어 있는 독립된 메모리 영역\n",
    "\n",
    "\n",
    "- 특징\n",
    "    - 프로세스는 각각 독립된 메모리 영역(Code, Data, Stack, Heap의 구조)을 할당받는다.\n",
    "    - 기본적으로 프로세스당 최소 1개의 스레드(메인 스레드)를 가지고 있다.\n",
    "    - 각 프로세스는 별도의 주소 공간에서 실행되며, 한 프로세스는 다른 프로세스의 변수나 자료구조에 접근할 수 없다.\n",
    "    - 한 프로세스가 다른 프로세스의 자원에 접근하려면 프로세스 간의 통신(IPC, inter-process communication)을 사용해야 한다.\n",
    "        - Ex. 파이프, 파일, 소켓 등을 이용한 통신 방법 이용\n",
    "\n",
    "        \n",
    "#### 스레드(Thread) 란\n",
    "\n",
    "<img src=\"https://gmlwjd9405.github.io/images/os-process-and-thread/thread.png\" alt=\"Thread\" style=\"width: 500px;\"/>\n",
    "\n",
    "- 사전적 의미\n",
    "    - “프로세스 내에서 실행되는 여러 흐름의 단위”\n",
    "    - 프로세스의 특정한 수행 경로\n",
    "    - 프로세스가 할당받은 자원을 이용하는 실행의 단위\n",
    "\n",
    "\n",
    "- 특징\n",
    "    - 스레드는 프로세스 내에서 각각 Stack만 따로 할당받고 Code, Data, Heap 영역은 공유한다.\n",
    "    - 스레드는 한 프로세스 내에서 동작되는 여러 실행의 흐름으로, 프로세스 내의 주소 공간이나 자원들(힙 공간 등)을 같은 프로세스 내에 스레드끼리 공유하면서 실행된다.\n",
    "    - 같은 프로세스 안에 있는 여러 스레드들은 같은 힙 공간을 공유한다. 반면에 프로세스는 다른 프로세스의 메모리에 직접 접근할 수 없다.\n",
    "    - 각각의 스레드는 별도의 레지스터와 스택을 갖고 있지만, 힙 메모리는 서로 읽고 쓸 수 있다.\n",
    "    - 한 스레드가 프로세스 자원을 변경하면, 다른 이웃 스레드(sibling thread)도 그 변경 결과를 즉시 볼 수 있다.\n",
    "\n",
    "\n",
    "#### 멀티 프로세스와 멀티 스레드의 차이\n",
    "##### 멀티 프로세스\n",
    "\n",
    "- 멀티 프로세싱이란\n",
    "    - 하나의 응용프로그램을 여러 개의 프로세스로 구성하여 각 프로세스가 하나의 작업(태스크)을 처리하도록 하는 것이다.\n",
    "\n",
    "\n",
    "- 장점\n",
    "    - 여러 개의 자식 프로세스 중 하나에 문제가 발생하면 그 자식 프로세스만 죽는 것 이상으로 다른 영향이 확산되지 않는다.\n",
    "\n",
    "\n",
    "- 단점\n",
    "    - Context Switching에서의 오버헤드\n",
    "        - Context Switching 과정에서 캐쉬 메모리 초기화 등 무거운 작업이 진행되고 많은 시간이 소모되는 등의 오버헤드가 발생하게 된다.\n",
    "        - 프로세스는 각각의 독립된 메모리 영역을 할당받았기 때문에 프로세스 사이에서 공유하는 메모리가 없어, Context Switching가 발생하면 캐쉬에 있는 모든 데이터를 모두 리셋하고 다시 캐쉬 정보를 불러와야 한다.\n",
    "\n",
    "    - 프로세스 사이의 어렵고 복잡한 통신 기법(IPC)\n",
    "        - 프로세스는 각각의 독립된 메모리 영역을 할당받았기 때문에 하나의 프로그램에 속하는 프로세스들 사이의 변수를 공유할 수 없다.\n",
    "\n",
    "\n",
    "\n",
    "- 참고 Context Switching란?\n",
    "    - CPU에서 여러 프로세스를 돌아가면서 작업을 처리하는 데 이 과정을 Context Switching라 한다.\n",
    "    - 구체적으로, 동작 중인 프로세스가 대기를 하면서 해당 프로세스의 상태(Context)를 보관하고, 대기하고 있던 다음 순서의 프로세스가 동작하면서 이전에 보관했던 프로세스의 상태를 복구하는 작업을 말한다. \n",
    "\n",
    "\n",
    "##### 멀티 스레드\n",
    "\n",
    "- 멀티 스레딩이란\n",
    "    - 하나의 응용프로그램을 여러 개의 스레드로 구성하고 각 스레드로 하여금 하나의 작업을 처리하도록 하는 것이다.\n",
    "    - 윈도우, 리눅스 등 많은 운영체제들이 멀티 프로세싱을 지원하고 있지만 멀티 스레딩을 기본으로 하고 있다.\n",
    "    - 웹 서버는 대표적인 멀티 스레드 응용 프로그램이다.\n",
    "\n",
    "\n",
    "- 장점\n",
    "    - 시스템 자원 소모 감소 (자원의 효율성 증대)\n",
    "        - 프로세스를 생성하여 자원을 할당하는 시스템 콜이 줄어들어 자원을 효율적으로 관리할 수 있다.\n",
    "    - 시스템 처리량 증가 (처리 비용 감소)\n",
    "        - 스레드 간 데이터를 주고 받는 것이 간단해지고 시스템 자원 소모가 줄어들게 된다.\n",
    "        - 스레드 사이의 작업량이 작아 Context Switching이 빠르다.\n",
    "    - 간단한 통신 방법으로 인한 프로그램 응답 시간 단축\n",
    "        - 스레드는 프로세스 내의 Stack 영역을 제외한 모든 메모리를 공유하기 때문에 통신의 부담이 적다.\n",
    "\n",
    "\n",
    "- 단점\n",
    "    - 주의 깊은 설계가 필요하다.\n",
    "    - 디버깅이 까다롭다.\n",
    "    - 단일 프로세스 시스템의 경우 효과를 기대하기 어렵다.\n",
    "    - 다른 프로세스에서 스레드를 제어할 수 없다. (즉, 프로세스 밖에서 스레드 각각을 제어할 수 없다.)\n",
    "    - 멀티 스레드의 경우 자원 공유의 문제가 발생한다. (동기화 문제)\n",
    "    - 하나의 스레드에 문제가 발생하면 전체 프로세스가 영향을 받는다.\n",
    "\n",
    "\n",
    "#### 멀티 프로세스 대신 멀티 스레드를 사용하는 이유?\n",
    "\n",
    "<img src=\"https://gmlwjd9405.github.io/images/os-process-and-thread/multi-thread.png\" alt=\"MultiThread\" style=\"width: 700px;\"/>\n",
    "\n",
    "- 멀티 프로세스 대신 멀티 스레드를 사용하는 것의 의미?\n",
    "    - 쉽게 설명하면, 프로그램을 여러 개 키는 것보다 하나의 프로그램 안에서 여러 작업을 해결하는 것이다.\n",
    "\n",
    "\n",
    "    - 여러 프로세스(멀티 프로세스)로 할 수 있는 작업들을 하나의 프로세스에서 여러 스레드로 나눠가면서 하는 이유?\n",
    "        - 자원의 효율성 증대\n",
    "            - 멀티 프로세스로 실행되는 작업을 멀티 스레드로 실행할 경우, 프로세스를 생성하여 자원을 할당하는 시스템 콜이 줄어들어 자원을 효율적으로 관리할 수 있다.\n",
    "        - –> 프로세스 간의 Context Switching시 단순히 CPU 레지스터 교체 뿐만 아니라 RAM과 CPU 사이의 캐쉬 메모리에 대한 데이터까지 초기화되므로 오버헤드가 크기 때문\n",
    "        - 스레드는 프로세스 내의 메모리를 공유하기 때문에 독립적인 프로세스와 달리 스레드 간 데이터를 주고 받는 것이 간단해지고 시스템 자원 소모가 줄어들게 된다.\n",
    "    - 처리 비용 감소 및 응답 시간 단축\n",
    "        - 또한 프로세스 간의 통신(IPC)보다 스레드 간의 통신의 비용이 적으므로 작업들 간의 통신의 부담이 줄어든다.\n",
    "    - –> 스레드는 Stack 영역을 제외한 모든 메모리를 공유하기 때문\n",
    "    - 프로세스 간의 전환 속도보다 스레드 간의 전환 속도가 빠르다.\n",
    "    - –> Context Switching시 스레드는 Stack 영역만 처리하기 때문\n",
    "\n",
    "- 주의할 점!\n",
    "    - 동기화 문제\n",
    "    - 스레드 간의 자원 공유는 전역 변수(데이터 세그먼트)를 이용하므로 함께 상용할 때 충돌이 발생할 수 있다.\n"
   ]
  },
  {
   "cell_type": "markdown",
   "metadata": {},
   "source": [
    "## 병렬성 2 - Futures\n",
    "- Futures wait 예제\n",
    "- Futures as_completed\n",
    "- 동시 실행 결과 출력\n",
    "- 동시성 처리 응용 예제 설명\n",
    "\n",
    "\n",
    "- 각각의 작업이 같은 시간이 걸린다는 보장이 없고 더구나 성공한다는 보장도 없다. \n",
    "- 이러한 세세한 작업 흐름을 컨트롤 해야 진정한 동시성 프로그래밍이라 할 수 있다.\n",
    "\n",
    "\n",
    "- GIL : 두 개 이상의 스레드가 동시에 실행 될 때 하나의 자원을 엑세스 하는 경우 -> 문제점을 방지하기 위해\n",
    "    - GIL 실행 , 리소스 전체에 락이 걸린다. -> Context Switch(문맥 교환)\n",
    "    - 대체: 멀티프로세싱 사용, CPython"
   ]
  },
  {
   "cell_type": "markdown",
   "metadata": {},
   "source": [
    "### `concurrent.futures.wait`\n",
    "\n",
    "- [concurrent.futures — 병렬 작업 실행하기](https://docs.python.org/ko/3/library/concurrent.futures.html)\n",
    "\n",
    "\n",
    "`concurrent.futures.wait(fs, timeout=None, return_when=ALL_COMPLETED)`\n",
    "\n",
    "- `fs` 로 주어진 여러 (서로 다른 `Executor` 인스턴스가 만든 것들도 가능합니다) `Future` 인스턴스들이 완료할 때까지 기다립니다. \n",
    "- 집합들의 이름있는 2-튜플을 돌려줍니다. \n",
    "- `done` 이라는 이름의 첫 번째 집합은 대기가 끝나기 전에 완료된 (끝났거나 취소된) 퓨처를 담고 있습니다. \n",
    "- `not_done` 이라는 이름의 두 번째 집합은 완료되지 않은 (계류 중이거나 실행 중인) 퓨처를 담고 있습니다."
   ]
  },
  {
   "cell_type": "code",
   "execution_count": 38,
   "metadata": {},
   "outputs": [],
   "source": [
    "import os\n",
    "import time\n",
    "from concurrent.futures import ThreadPoolExecutor, ProcessPoolExecutor, wait, as_completed\n",
    "\n",
    "WORK_LIST = [\n",
    "    100000000,\n",
    "    100000,\n",
    "    10000,\n",
    "    1000000,\n",
    "]\n",
    "\n",
    "\n",
    "# 동시성 합계 계산 메인 함수\n",
    "# 누적 합계 함수(제레네이터)\n",
    "def sum_generator(n):\n",
    "    return sum(n for n in range(1, n+1))"
   ]
  },
  {
   "cell_type": "code",
   "execution_count": 39,
   "metadata": {},
   "outputs": [
    {
     "name": "stdout",
     "output_type": "stream",
     "text": [
      "Scheduled for 100000000 : <Future at 0x2d2c825d5c8 state=running>\n",
      "Scheduled for 100000 : <Future at 0x2d2c9272648 state=running>\n",
      "Scheduled for 10000 : <Future at 0x2d2c92727c8 state=finished returned int>\n",
      "Scheduled for 1000000 : <Future at 0x2d2c824d648 state=running>\n",
      "\n",
      "Completed Tasks : {<Future at 0x2d2c92727c8 state=finished returned int>, <Future at 0x2d2c824d648 state=finished returned int>, <Future at 0x2d2c9272648 state=finished returned int>}\n",
      "\n",
      "Pending ones after waiting for 7 seconds : {<Future at 0x2d2c825d5c8 state=running>}\n",
      "\n",
      "Result : [50005000, 500000500000, 5000050000]\n",
      "\n",
      " Time : 7.40s\n"
     ]
    }
   ],
   "source": [
    "# wait\n",
    "def main():\n",
    "    worker = min(10, len(WORK_LIST))  # Worker 카운트\n",
    "    start_tm = time.time()  # 시작 시간\n",
    "    futures_list = []  # future\n",
    "\n",
    "    # ProcessPoolExecutor\n",
    "    with ThreadPoolExecutor() as excutor:\n",
    "        for work in WORK_LIST:\n",
    "            # future 반환(아직 실행되지 않는다. 미래에 할일을 반환할 뿐이다)\n",
    "            future = excutor.submit(sum_generator, work)\n",
    "\n",
    "            # 스케쥴링(4개의 일을 담는다)\n",
    "            futures_list.append(future)\n",
    "\n",
    "            # 스케쥴링 확인\n",
    "            print('Scheduled for {} : {}'.format(work, future))\n",
    "\n",
    "        print()\n",
    "\n",
    "        # wait 결과 출력\n",
    "        result = wait(futures_list, timeout=7)  # 7초까지 기다려주고 7초안에 끝내지 못하면 중단\n",
    "\n",
    "        print('Completed Tasks : ' + str(result.done))  # 성공 task 출력\n",
    "        print()\n",
    "        print('Pending ones after waiting for 7 seconds : ' +\n",
    "              str(result.not_done))  # 실패 task 출력\n",
    "        print()\n",
    "        print('Result : ', end=\"\")\n",
    "        print([future.result() for future in result.done])  # 결과 출력\n",
    "\n",
    "    end_tm = time.time() - start_tm  # 종료 시간\n",
    "    msg = '\\n Time : {:.2f}s'  # 출력 포맷\n",
    "    print(msg.format(end_tm))  # 최종 결과 출력\n",
    "\n",
    "\n",
    "# 실행\n",
    "if __name__ == '__main__':\n",
    "    main()"
   ]
  },
  {
   "cell_type": "markdown",
   "metadata": {},
   "source": [
    "- 계산하는데 7초가 넘은 것은 실패로 간주한다.\n",
    "- future 하나는 실패하였다.\n",
    "\n",
    "\n",
    "- `Excutor`의 `submit` 메소드\n",
    "    - `submit(fn, *args, **kwargs)`\n",
    "    - 콜러블 fn 이 `fn(*args **kwargs)` 처럼 실행되도록 예약하고, 콜러블 객체의 실행을 나타내는 Future 객체를 반환합니다.\n",
    "    \n",
    "- `wait`\n",
    "    ```python\n",
    "    # wait 결과 출력\n",
    "    result = wait(futures_list, timeout=7)  # 7초까지 기다려주고 7초안에 끝내지 못하면 중단\n",
    "    ```\n",
    "    - `wait`에 `timeout` 옵션을 넣어 7초까지 기다려주고 7초 안에 끝내지 못하면 중단한다.\n",
    "    - `timeout` 은 반환하기 전에 대기 할 최대 시간(초)을 제어하는 데 사용할 수 있습니다. "
   ]
  },
  {
   "cell_type": "markdown",
   "metadata": {},
   "source": [
    "### `concurrent.futures.as_completed`\n",
    "\n",
    "\n",
    "`concurrent.futures.as_completed(fs, timeout=None)`\n",
    "\n",
    "- `fs` 로 주어진 여러 (서로 다른 `Executor` 인스턴스가 만든 것들도 가능합니다) 퓨처들이 완료되는 대로 (끝났거나 취소된 퓨처) 일드 하는 `Future` 인스턴스의 이터레이터를 반환합니다. \n",
    "- `fs` 에 중복된 퓨처가 들어있으면 한 번만 반환됩니다. \n",
    "- `as_completed()` 가 호출되기 전에 완료한 모든 퓨처들이 먼저 일드 됩니다. \n",
    "- 반환된 이터레이터는, `__next__()` 가 호출되고, `as_completed()` 호출 시점으로부터 `timeout` 초 후에 결과를 얻을 수 없는 경우 `concurrent.futures.TimeoutError` 를 발생시킵니다. `timeout` 은 `int` 또는 `float`가 될 수 있습니다. `timeout` 이 지정되지 않았거나 None 인 경우, 대기 시간에는 제한이 없습니다.\n"
   ]
  },
  {
   "cell_type": "code",
   "execution_count": 40,
   "metadata": {},
   "outputs": [
    {
     "name": "stdout",
     "output_type": "stream",
     "text": [
      "Scheduled for 100000000 : <Future at 0x2d2c9278188 state=running>\n",
      "Scheduled for 100000 : <Future at 0x2d2c9272e08 state=finished returned int>\n",
      "Scheduled for 10000 : <Future at 0x2d2c9278c08 state=finished returned int>\n",
      "Scheduled for 1000000 : <Future at 0x2d2c9275088 state=running>\n",
      "\n",
      "Future Result : 50005000, Done : True\n",
      "Future Cancelled : <bound method Future.cancelled of <Future at 0x2d2c9278c08 state=finished returned int>>\n",
      "\n",
      "Future Result : 5000050000, Done : True\n",
      "Future Cancelled : <bound method Future.cancelled of <Future at 0x2d2c9272e08 state=finished returned int>>\n",
      "\n",
      "Future Result : 500000500000, Done : True\n",
      "Future Cancelled : <bound method Future.cancelled of <Future at 0x2d2c9275088 state=finished returned int>>\n",
      "\n",
      "Future Result : 5000000050000000, Done : True\n",
      "Future Cancelled : <bound method Future.cancelled of <Future at 0x2d2c9278188 state=finished returned int>>\n",
      "\n",
      "\n",
      " Time : 7.60s\n"
     ]
    }
   ],
   "source": [
    "# as_completed\n",
    "def main():\n",
    "    worker = min(10, len(WORK_LIST))  # Worker 카운트\n",
    "    start_tm = time.time()  # 시작 시간\n",
    "    futures_list = []  # future\n",
    "\n",
    "    # ProcessPoolExecutor\n",
    "    with ThreadPoolExecutor() as excutor:\n",
    "        for work in WORK_LIST:\n",
    "            # future 반환(아직 실행되지 않는다. 미래에 할일을 반환할 뿐이다)\n",
    "            future = excutor.submit(sum_generator, work)\n",
    "\n",
    "            # 스케쥴링(4개의 일을 담는다)\n",
    "            futures_list.append(future)\n",
    "\n",
    "            # 스케쥴링 확인\n",
    "            print('Scheduled for {} : {}'.format(work, future))\n",
    "\n",
    "        print()\n",
    "\n",
    "        # as_completed 결과 출력\n",
    "        for future in as_completed(futures_list):\n",
    "            result = future.result()  # 결과\n",
    "            done = future.done()  # 끝났는지\n",
    "            cancelled = future.cancelled  # 취소 됐는지\n",
    "\n",
    "            # future 결과 확인\n",
    "            print('Future Result : {}, Done : {}'.format(result, done))  # 완료\n",
    "            print('Future Cancelled : {}'.format(cancelled))  # 취소\n",
    "            print()\n",
    "\n",
    "    end_tm = time.time() - start_tm  # 종료 시간\n",
    "    msg = '\\n Time : {:.2f}s'  # 출력 포맷\n",
    "    print(msg.format(end_tm))  # 최종 결과 출력\n",
    "\n",
    "\n",
    "# 실행\n",
    "if __name__ == '__main__':\n",
    "    main()"
   ]
  },
  {
   "cell_type": "markdown",
   "metadata": {},
   "source": [
    "- `as_completed`는 먼저 끝나는 것이 먼저 반환된다.\n",
    "- 작업의 양이 작고 금방금방 처리한다면 `wait`으로 처리하고, 먼저 끝나는대로 작업을 해야할 때면 `as_completed`를 사용한다."
   ]
  },
  {
   "cell_type": "code",
   "execution_count": null,
   "metadata": {},
   "outputs": [],
   "source": []
  }
 ],
 "metadata": {
  "kernelspec": {
   "display_name": "Python 3",
   "language": "python",
   "name": "python3"
  },
  "language_info": {
   "codemirror_mode": {
    "name": "ipython",
    "version": 3
   },
   "file_extension": ".py",
   "mimetype": "text/x-python",
   "name": "python",
   "nbconvert_exporter": "python",
   "pygments_lexer": "ipython3",
   "version": "3.7.6"
  },
  "toc": {
   "base_numbering": 1,
   "nav_menu": {},
   "number_sections": true,
   "sideBar": true,
   "skip_h1_title": false,
   "title_cell": "Table of Contents",
   "title_sidebar": "Contents",
   "toc_cell": false,
   "toc_position": {},
   "toc_section_display": true,
   "toc_window_display": false
  },
  "varInspector": {
   "cols": {
    "lenName": 16,
    "lenType": 16,
    "lenVar": 40
   },
   "kernels_config": {
    "python": {
     "delete_cmd_postfix": "",
     "delete_cmd_prefix": "del ",
     "library": "var_list.py",
     "varRefreshCmd": "print(var_dic_list())"
    },
    "r": {
     "delete_cmd_postfix": ") ",
     "delete_cmd_prefix": "rm(",
     "library": "var_list.r",
     "varRefreshCmd": "cat(var_dic_list()) "
    }
   },
   "types_to_exclude": [
    "module",
    "function",
    "builtin_function_or_method",
    "instance",
    "_Feature"
   ],
   "window_display": false
  }
 },
 "nbformat": 4,
 "nbformat_minor": 4
}
