{
 "cells": [
  {
   "cell_type": "markdown",
   "metadata": {},
   "source": [
    "# 시퀀스\n",
    "\n",
    "- 시퀀스는 일렬로 나열이 되어있는데 순서가 있고 번호가 붙어있는 형태이다.\n",
    "\n",
    "\n",
    "- [Python Sequence](https://artofproblemsolving.com/wiki/index.php/Sequence_(Python))\n",
    "    - In Python, sequence is the generic term for an ordered set. There are several types of sequences in Python, the following three are the most important.\n",
    "        - Lists are the most versatile sequence type. The elements of a list can be any object, and lists are mutable - they can be changed. Elements can be reassigned or removed, and new elements can be inserted.\n",
    "\n",
    "        - Tuples are like lists, but they are immutable - they can't be changed.\n",
    "\n",
    "        - Strings are a special type of sequence that can only store characters, and they have a special notation. However, all of the sequence operations described below can also be used on strings. \n",
    "        \n",
    "        \n",
    "- 파이썬의 자료형은 컨테이너와 플랫으로 나뉜다.\n",
    "- 컨테이너는 서로 다른 자료형을 담을 수 있고 플랫은 단일 자료형만 담을 수 있다.\n",
    "    - 컨테이너(Container) : 서로 다른 자료형[list, tuple, collections.deque]\n",
    "    - Flat : 한 개의 자료형[str, bytes, bytearray, array.array, memoryview])\n",
    "    \n",
    "    \n",
    "\n",
    "- 또 가변형과 불변형으로 나눌 수 있다.\n",
    "    - 가변(list, bytearray, array.array, memoryview, deque)\n",
    "    - 불변(tuple, str, bytes)"
   ]
  },
  {
   "cell_type": "markdown",
   "metadata": {},
   "source": [
    "## 시퀀스 1\n",
    "\n"
   ]
  },
  {
   "cell_type": "markdown",
   "metadata": {},
   "source": [
    "### List comprehension\n",
    "- 리스트 타입은 시퀀스 형태이다."
   ]
  },
  {
   "cell_type": "code",
   "execution_count": 1,
   "metadata": {},
   "outputs": [
    {
     "name": "stdout",
     "output_type": "stream",
     "text": [
      "[43, 95, 41, 40, 42, 38, 94, 37, 36, 35, 64, 33, 126, 41]\n"
     ]
    }
   ],
   "source": [
    "# Non Comprehending Lists\n",
    "chars = '+_)(*&^%$#@!~)'  # 불변형\n",
    "code_list1 = []\n",
    "\n",
    "for s in chars:\n",
    "    # 유니코드 리스트\n",
    "    code_list1.append(ord(s))  # ord : 유니코드 리턴\n",
    "\n",
    "print(code_list1)"
   ]
  },
  {
   "cell_type": "markdown",
   "metadata": {},
   "source": [
    "- `ord`는 문자를 유니코드(숫자)로 리턴해준다"
   ]
  },
  {
   "cell_type": "code",
   "execution_count": 2,
   "metadata": {},
   "outputs": [
    {
     "name": "stdout",
     "output_type": "stream",
     "text": [
      "[43, 95, 41, 40, 42, 38, 94, 37, 36, 35, 64, 33, 126, 41]\n"
     ]
    }
   ],
   "source": [
    "# Comprehending Lists\n",
    "code_list2 = [ord(s) for s in chars]\n",
    "\n",
    "print(code_list2)"
   ]
  },
  {
   "cell_type": "markdown",
   "metadata": {},
   "source": [
    "- List Comprehension을 사용하면 속도면에서 약간 우세하다.\n",
    "\n",
    "- 큰 차이는 없지만 데이터가 많을 때 권장한다."
   ]
  },
  {
   "cell_type": "markdown",
   "metadata": {},
   "source": [
    "### map, filter"
   ]
  },
  {
   "cell_type": "code",
   "execution_count": 3,
   "metadata": {},
   "outputs": [
    {
     "data": {
      "text/plain": [
       "[43, 95, 41, 40, 42, 38, 94, 37, 36, 35, 64, 33, 126, 41]"
      ]
     },
     "execution_count": 3,
     "metadata": {},
     "output_type": "execute_result"
    }
   ],
   "source": [
    "# map\n",
    "list(map(ord, chars))"
   ]
  },
  {
   "cell_type": "markdown",
   "metadata": {},
   "source": [
    "- `map` 메소드로 chars를 ord로 변환하였다."
   ]
  },
  {
   "cell_type": "code",
   "execution_count": 4,
   "metadata": {},
   "outputs": [
    {
     "name": "stdout",
     "output_type": "stream",
     "text": [
      "[43, 95, 41, 42, 94, 64, 126, 41]\n",
      "[43, 95, 41, 42, 94, 64, 126, 41]\n"
     ]
    }
   ],
   "source": [
    "# Comprehending Lists + Map, Filter\n",
    "# 속도 약간 우세\n",
    "code_list3 = [ord(s) for s in chars if ord(s) > 40]\n",
    "code_list4 = list(filter(lambda x: x > 40, map(ord, chars)))\n",
    "\n",
    "print(code_list3)\n",
    "print(code_list4)"
   ]
  },
  {
   "cell_type": "markdown",
   "metadata": {},
   "source": [
    "- `filter` 함수는 두 개의 인자를 받는데 익명함수(함수)와 리스트와 같은 자료 구조형을 받는다."
   ]
  },
  {
   "cell_type": "code",
   "execution_count": 5,
   "metadata": {},
   "outputs": [
    {
     "name": "stdout",
     "output_type": "stream",
     "text": [
      "['+', '_', ')', '(', '*', '&', '^', '%', '$', '#', '@', '!', '~', ')']\n",
      "['+', '_', ')', '(', '*', '&', '^', '%', '$', '#', '@', '!', '~', ')']\n",
      "['+', '_', ')', '*', '^', '@', '~', ')']\n",
      "['+', '_', ')', '*', '^', '@', '~', ')']\n"
     ]
    }
   ],
   "source": [
    "print([chr(s) for s in code_list1])\n",
    "print([chr(s) for s in code_list2])\n",
    "print([chr(s) for s in code_list3])\n",
    "print([chr(s) for s in code_list4])"
   ]
  },
  {
   "cell_type": "markdown",
   "metadata": {},
   "source": [
    "### 제너레이터\n",
    "\n",
    "- 제너레이터는 시퀀스 결과를 반환하고, 다음에 반환할 값의 위치를 갖고 있다. 강력한 이터레이터라고 보면 된다.\n",
    "\n",
    "- `__iter__` 가 데이터 속성에 있으면 순회가 가능하다.\n",
    "\n",
    "- 제너레이터는 작은 메모리 조각으로 연속적인 메모리 조각을 만들어낼 수 있다.\n",
    "\n",
    "    - 예를 들어 1부터 1억까지의 숫자 리스트를 메모리에 직접 할당하면 부하가 걸린다. 하지만 1만 반환하고 다음에는 2를 반환할 위치정보만 갖고 있다면 메모리 사용량을 극히 아낄 수 있게 된다. \n",
    "\n",
    "    - 즉, 제너레이터는 연속적인 값을 만드는데 메모리 사용량을 줄일 수 있게 해준다."
   ]
  },
  {
   "cell_type": "code",
   "execution_count": 6,
   "metadata": {},
   "outputs": [
    {
     "name": "stdout",
     "output_type": "stream",
     "text": [
      "<class 'generator'>\n",
      "43\n"
     ]
    }
   ],
   "source": [
    "# Generator : 한 번에 한 개의 항목을 생성(메모리 유지X)\n",
    "tuple_g = (ord(s) for s in chars) # 괄호만 소괄호로 바꾸면 된다.\n",
    "\n",
    "print(type(tuple_g))\n",
    "print(next(tuple_g))"
   ]
  },
  {
   "cell_type": "markdown",
   "metadata": {},
   "source": [
    "- 괄호만 소괄호로 바꾸면 리스트 형태에서 제너레이터 형태로 된다.\n",
    "- 튜플 형태로 comprehension을 감싸고 print를 하면 값이 출력되는 것이 아니라 자료형이 출력된다. 이 말은 값을 아직 생성하지 않았고 반환할 준비만 했다는 뜻이다.\n",
    "\n",
    "- `next`로 호출하면 값을 하나씩 반환한다."
   ]
  },
  {
   "cell_type": "code",
   "execution_count": 7,
   "metadata": {},
   "outputs": [
    {
     "name": "stdout",
     "output_type": "stream",
     "text": [
      "['__class__', '__del__', '__delattr__', '__dir__', '__doc__', '__eq__', '__format__', '__ge__', '__getattribute__', '__gt__', '__hash__', '__init__', '__init_subclass__', '__iter__', '__le__', '__lt__', '__name__', '__ne__', '__new__', '__next__', '__qualname__', '__reduce__', '__reduce_ex__', '__repr__', '__setattr__', '__sizeof__', '__str__', '__subclasshook__', 'close', 'gi_code', 'gi_frame', 'gi_running', 'gi_yieldfrom', 'send', 'throw']\n"
     ]
    }
   ],
   "source": [
    "print(dir(tuple_g))"
   ]
  },
  {
   "cell_type": "markdown",
   "metadata": {},
   "source": [
    "### 파이썬 Array"
   ]
  },
  {
   "cell_type": "code",
   "execution_count": 8,
   "metadata": {},
   "outputs": [
    {
     "name": "stdout",
     "output_type": "stream",
     "text": [
      "<class 'generator'>\n",
      "95\n",
      "<class 'array.array'>\n",
      "[43, 95, 41, 40, 42, 38, 94, 37, 36, 35, 64, 33, 126, 41]\n"
     ]
    }
   ],
   "source": [
    "# Array\n",
    "import array\n",
    "\n",
    "array_g = array.array('I',  (ord(s) for s in chars))\n",
    "\n",
    "print(type(tuple_g))\n",
    "print(next(tuple_g))\n",
    "\n",
    "print(type(array_g))\n",
    "print(array_g.tolist())"
   ]
  },
  {
   "cell_type": "markdown",
   "metadata": {},
   "source": [
    "- 파이썬에도 Array를 지원한다.\n",
    "- Array는 리스트보다 좀 더 로우레벨에서 동작한다. 수치연산에 최적화되어 있다."
   ]
  },
  {
   "cell_type": "code",
   "execution_count": 9,
   "metadata": {},
   "outputs": [
    {
     "name": "stdout",
     "output_type": "stream",
     "text": [
      "<generator object <genexpr> at 0x00000192BC64E1C8>\n"
     ]
    }
   ],
   "source": [
    "# 제네레이터 예제(반 만들기)\n",
    "\n",
    "print(('%s' % c + str(n) for c in ['A', 'B', 'C', 'D'] for n in range(1, 11)))"
   ]
  },
  {
   "cell_type": "code",
   "execution_count": 10,
   "metadata": {},
   "outputs": [
    {
     "name": "stdout",
     "output_type": "stream",
     "text": [
      "A1\n",
      "A2\n",
      "A3\n",
      "A4\n",
      "A5\n",
      "A6\n",
      "A7\n",
      "A8\n",
      "A9\n",
      "A10\n",
      "B1\n",
      "B2\n",
      "B3\n",
      "B4\n",
      "B5\n",
      "B6\n",
      "B7\n",
      "B8\n",
      "B9\n",
      "B10\n",
      "C1\n",
      "C2\n",
      "C3\n",
      "C4\n",
      "C5\n",
      "C6\n",
      "C7\n",
      "C8\n",
      "C9\n",
      "C10\n",
      "D1\n",
      "D2\n",
      "D3\n",
      "D4\n",
      "D5\n",
      "D6\n",
      "D7\n",
      "D8\n",
      "D9\n",
      "D10\n"
     ]
    }
   ],
   "source": [
    "# 하나 출력하고 하나 만든다\n",
    "\n",
    "for s in ('%s' % c + str(n) for c in ['A', 'B', 'C', 'D'] for n in range(1, 11)):\n",
    "    print(s)"
   ]
  },
  {
   "cell_type": "markdown",
   "metadata": {},
   "source": [
    "### 얕은 복사, 깊은 복사"
   ]
  },
  {
   "cell_type": "code",
   "execution_count": 11,
   "metadata": {},
   "outputs": [
    {
     "name": "stdout",
     "output_type": "stream",
     "text": [
      "[['~', '~', '~'], ['~', '~', '~'], ['~', '~', '~'], ['~', '~', '~']]\n",
      "[['~', '~', '~'], ['~', '~', '~'], ['~', '~', '~'], ['~', '~', '~']]\n"
     ]
    }
   ],
   "source": [
    "# 리스트 주의\n",
    "\n",
    "marks1 = [['~'] * 3 for _ in range(4)]  # Deep Copy, 사용하지 않는 원소 _ 처리\n",
    "marks2 = [['~'] * 3] * 4 # Shallow Copy\n",
    "\n",
    "print(marks1)\n",
    "print(marks2)"
   ]
  },
  {
   "cell_type": "code",
   "execution_count": 12,
   "metadata": {},
   "outputs": [
    {
     "name": "stdout",
     "output_type": "stream",
     "text": [
      "[['~', 'X', '~'], ['~', '~', '~'], ['~', '~', '~'], ['~', '~', '~']]\n",
      "[['~', 'X', '~'], ['~', 'X', '~'], ['~', 'X', '~'], ['~', 'X', '~']]\n"
     ]
    }
   ],
   "source": [
    "# 수정\n",
    "marks1[0][1] = 'X'\n",
    "marks2[0][1] = 'X'\n",
    "\n",
    "print(marks1)\n",
    "print(marks2)"
   ]
  },
  {
   "cell_type": "markdown",
   "metadata": {},
   "source": [
    "- 수정을 하면 하나만 바뀌는 것이 아니라 다 바뀐다.\n",
    "\n",
    "- 첫번째는 id 값이 다른 `깊은 복사`이고, 두번째는 id값이 동일한 `얕은 복사`이기 때문이다."
   ]
  },
  {
   "cell_type": "code",
   "execution_count": 13,
   "metadata": {},
   "outputs": [
    {
     "name": "stdout",
     "output_type": "stream",
     "text": [
      "[1729737344648, 1729737506312, 1729737308872, 1729737307016]\n",
      "[1729737309704, 1729737309704, 1729737309704, 1729737309704]\n"
     ]
    }
   ],
   "source": [
    "# 증명\n",
    "print([id(i) for i in marks1])\n",
    "print([id(i) for i in marks2])"
   ]
  },
  {
   "cell_type": "markdown",
   "metadata": {},
   "source": [
    "### Summary\n",
    "- 리스트(List)는 다양한 자료형을 다룰 때 사용하고 숫자 기반으로는 배열(Array)을 사용하면 된다.\n",
    "    - 리스트 기반 : 융통성, 다양한 자료형, 범용적 사용\n",
    "    - 숫자 기반 : 배열(리스트와 거의 호환)"
   ]
  },
  {
   "cell_type": "markdown",
   "metadata": {},
   "source": [
    "## 시퀀스 2\n",
    "- 튜플(Tuple) 고급 사용\n",
    "- Mutable(가변)\n",
    "- Immutable(불변)\n",
    "- Sort vs Sorted 실습\n",
    "\n",
    "### 튜플 고급 사용 - 패킹, 언패킹\n"
   ]
  },
  {
   "cell_type": "code",
   "execution_count": 14,
   "metadata": {},
   "outputs": [
    {
     "name": "stdout",
     "output_type": "stream",
     "text": [
      "(11, 1)\n",
      "(11, 1)\n",
      "11 1\n"
     ]
    }
   ],
   "source": [
    "print(divmod(100, 9))  # 몫과 나머지 반환\n",
    "print(divmod(*(100, 9)))  # 튜플을 언패킹 해서 삽입\n",
    "print(*(divmod(100, 9)))  # 결과값을 푼다"
   ]
  },
  {
   "cell_type": "code",
   "execution_count": 15,
   "metadata": {},
   "outputs": [
    {
     "name": "stdout",
     "output_type": "stream",
     "text": [
      "0 1 [2, 3, 4, 5, 6, 7, 8, 9]\n",
      "0 1 []\n",
      "1 2 [3, 4, 5]\n"
     ]
    }
   ],
   "source": [
    "x, y, *rest = range(10)  # x, y 외 나머지 값들은 리스트에 패킹\n",
    "print(x, y, rest)\n",
    "x, y, *rest = range(2)\n",
    "print(x, y, rest)\n",
    "x, y, *rest = 1, 2, 3, 4, 5\n",
    "print(x, y, rest)"
   ]
  },
  {
   "cell_type": "markdown",
   "metadata": {},
   "source": [
    "- `*rest` 를 이용하면 남는 부분들은 리스트에 패킹된다."
   ]
  },
  {
   "cell_type": "code",
   "execution_count": 16,
   "metadata": {},
   "outputs": [
    {
     "name": "stdout",
     "output_type": "stream",
     "text": [
      "Mutable:  (15, 20, 25) 1729736610424\n",
      "Immutable:  [15, 20, 25] 1729737300232\n",
      "\n",
      "Mutable:  1729711603240\n",
      "Immutable:  1729737299784\n",
      "\n",
      "Mutable:  1729736954216\n",
      "Immutable:  1729737299784\n"
     ]
    }
   ],
   "source": [
    "# Mutable(가변) vs Immutable(불변)\n",
    "\n",
    "l = (15, 20, 25)  # 불변형 Immutable\n",
    "m = [15, 20, 25]  # 가변형 Mutable\n",
    "\n",
    "print(\"Mutable: \", l, id(l))\n",
    "print(\"Immutable: \", m, id(m))\n",
    "print()\n",
    "\n",
    "l = l * 2  # 불변형에 연산\n",
    "m = m * 2\n",
    "\n",
    "print(\"Mutable: \", id(l))\n",
    "print(\"Immutable: \", id(m))\n",
    "print()\n",
    "\n",
    "l *= 2  # 불변형에 연산\n",
    "m *= 2\n",
    "\n",
    "print(\"Mutable: \", id(l))\n",
    "print(\"Immutable: \", id(m))"
   ]
  },
  {
   "cell_type": "markdown",
   "metadata": {},
   "source": [
    "- 불변형에 연산을 하면 id가 바뀐다. 즉 새로운 객체가 할당된다는 뜻이다."
   ]
  },
  {
   "cell_type": "markdown",
   "metadata": {},
   "source": [
    "### sorted vs sort\n",
    "\n",
    "- `sorted`는 정렬 후 새로운 객체를 반환한다. 원본이 수정 안된다.\n",
    "\n",
    "- `sort`는 정렬 후 객체를 직접 변경하기 때문에 원본이 수정된다."
   ]
  },
  {
   "cell_type": "code",
   "execution_count": 17,
   "metadata": {},
   "outputs": [
    {
     "name": "stdout",
     "output_type": "stream",
     "text": [
      "sorted - ['apple', 'coconut', 'lemon', 'mango', 'orange', 'papaya', 'strawberry']\n",
      "sorted - ['strawberry', 'papaya', 'orange', 'mango', 'lemon', 'coconut', 'apple']\n",
      "sorted - ['apple', 'mango', 'lemon', 'orange', 'papaya', 'coconut', 'strawberry']\n",
      "sorted - ['papaya', 'orange', 'apple', 'lemon', 'mango', 'coconut', 'strawberry']\n",
      "sorted - ['strawberry', 'coconut', 'mango', 'lemon', 'orange', 'apple', 'papaya']\n",
      "\n",
      "sorted - ['orange', 'apple', 'mango', 'papaya', 'lemon', 'strawberry', 'coconut']\n"
     ]
    }
   ],
   "source": [
    "# sort vs sorted\n",
    "# reverse, key=len, key=str.lower, key=func..\n",
    "\n",
    "# sorted : 정렬 후 새로운 객체 반환\n",
    "f_list = ['orange', 'apple', 'mango',\n",
    "          'papaya', 'lemon', 'strawberry', 'coconut']\n",
    "\n",
    "print('sorted -', sorted(f_list))  # 기본 오름차순\n",
    "print('sorted -', sorted(f_list, reverse=True))  # 역순 출력\n",
    "print('sorted -', sorted(f_list, key=len))  # 문자의 길이 순으로 정렬\n",
    "\n",
    "print('sorted -', sorted(f_list, key=lambda x: x[-1])) # key에 함수 직접 입력 가능 끝 글자 기준\n",
    "print('sorted -', sorted(f_list, key=lambda x: x[-1], reverse=True)) # 위 결과 반대로\n",
    "print() \n",
    "\n",
    "print('sorted -', f_list)  # 원본 출력"
   ]
  },
  {
   "cell_type": "markdown",
   "metadata": {},
   "source": [
    "- `sorted`는 원본이 보존된다."
   ]
  },
  {
   "cell_type": "code",
   "execution_count": 18,
   "metadata": {},
   "outputs": [
    {
     "name": "stdout",
     "output_type": "stream",
     "text": [
      "sort - None ['apple', 'coconut', 'lemon', 'mango', 'orange', 'papaya', 'strawberry']\n",
      "sort - None ['strawberry', 'papaya', 'orange', 'mango', 'lemon', 'coconut', 'apple']\n",
      "sort - None ['mango', 'lemon', 'apple', 'papaya', 'orange', 'coconut', 'strawberry']\n",
      "sort - None ['papaya', 'apple', 'orange', 'lemon', 'mango', 'coconut', 'strawberry']\n",
      "sort - None ['strawberry', 'coconut', 'mango', 'lemon', 'apple', 'orange', 'papaya']\n"
     ]
    }
   ],
   "source": [
    "# sort : 정렬 후 객체 직접 변경\n",
    "\n",
    "# 반환 값 확인(None)\n",
    "print('sort -', f_list.sort(), f_list) # 기본 오름차순\n",
    "print('sort -', f_list.sort(reverse=True), f_list) # 역순\n",
    "print('sort -', f_list.sort(key=len), f_list) # 문자 길이 순으로 정렬\n",
    "print('sort -', f_list.sort(key=lambda x: x[-1]), f_list) # key로 람다 함수 입력\n",
    "print('sort -', f_list.sort(key=lambda x: x[-1], reverse=True), f_list) # 위의 역순"
   ]
  },
  {
   "cell_type": "markdown",
   "metadata": {},
   "source": [
    "- `sort`는 반환값이 None이다. 원본이 수정된다."
   ]
  },
  {
   "cell_type": "markdown",
   "metadata": {},
   "source": [
    "## 시퀀스 3\n",
    "- 해시 테이블(Hashtable)\n",
    "- Dict 생성 고급 예지\n",
    "- Setdefault 사용법"
   ]
  },
  {
   "cell_type": "markdown",
   "metadata": {},
   "source": [
    "### 해시 테이블\n",
    "- 해시 테이블은 `Key`에 `Value`를 저장하는 구조를 말한다.\n",
    "    - 적은 리소스로 많은 데이터들을 효율적으로 관리하게 해준다.\n",
    "    - 파이썬 언어 자체가 강력한 헤시 테이블 엔진으로 구성되어 있다.\n",
    "    \n",
    "\n",
    "- 딕셔너리 자료구조가 기본 형태로 있다.\n",
    "    - 딕셔너리는 key값의 중복이 허용 안된다. (set은 허용된다)\n",
    "    \n",
    "\n",
    "- 키 값의 연산 결과에 따라 직접 접근이 가능한 구조이다.\n",
    "\n",
    "- key 값을 해싱 함수로 해쉬 주소를 알아내고 key에 대한 value를 참조할 수 있게 된다."
   ]
  },
  {
   "cell_type": "code",
   "execution_count": 19,
   "metadata": {},
   "outputs": [],
   "source": [
    "# Dict 구조\n",
    "# print(__builtins__.__dict__)"
   ]
  },
  {
   "cell_type": "code",
   "execution_count": 20,
   "metadata": {},
   "outputs": [
    {
     "name": "stdout",
     "output_type": "stream",
     "text": [
      "5737367089334957572\n"
     ]
    }
   ],
   "source": [
    "# Hash 값 확인\n",
    "t1 = (10, 20, (30, 40, 50)) # 튜플\n",
    "t2 = (10, 20, [30, 40, 50]) # 리스트\n",
    "\n",
    "print(hash(t1))\n",
    "# print(hash(t2))  # 예외(리스트는 안된다.)"
   ]
  },
  {
   "cell_type": "markdown",
   "metadata": {},
   "source": [
    "- Hash 값을 확인 할 수 있다는 것은 고유하다는 뜻이다.\n",
    "\n",
    "- t2의 리스트는 수정이 가능하므로 해시 함수를 사용할 수 없다.\n",
    "\n",
    "- 해시 함수에는 불변형이 들어가야 한다."
   ]
  },
  {
   "cell_type": "markdown",
   "metadata": {},
   "source": [
    "### setdefault\n",
    "- 튜플로 나열된 값을 딕셔너리로 만들고 싶다."
   ]
  },
  {
   "cell_type": "code",
   "execution_count": 21,
   "metadata": {},
   "outputs": [],
   "source": [
    "# Dict Setdefault 예제\n",
    "source = (('k1', 'val1'),\n",
    "          ('k1', 'val2'),\n",
    "          ('k2', 'val3'),\n",
    "          ('k2', 'val4'),\n",
    "          ('k2', 'val5'))\n",
    "\n",
    "new_dict1 = {}\n",
    "new_dict2 = {}"
   ]
  },
  {
   "cell_type": "code",
   "execution_count": 22,
   "metadata": {},
   "outputs": [
    {
     "name": "stdout",
     "output_type": "stream",
     "text": [
      "{'k1': ['val1', 'val2'], 'k2': ['val3', 'val4', 'val5']}\n"
     ]
    }
   ],
   "source": [
    "# No use setdefault\n",
    "\n",
    "for k, v in source:\n",
    "    if k in new_dict1:\n",
    "        new_dict1[k].append(v)\n",
    "    else:\n",
    "        new_dict1[k] = [v]\n",
    "\n",
    "print(new_dict1)"
   ]
  },
  {
   "cell_type": "markdown",
   "metadata": {},
   "source": [
    "- `Setdefault`를 사용하지 않으면 if 문을 사용해야 한다."
   ]
  },
  {
   "cell_type": "code",
   "execution_count": 23,
   "metadata": {},
   "outputs": [
    {
     "name": "stdout",
     "output_type": "stream",
     "text": [
      "{'k1': ['val1', 'val2'], 'k2': ['val3', 'val4', 'val5']}\n"
     ]
    }
   ],
   "source": [
    "# Use setdefault\n",
    "\n",
    "for k, v in source:\n",
    "    new_dict2.setdefault(k, []).append(v) # 리스트에 v 값을 append 한다\n",
    "\n",
    "print(new_dict2)"
   ]
  },
  {
   "cell_type": "markdown",
   "metadata": {},
   "source": [
    "- `Setdefault`는 속도에서 이점이 있다."
   ]
  },
  {
   "cell_type": "code",
   "execution_count": 24,
   "metadata": {},
   "outputs": [
    {
     "name": "stdout",
     "output_type": "stream",
     "text": [
      "{'k1': 'val2', 'k2': 'val5'}\n"
     ]
    }
   ],
   "source": [
    "# 주의\n",
    "new_dict3 = {k: v for k, v in source}\n",
    "\n",
    "print(new_dict3)"
   ]
  },
  {
   "cell_type": "markdown",
   "metadata": {},
   "source": [
    "- 키가 중복되면 나중 값으로 덮어 씌운다."
   ]
  },
  {
   "cell_type": "markdown",
   "metadata": {},
   "source": [
    "## 시퀀스 4\n",
    "- 해시 테이블(Hashtable)\n",
    "    - 해시테이블은 적은 리소스로 많은 데이터를 효율적으로 관리할 수 있는 자료구조이다.\n",
    "\n",
    "    - 딕셔너리는 키의 중복을 허용하지 않고, 셋도 중복을 하용하지 않는다.\n",
    "- Immutable Dict 생성\n",
    "- 지능형 Set\n",
    "- Set 선언 최적화"
   ]
  },
  {
   "cell_type": "markdown",
   "metadata": {},
   "source": [
    "### Immutable Dict"
   ]
  },
  {
   "cell_type": "code",
   "execution_count": 25,
   "metadata": {},
   "outputs": [
    {
     "name": "stdout",
     "output_type": "stream",
     "text": [
      "{'key1': 'value1'} 1729737607832\n",
      "{'key1': 'value1'} 1729737538008\n",
      "False True\n",
      "{'key1': 'value1', 'key2': 'value2'}\n"
     ]
    }
   ],
   "source": [
    "from types import MappingProxyType\n",
    "\n",
    "d = {'key1': 'value1'}\n",
    "\n",
    "# Read Only\n",
    "d_frozen = MappingProxyType(d)  # 수정 불가 딕셔너리\n",
    "\n",
    "print(d, id(d))\n",
    "print(d_frozen, id(d_frozen))\n",
    "print(d is d_frozen, d == d_frozen)\n",
    "\n",
    "# 수정 불가\n",
    "# d_frozen['key1'] = 'value2'\n",
    "\n",
    "d['key2'] = 'value2'\n",
    "\n",
    "print(d)"
   ]
  },
  {
   "cell_type": "markdown",
   "metadata": {},
   "source": [
    "- `MappingProxyType`을 이용하면 읽기 전용 딕셔너리를 만들 수 있다.\n",
    "- 수정 불가 딕셔너리이지만 해시 값을 지원하지 않는다."
   ]
  },
  {
   "cell_type": "markdown",
   "metadata": {},
   "source": [
    "### frozenset"
   ]
  },
  {
   "cell_type": "code",
   "execution_count": 26,
   "metadata": {},
   "outputs": [
    {
     "name": "stdout",
     "output_type": "stream",
     "text": [
      "{'Orange', 'Melon', 'Kiwi', 'Apple'} <class 'set'>\n",
      "{'Orange', 'Kiwi', 'Apple'} <class 'set'>\n",
      "{3} <class 'set'>\n",
      "set() <class 'set'>\n",
      "frozenset({'Orange', 'Kiwi', 'Apple'}) <class 'frozenset'>\n"
     ]
    }
   ],
   "source": [
    "s1 = {'Apple', 'Orange', 'Apple', 'Orange', 'Kiwi'}\n",
    "s2 = set(['Apple', 'Orange', 'Apple', 'Orange', 'Kiwi'])\n",
    "s3 = {3}\n",
    "s4 = set()  # Not {}\n",
    "s5 = frozenset({'Apple', 'Orange', 'Apple', 'Orange', 'Kiwi'})  # 수정 불가\n",
    "\n",
    "# 추가\n",
    "s1.add('Melon')\n",
    "\n",
    "# 추가 불가\n",
    "# s5.add('Melon')\n",
    "\n",
    "print(s1, type(s1))\n",
    "print(s2, type(s2))\n",
    "print(s3, type(s3))\n",
    "print(s4, type(s4))\n",
    "print(s5, type(s5)) # frozenset"
   ]
  },
  {
   "cell_type": "markdown",
   "metadata": {},
   "source": [
    "- `frozenset`은 읽기 전용 `set`을 만들어준다."
   ]
  },
  {
   "cell_type": "markdown",
   "metadata": {},
   "source": [
    "### 선언 최적화"
   ]
  },
  {
   "cell_type": "code",
   "execution_count": 27,
   "metadata": {},
   "outputs": [
    {
     "name": "stdout",
     "output_type": "stream",
     "text": [
      "--------------------------------------------------\n",
      "  1           0 LOAD_CONST               0 (10)\n",
      "              2 BUILD_SET                1\n",
      "              4 RETURN_VALUE\n",
      "None\n",
      "--------------------------------------------------\n",
      "  1           0 LOAD_NAME                0 (set)\n",
      "              2 LOAD_CONST               0 (10)\n",
      "              4 BUILD_LIST               1\n",
      "              6 CALL_FUNCTION            1\n",
      "              8 RETURN_VALUE\n",
      "None\n",
      "--------------------------------------------------\n"
     ]
    }
   ],
   "source": [
    "from dis import dis\n",
    "\n",
    "print('-' * 50)\n",
    "print(dis('{10}')) # {}으로 집합 선언\n",
    "\n",
    "print('-' * 50)\n",
    "print(dis('set([10])')) # set으로 집합 선언\n",
    "print('-' * 50)"
   ]
  },
  {
   "cell_type": "markdown",
   "metadata": {},
   "source": [
    "- `{}`으로 집합 선언한 것은 내부적으로 과정이 세 과정이고 `set`으로 집합 선언한 것은 이보다 많다.\n",
    "\n",
    "- 그래서 집합을 선언할 때는 `set`을 이용하는 것보다 `{}`로 선언하는게 성능면에서 더 좋다."
   ]
  },
  {
   "cell_type": "markdown",
   "metadata": {},
   "source": [
    "### 지능형 집합(Comprehending Set)"
   ]
  },
  {
   "cell_type": "code",
   "execution_count": 28,
   "metadata": {},
   "outputs": [
    {
     "name": "stdout",
     "output_type": "stream",
     "text": [
      "{'', 'GREATER-THAN SIGN', 'SPACE', 'YEN SIGN', 'LATIN CAPITAL LETTER I', 'LATIN CAPITAL LETTER O WITH STROKE', 'DIGIT FIVE', 'LATIN SMALL LETTER R', 'LATIN SMALL LETTER Y', 'LATIN CAPITAL LETTER I WITH DIAERESIS', 'CEDILLA', 'INVERTED QUESTION MARK', 'VULGAR FRACTION THREE QUARTERS', 'GRAVE ACCENT', 'LATIN CAPITAL LETTER K', 'SUPERSCRIPT ONE', 'LATIN SMALL LETTER C WITH CEDILLA', 'MIDDLE DOT', 'LATIN SMALL LETTER U WITH DIAERESIS', 'APOSTROPHE', 'REVERSE SOLIDUS', 'LATIN SMALL LETTER A WITH DIAERESIS', 'EXCLAMATION MARK', 'LATIN SMALL LETTER M', 'ASTERISK', 'LATIN CAPITAL LETTER I WITH GRAVE', 'LATIN CAPITAL LETTER C', 'LATIN SMALL LETTER V', 'SEMICOLON', 'LATIN SMALL LETTER Z', 'VULGAR FRACTION ONE QUARTER', 'LESS-THAN SIGN', 'LATIN SMALL LETTER L', 'LATIN SMALL LETTER O', 'RIGHT-POINTING DOUBLE ANGLE QUOTATION MARK', 'LATIN SMALL LETTER I WITH GRAVE', 'LATIN CAPITAL LETTER E WITH DIAERESIS', 'LATIN SMALL LETTER A', 'LATIN SMALL LETTER G', 'LATIN CAPITAL LETTER O WITH DIAERESIS', 'DIGIT ZERO', 'LATIN CAPITAL LETTER J', 'DOLLAR SIGN', 'SOLIDUS', 'LATIN SMALL LETTER I WITH CIRCUMFLEX', 'QUESTION MARK', 'LATIN CAPITAL LETTER O WITH ACUTE', 'LATIN CAPITAL LETTER T', 'LATIN SMALL LETTER B', 'DIGIT NINE', 'LATIN CAPITAL LETTER O', 'BROKEN BAR', 'PILCROW SIGN', 'LATIN CAPITAL LETTER E', 'LATIN CAPITAL LETTER THORN', 'LATIN CAPITAL LETTER A WITH RING ABOVE', 'LATIN SMALL LETTER A WITH TILDE', 'RIGHT SQUARE BRACKET', 'LATIN SMALL LETTER ETH', 'FEMININE ORDINAL INDICATOR', 'LATIN CAPITAL LETTER N WITH TILDE', 'LATIN SMALL LETTER D', 'LATIN CAPITAL LETTER AE', 'LATIN SMALL LETTER E WITH CIRCUMFLEX', 'DIGIT FOUR', 'FULL STOP', 'LATIN SMALL LETTER Q', 'LATIN SMALL LETTER Y WITH ACUTE', 'LATIN SMALL LETTER THORN', 'RIGHT PARENTHESIS', 'LATIN CAPITAL LETTER I WITH CIRCUMFLEX', 'LATIN CAPITAL LETTER Z', 'LATIN SMALL LETTER N', 'DIVISION SIGN', 'AMPERSAND', 'LATIN CAPITAL LETTER H', 'LATIN CAPITAL LETTER O WITH TILDE', 'LATIN CAPITAL LETTER V', 'DIGIT ONE', 'DEGREE SIGN', 'LATIN SMALL LETTER O WITH DIAERESIS', 'LATIN CAPITAL LETTER A WITH DIAERESIS', 'LATIN CAPITAL LETTER D', 'SOFT HYPHEN', 'LATIN SMALL LETTER I WITH ACUTE', 'LATIN SMALL LETTER A WITH RING ABOVE', 'SECTION SIGN', 'LATIN SMALL LETTER N WITH TILDE', 'QUOTATION MARK', 'LATIN CAPITAL LETTER Q', 'LATIN SMALL LETTER U WITH CIRCUMFLEX', 'COMMA', 'LATIN CAPITAL LETTER A WITH ACUTE', 'HYPHEN-MINUS', 'RIGHT CURLY BRACKET', 'LATIN CAPITAL LETTER A WITH GRAVE', 'LATIN CAPITAL LETTER U WITH GRAVE', 'LATIN SMALL LETTER H', 'DIGIT TWO', 'LATIN CAPITAL LETTER W', 'LATIN SMALL LETTER O WITH ACUTE', 'LATIN CAPITAL LETTER M', 'LATIN SMALL LETTER S', 'COPYRIGHT SIGN', 'LATIN CAPITAL LETTER E WITH CIRCUMFLEX', 'LATIN SMALL LETTER E WITH ACUTE', 'COMMERCIAL AT', 'LATIN CAPITAL LETTER Y WITH ACUTE', 'LATIN CAPITAL LETTER A WITH CIRCUMFLEX', 'LATIN SMALL LETTER I', 'LATIN SMALL LETTER A WITH GRAVE', 'INVERTED EXCLAMATION MARK', 'LATIN SMALL LETTER SHARP S', 'LATIN SMALL LETTER O WITH GRAVE', 'LATIN SMALL LETTER W', 'MASCULINE ORDINAL INDICATOR', 'LATIN SMALL LETTER J', 'PERCENT SIGN', 'NOT SIGN', 'LATIN CAPITAL LETTER E WITH GRAVE', 'SUPERSCRIPT TWO', 'LEFT PARENTHESIS', 'DIGIT SEVEN', 'VULGAR FRACTION ONE HALF', 'LATIN SMALL LETTER A WITH ACUTE', 'VERTICAL LINE', 'LATIN CAPITAL LETTER R', 'LATIN CAPITAL LETTER Y', 'COLON', 'LATIN CAPITAL LETTER O WITH GRAVE', 'LATIN CAPITAL LETTER ETH', 'LATIN CAPITAL LETTER U WITH CIRCUMFLEX', 'NUMBER SIGN', 'LATIN CAPITAL LETTER A WITH TILDE', 'LATIN CAPITAL LETTER S', 'SUPERSCRIPT THREE', 'LATIN SMALL LETTER AE', 'LATIN SMALL LETTER O WITH STROKE', 'LATIN SMALL LETTER U WITH ACUTE', 'LATIN SMALL LETTER F', 'LATIN SMALL LETTER I WITH DIAERESIS', 'EQUALS SIGN', 'LATIN SMALL LETTER C', 'DIGIT SIX', 'LATIN CAPITAL LETTER L', 'LATIN SMALL LETTER O WITH TILDE', 'LATIN CAPITAL LETTER P', 'LATIN CAPITAL LETTER F', 'DIGIT EIGHT', 'LATIN CAPITAL LETTER N', 'LATIN SMALL LETTER X', 'LATIN CAPITAL LETTER A', 'NO-BREAK SPACE', 'POUND SIGN', 'LATIN SMALL LETTER U', 'PLUS SIGN', 'LATIN CAPITAL LETTER C WITH CEDILLA', 'LATIN SMALL LETTER E', 'LEFT CURLY BRACKET', 'LATIN CAPITAL LETTER E WITH ACUTE', 'DIAERESIS', 'LATIN SMALL LETTER T', 'DIGIT THREE', 'LATIN SMALL LETTER P', 'CURRENCY SIGN', 'PLUS-MINUS SIGN', 'LATIN CAPITAL LETTER U WITH DIAERESIS', 'TILDE', 'MICRO SIGN', 'LATIN CAPITAL LETTER X', 'LATIN CAPITAL LETTER U WITH ACUTE', 'ACUTE ACCENT', 'LATIN CAPITAL LETTER B', 'REGISTERED SIGN', 'CIRCUMFLEX ACCENT', 'LATIN SMALL LETTER A WITH CIRCUMFLEX', 'LATIN CAPITAL LETTER G', 'LATIN CAPITAL LETTER I WITH ACUTE', 'LEFT SQUARE BRACKET', 'LATIN CAPITAL LETTER U', 'LATIN SMALL LETTER E WITH DIAERESIS', 'LATIN SMALL LETTER Y WITH DIAERESIS', 'LATIN SMALL LETTER K', 'CENT SIGN', 'MACRON', 'MULTIPLICATION SIGN', 'LATIN SMALL LETTER O WITH CIRCUMFLEX', 'LATIN CAPITAL LETTER O WITH CIRCUMFLEX', 'LATIN SMALL LETTER E WITH GRAVE', 'LEFT-POINTING DOUBLE ANGLE QUOTATION MARK', 'LOW LINE', 'LATIN SMALL LETTER U WITH GRAVE'}\n"
     ]
    }
   ],
   "source": [
    "from unicodedata import name\n",
    "\n",
    "print({name(chr(i), '') for i in range(0, 256)})"
   ]
  },
  {
   "cell_type": "markdown",
   "metadata": {},
   "source": [
    "- 키보드 자판을 `name`으로 가져왔다.\n",
    "- 집합도 지능형 코딩(Comprehending Set)이 가능하다."
   ]
  }
 ],
 "metadata": {
  "kernelspec": {
   "display_name": "Python 3",
   "language": "python",
   "name": "python3"
  },
  "language_info": {
   "codemirror_mode": {
    "name": "ipython",
    "version": 3
   },
   "file_extension": ".py",
   "mimetype": "text/x-python",
   "name": "python",
   "nbconvert_exporter": "python",
   "pygments_lexer": "ipython3",
   "version": "3.7.6"
  },
  "toc": {
   "base_numbering": 1,
   "nav_menu": {},
   "number_sections": true,
   "sideBar": true,
   "skip_h1_title": false,
   "title_cell": "Table of Contents",
   "title_sidebar": "Contents",
   "toc_cell": false,
   "toc_position": {},
   "toc_section_display": true,
   "toc_window_display": false
  },
  "varInspector": {
   "cols": {
    "lenName": 16,
    "lenType": 16,
    "lenVar": 40
   },
   "kernels_config": {
    "python": {
     "delete_cmd_postfix": "",
     "delete_cmd_prefix": "del ",
     "library": "var_list.py",
     "varRefreshCmd": "print(var_dic_list())"
    },
    "r": {
     "delete_cmd_postfix": ") ",
     "delete_cmd_prefix": "rm(",
     "library": "var_list.r",
     "varRefreshCmd": "cat(var_dic_list()) "
    }
   },
   "types_to_exclude": [
    "module",
    "function",
    "builtin_function_or_method",
    "instance",
    "_Feature"
   ],
   "window_display": false
  }
 },
 "nbformat": 4,
 "nbformat_minor": 4
}
