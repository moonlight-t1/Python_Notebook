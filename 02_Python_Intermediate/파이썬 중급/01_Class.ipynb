{
 "cells": [
  {
   "cell_type": "markdown",
   "metadata": {},
   "source": [
    "#  클래스 & 메소드 심화"
   ]
  },
  {
   "cell_type": "markdown",
   "metadata": {},
   "source": [
    "##  리스트, 딕셔너리, 클래스"
   ]
  },
  {
   "cell_type": "markdown",
   "metadata": {},
   "source": [
    "### 리스트"
   ]
  },
  {
   "cell_type": "markdown",
   "metadata": {},
   "source": [
    "- 리스트 구조는 관리하기 불편하다.\n",
    "- 인덱스 접근 시 실수 가능성이 증가하고 삭제가 불편하다."
   ]
  },
  {
   "cell_type": "code",
   "execution_count": 1,
   "metadata": {},
   "outputs": [],
   "source": [
    "# 일반적인 코딩\n",
    "# 차량1\n",
    "car_company_1 = 'Ferrari'\n",
    "car_detail_1 = [\n",
    "    {'color': 'White'},\n",
    "    {'horsepower': 400},\n",
    "    {'price': 8000}\n",
    "]\n",
    "\n",
    "# 차량2\n",
    "car_company_2 = 'Bmw'\n",
    "car_detail_2 = [\n",
    "    {'color': 'Black'},\n",
    "    {'horsepower': 270},\n",
    "    {'price': 5000}\n",
    "]\n",
    "\n",
    "# 차량3\n",
    "car_company_3 = 'Audi'\n",
    "car_detail_3 = [\n",
    "    {'color': 'Silver'},\n",
    "    {'horsepower': 300},\n",
    "    {'price': 6000}\n",
    "]"
   ]
  },
  {
   "cell_type": "code",
   "execution_count": 2,
   "metadata": {},
   "outputs": [
    {
     "name": "stdout",
     "output_type": "stream",
     "text": [
      "['Ferrari', 'Audi']\n",
      "[{'color': 'White', 'horsepower': 400, 'price': 8000}, {'color': 'Silver', 'horsepower': 300, 'price': 6000}]\n",
      "\n",
      "\n"
     ]
    }
   ],
   "source": [
    "# 리스트 구조\n",
    "# 관리하기 불편\n",
    "# 인덱스 접근 시 실수 가능성 증가, 삭제 불편\n",
    "car_company_list = ['Ferrari', 'Bmw', 'Audi']\n",
    "car_detail_list = [\n",
    "    {'color': 'White', 'horsepower': 400, 'price': 8000},\n",
    "    {'color': 'Black', 'horsepower': 270, 'price': 5000},\n",
    "    {'color': 'Silver', 'horsepower': 300, 'price': 6000}\n",
    "]\n",
    "\n",
    "# 자동차 회사 삭제\n",
    "del car_company_list[1]\n",
    "del car_detail_list[1]\n",
    "\n",
    "print(car_company_list)\n",
    "print(car_detail_list)\n",
    "\n",
    "print()\n",
    "print()"
   ]
  },
  {
   "cell_type": "markdown",
   "metadata": {},
   "source": [
    "### 딕셔너리"
   ]
  },
  {
   "cell_type": "markdown",
   "metadata": {},
   "source": [
    "- 딕셔너리 구조\n",
    "- 코드 반복 지속, 중첩 문제, 키 조회 예외 처리 등\n",
    "\n",
    "- 딕셔너리에서 키는 중첩이 안된다.\n",
    "- 키 조회할 때 예외처리를 신경써야 한다."
   ]
  },
  {
   "cell_type": "code",
   "execution_count": 3,
   "metadata": {},
   "outputs": [
    {
     "name": "stdout",
     "output_type": "stream",
     "text": [
      "[{'car_company': 'Ferrari', 'car_detail': {'color': 'White', 'horsepower': 400, 'price': 8000}}, {'car_company': 'Audi', 'car_detail': {'color': 'Silver', 'horsepower': 300, 'price': 6000}}]\n",
      "\n",
      "\n"
     ]
    }
   ],
   "source": [
    "# 딕셔너리 구조\n",
    "# 코드 반복 지속, 중첩 문제, 키 조회 예외 처리 등\n",
    "cars_dicts = [\n",
    "    {'car_company': 'Ferrari', 'car_detail': {\n",
    "        'color': 'White', 'horsepower': 400, 'price': 8000}},\n",
    "    {'car_company': 'Bmw', 'car_detail': {\n",
    "        'color': 'Black', 'horsepower': 270, 'price': 5000}},\n",
    "    {'car_company': 'Audi', 'car_detail': {\n",
    "        'color': 'Silver', 'horsepower': 300, 'price': 6000}}\n",
    "]\n",
    "\n",
    "del cars_dicts[1]\n",
    "print(cars_dicts)\n",
    "print()\n",
    "print()"
   ]
  },
  {
   "cell_type": "markdown",
   "metadata": {},
   "source": [
    "### 클래스"
   ]
  },
  {
   "cell_type": "markdown",
   "metadata": {},
   "source": [
    "- 클래스 구조\n",
    "- 구조 설계 후 재사용성 증가, 코드 반복 최소화, 메소드 활용"
   ]
  },
  {
   "cell_type": "code",
   "execution_count": 4,
   "metadata": {},
   "outputs": [],
   "source": [
    "class Car():\n",
    "    def __init__(self, company, details):\n",
    "        self._company = company\n",
    "        self._details = details\n",
    "\n",
    "    def __str__(self):\n",
    "        return 'str : {} - {}'.format(self._company, self._details)\n",
    "\n",
    "    def __repr__(self):\n",
    "        return 'repr : {} - {}'.format(self._company, self._details)"
   ]
  },
  {
   "cell_type": "code",
   "execution_count": 5,
   "metadata": {},
   "outputs": [
    {
     "name": "stdout",
     "output_type": "stream",
     "text": [
      "str : Ferrari - {'color': 'White', 'horsepower': 400, 'price': 8000}\n",
      "str : Bmw - {'color': 'Black', 'horsepower': 270, 'price': 5000}\n",
      "str : Audi - {'color': 'Silver', 'horsepower': 300, 'price': 6000}\n"
     ]
    }
   ],
   "source": [
    "car1 = Car('Ferrari', {'color': 'White', 'horsepower': 400, 'price': 8000})\n",
    "car2 = Car('Bmw', {'color': 'Black', 'horsepower': 270, 'price': 5000})\n",
    "car3 = Car('Audi', {'color': 'Silver', 'horsepower': 300, 'price': 6000})\n",
    "\n",
    "print(car1)\n",
    "print(car2)\n",
    "print(car3)"
   ]
  },
  {
   "cell_type": "markdown",
   "metadata": {},
   "source": [
    "- `__str__`은 비공식적이고 사용자 입장에서 출력할 때 사용하고 `__repr__`는 자료형의 타입에 따른 객체를 출력할 때 사용한다.\n",
    "\n",
    "- 사용자 입장에서 print문 할 때는 `str`, 개발자 입장에서 엄격하게 할 때 `repr`을 사용한다."
   ]
  },
  {
   "cell_type": "code",
   "execution_count": 6,
   "metadata": {},
   "outputs": [
    {
     "name": "stdout",
     "output_type": "stream",
     "text": [
      "{'_company': 'Ferrari', '_details': {'color': 'White', 'horsepower': 400, 'price': 8000}}\n",
      "{'_company': 'Bmw', '_details': {'color': 'Black', 'horsepower': 270, 'price': 5000}}\n",
      "{'_company': 'Audi', '_details': {'color': 'Silver', 'horsepower': 300, 'price': 6000}}\n"
     ]
    }
   ],
   "source": [
    "# 네임 스페이스 전부 출력\n",
    "print(car1.__dict__)\n",
    "print(car2.__dict__)\n",
    "print(car3.__dict__)"
   ]
  },
  {
   "cell_type": "code",
   "execution_count": 7,
   "metadata": {},
   "outputs": [
    {
     "name": "stdout",
     "output_type": "stream",
     "text": [
      "['__class__', '__delattr__', '__dict__', '__dir__', '__doc__', '__eq__', '__format__', '__ge__', '__getattribute__', '__gt__', '__hash__', '__init__', '__init_subclass__', '__le__', '__lt__', '__module__', '__ne__', '__new__', '__reduce__', '__reduce_ex__', '__repr__', '__setattr__', '__sizeof__', '__str__', '__subclasshook__', '__weakref__', '_company', '_details']\n"
     ]
    }
   ],
   "source": [
    "# 모든 메타 정보 출력\n",
    "print(dir(car1))"
   ]
  },
  {
   "cell_type": "code",
   "execution_count": 8,
   "metadata": {},
   "outputs": [
    {
     "name": "stdout",
     "output_type": "stream",
     "text": [
      "[repr : Ferrari - {'color': 'White', 'horsepower': 400, 'price': 8000}, repr : Bmw - {'color': 'Black', 'horsepower': 270, 'price': 5000}, repr : Audi - {'color': 'Silver', 'horsepower': 300, 'price': 6000}]\n"
     ]
    }
   ],
   "source": [
    "# 리스트 선언\n",
    "car_list = []\n",
    "\n",
    "car_list.append(car1)\n",
    "car_list.append(car2)\n",
    "car_list.append(car3)\n",
    "\n",
    "print(car_list)"
   ]
  },
  {
   "cell_type": "code",
   "execution_count": 9,
   "metadata": {},
   "outputs": [
    {
     "name": "stdout",
     "output_type": "stream",
     "text": [
      "repr : Ferrari - {'color': 'White', 'horsepower': 400, 'price': 8000}\n",
      "str : Ferrari - {'color': 'White', 'horsepower': 400, 'price': 8000}\n",
      "repr : Bmw - {'color': 'Black', 'horsepower': 270, 'price': 5000}\n",
      "str : Bmw - {'color': 'Black', 'horsepower': 270, 'price': 5000}\n",
      "repr : Audi - {'color': 'Silver', 'horsepower': 300, 'price': 6000}\n",
      "str : Audi - {'color': 'Silver', 'horsepower': 300, 'price': 6000}\n"
     ]
    }
   ],
   "source": [
    "# 반복(__str__)\n",
    "for x in car_list:\n",
    "    print(repr(x))\n",
    "    print(x)"
   ]
  },
  {
   "cell_type": "markdown",
   "metadata": {},
   "source": [
    "## self의 의미"
   ]
  },
  {
   "cell_type": "markdown",
   "metadata": {},
   "source": [
    "### self"
   ]
  },
  {
   "cell_type": "markdown",
   "metadata": {},
   "source": [
    "- 인스턴스 메소드에서는 `self`가 첫번쨰 인자로 넘어가게 약속했다.\n",
    "\n",
    "    - `self`가 있어야 각 인스턴스의 `attribute`를 관리할 수 있다.\n",
    "\n",
    "    - 클래스를 기반으로 생성된 인스턴스 내부의 고유의 값을 저장하기 위한 지시어, 예약어가 `self`인 것이다."
   ]
  },
  {
   "cell_type": "code",
   "execution_count": 10,
   "metadata": {},
   "outputs": [],
   "source": [
    "# 클래스 재선언\n",
    "class Car():\n",
    "    \"\"\"\n",
    "    Car Class\n",
    "    Author : Kim\n",
    "    Date : 2019.11.08\n",
    "    \"\"\"\n",
    "\n",
    "    # 클래스 변수 - 모든 인스턴스가 공유\n",
    "    car_count = 0\n",
    "\n",
    "    def __init__(self, company, details):\n",
    "        self._company = company\n",
    "        self._details = details\n",
    "        Car.car_count += 1\n",
    "\n",
    "    def __str__(self):\n",
    "        return 'str : {} - {}'.format(self._company, self._details)\n",
    "\n",
    "    def __repr__(self):\n",
    "        return 'repr : {} - {}'.format(self._company, self._details)\n",
    "\n",
    "    def detail_info(self):\n",
    "        print('Current Id : {}'.format(id(self)))\n",
    "        print('Car Detail Info : {} {}'.format(self._company,\n",
    "                                               self._details.get('price')))\n",
    "\n",
    "    def __del__(self):\n",
    "        Car.car_count -= 1"
   ]
  },
  {
   "cell_type": "code",
   "execution_count": 11,
   "metadata": {},
   "outputs": [],
   "source": [
    "# Self 의미\n",
    "car1 = Car('Ferrari', {'color': 'White', 'horsepower': 400, 'price': 8000})\n",
    "car2 = Car('Bmw', {'color': 'Black', 'horsepower': 270, 'price': 5000})\n",
    "car3 = Car('Audi', {'color': 'Silver', 'horsepower': 300, 'price': 6000})"
   ]
  },
  {
   "cell_type": "code",
   "execution_count": 12,
   "metadata": {},
   "outputs": [
    {
     "name": "stdout",
     "output_type": "stream",
     "text": [
      "2418637810760\n",
      "2418637810696\n",
      "2418637810824\n"
     ]
    }
   ],
   "source": [
    "# ID 확인\n",
    "print(id(car1))\n",
    "print(id(car2))\n",
    "print(id(car3))"
   ]
  },
  {
   "cell_type": "markdown",
   "metadata": {},
   "source": [
    "- 각 인스턴스마다 고유의 `id` 값이 있다. 이를 구분해주는 것이 `self`이다."
   ]
  },
  {
   "cell_type": "code",
   "execution_count": 13,
   "metadata": {},
   "outputs": [
    {
     "name": "stdout",
     "output_type": "stream",
     "text": [
      "False\n",
      "False\n"
     ]
    }
   ],
   "source": [
    "print(car1._company == car2._company)  # 값을 비교\n",
    "print(car1 is car2)  # id를 비교"
   ]
  },
  {
   "cell_type": "code",
   "execution_count": 14,
   "metadata": {},
   "outputs": [
    {
     "name": "stdout",
     "output_type": "stream",
     "text": [
      "['__class__', '__del__', '__delattr__', '__dict__', '__dir__', '__doc__', '__eq__', '__format__', '__ge__', '__getattribute__', '__gt__', '__hash__', '__init__', '__init_subclass__', '__le__', '__lt__', '__module__', '__ne__', '__new__', '__reduce__', '__reduce_ex__', '__repr__', '__setattr__', '__sizeof__', '__str__', '__subclasshook__', '__weakref__', '_company', '_details', 'car_count', 'detail_info']\n",
      "['__class__', '__del__', '__delattr__', '__dict__', '__dir__', '__doc__', '__eq__', '__format__', '__ge__', '__getattribute__', '__gt__', '__hash__', '__init__', '__init_subclass__', '__le__', '__lt__', '__module__', '__ne__', '__new__', '__reduce__', '__reduce_ex__', '__repr__', '__setattr__', '__sizeof__', '__str__', '__subclasshook__', '__weakref__', '_company', '_details', 'car_count', 'detail_info']\n"
     ]
    }
   ],
   "source": [
    "# dir & __dict__ 확인\n",
    "# 해당 인스턴스가 가지고 있는 attribute들을 리스트 형태로 보여준다.\n",
    "\n",
    "print(dir(car1))\n",
    "print(dir(car2))"
   ]
  },
  {
   "cell_type": "code",
   "execution_count": 15,
   "metadata": {},
   "outputs": [
    {
     "name": "stdout",
     "output_type": "stream",
     "text": [
      "{'_company': 'Ferrari', '_details': {'color': 'White', 'horsepower': 400, 'price': 8000}}\n",
      "{'_company': 'Bmw', '_details': {'color': 'Black', 'horsepower': 270, 'price': 5000}}\n"
     ]
    }
   ],
   "source": [
    "# 인스턴스의 네임 스페이스와 키, 밸류 값을 보여준다.\n",
    "\n",
    "print(car1.__dict__)\n",
    "print(car2.__dict__)"
   ]
  },
  {
   "cell_type": "markdown",
   "metadata": {},
   "source": [
    "- `dir`, `__dict__`는 개발할 때 많이 쓰인다."
   ]
  },
  {
   "cell_type": "code",
   "execution_count": 16,
   "metadata": {},
   "outputs": [
    {
     "name": "stdout",
     "output_type": "stream",
     "text": [
      "\n",
      "    Car Class\n",
      "    Author : Kim\n",
      "    Date : 2019.11.08\n",
      "    \n"
     ]
    }
   ],
   "source": [
    "# Doctring\n",
    "\n",
    "print(Car.__doc__)"
   ]
  },
  {
   "cell_type": "code",
   "execution_count": 17,
   "metadata": {},
   "outputs": [
    {
     "name": "stdout",
     "output_type": "stream",
     "text": [
      "Current Id : 2418637810760\n",
      "Car Detail Info : Ferrari 8000\n",
      "Current Id : 2418637810696\n",
      "Car Detail Info : Bmw 5000\n"
     ]
    }
   ],
   "source": [
    "# 실행\n",
    "\n",
    "car1.detail_info()\n",
    "car2.detail_info()"
   ]
  },
  {
   "cell_type": "code",
   "execution_count": 18,
   "metadata": {},
   "outputs": [
    {
     "name": "stdout",
     "output_type": "stream",
     "text": [
      "Current Id : 2418637810760\n",
      "Car Detail Info : Ferrari 8000\n",
      "Current Id : 2418637810696\n",
      "Car Detail Info : Bmw 5000\n"
     ]
    }
   ],
   "source": [
    "# 에러\n",
    "# Car.detail_info() # detail_info에는 self가 필요하다\n",
    "Car.detail_info(car1)\n",
    "Car.detail_info(car2)"
   ]
  },
  {
   "cell_type": "markdown",
   "metadata": {},
   "source": [
    "- detail_info를 클래스 인자로 접근하려면 self를 넣어줘야 한다."
   ]
  },
  {
   "cell_type": "code",
   "execution_count": 19,
   "metadata": {},
   "outputs": [
    {
     "name": "stdout",
     "output_type": "stream",
     "text": [
      "<class '__main__.Car'> <class '__main__.Car'>\n",
      "True\n"
     ]
    }
   ],
   "source": [
    "# 비교\n",
    "print(car1.__class__, car2.__class__)\n",
    "print(id(car1.__class__) == id(car3.__class__)) # 인스턴스가 아닌 클래스 아이디 값 비교"
   ]
  },
  {
   "cell_type": "markdown",
   "metadata": {},
   "source": [
    "### 클래스 변수\n",
    "- 클래스 변수는 모든 인스턴스가 공유한다."
   ]
  },
  {
   "cell_type": "code",
   "execution_count": 20,
   "metadata": {},
   "outputs": [
    {
     "name": "stdout",
     "output_type": "stream",
     "text": [
      "Ferrari Bmw\n",
      "Bmw Audi\n"
     ]
    }
   ],
   "source": [
    "# 인스턴스 변수\n",
    "# 직접 접근(PEP 문법적으로 권장X)\n",
    "print(car1._company, car2._company)\n",
    "print(car2._company, car3._company)"
   ]
  },
  {
   "cell_type": "code",
   "execution_count": 21,
   "metadata": {},
   "outputs": [
    {
     "name": "stdout",
     "output_type": "stream",
     "text": [
      "3\n",
      "3\n",
      "3\n"
     ]
    }
   ],
   "source": [
    "# 클래스 변수 접근\n",
    "print(car1.car_count)\n",
    "print(car2.car_count)\n",
    "print(Car.car_count)"
   ]
  },
  {
   "cell_type": "markdown",
   "metadata": {},
   "source": [
    "- 클래스 변수는 모든 인스턴스가 공유한다."
   ]
  },
  {
   "cell_type": "code",
   "execution_count": 22,
   "metadata": {},
   "outputs": [
    {
     "name": "stdout",
     "output_type": "stream",
     "text": [
      "{'_company': 'Ferrari', '_details': {'color': 'White', 'horsepower': 400, 'price': 8000}}\n",
      "{'_company': 'Bmw', '_details': {'color': 'Black', 'horsepower': 270, 'price': 5000}}\n"
     ]
    }
   ],
   "source": [
    "# 인스턴스의 네임 스페이스와 키, 밸류 값을 보여준다.\n",
    "print(car1.__dict__)\n",
    "print(car2.__dict__)"
   ]
  },
  {
   "cell_type": "markdown",
   "metadata": {},
   "source": [
    "- 클래스 변수를 선언해주고 `__dict__`로 출력을 해주면 클래스 변수는 출력되지 않는다."
   ]
  },
  {
   "cell_type": "code",
   "execution_count": 23,
   "metadata": {},
   "outputs": [
    {
     "name": "stdout",
     "output_type": "stream",
     "text": [
      "['__class__', '__del__', '__delattr__', '__dict__', '__dir__', '__doc__', '__eq__', '__format__', '__ge__', '__getattribute__', '__gt__', '__hash__', '__init__', '__init_subclass__', '__le__', '__lt__', '__module__', '__ne__', '__new__', '__reduce__', '__reduce_ex__', '__repr__', '__setattr__', '__sizeof__', '__str__', '__subclasshook__', '__weakref__', '_company', '_details', 'car_count', 'detail_info']\n"
     ]
    }
   ],
   "source": [
    "# 클래스 변수\n",
    "print(dir(car1))  # 클래스 변수 이름 출력"
   ]
  },
  {
   "cell_type": "markdown",
   "metadata": {},
   "source": [
    "- `dir`로 출력을 하면 클래스 변수가 출력이 된다.\n",
    "- 인스턴스 변수를 선언할 때는 앞에 언더바를 붙여줘서 클래스 변수와 구분해준다. `_company`"
   ]
  },
  {
   "cell_type": "code",
   "execution_count": 24,
   "metadata": {},
   "outputs": [
    {
     "name": "stdout",
     "output_type": "stream",
     "text": [
      "{'__module__': '__main__', '__doc__': '\\n    Car Class\\n    Author : Kim\\n    Date : 2019.11.08\\n    ', 'car_count': 3, '__init__': <function Car.__init__ at 0x00000233220A2678>, '__str__': <function Car.__str__ at 0x00000233220A2438>, '__repr__': <function Car.__repr__ at 0x00000233220A2AF8>, 'detail_info': <function Car.detail_info at 0x00000233220A2B88>, '__del__': <function Car.__del__ at 0x00000233220A2C18>, '__dict__': <attribute '__dict__' of 'Car' objects>, '__weakref__': <attribute '__weakref__' of 'Car' objects>}\n",
      "{'_company': 'Ferrari', '_details': {'color': 'White', 'horsepower': 400, 'price': 8000}}\n",
      "{'_company': 'Bmw', '_details': {'color': 'Black', 'horsepower': 270, 'price': 5000}}\n",
      "{'_company': 'Audi', '_details': {'color': 'Silver', 'horsepower': 300, 'price': 6000}}\n"
     ]
    }
   ],
   "source": [
    "# 공유 확인\n",
    "print(Car.__dict__)\n",
    "print(car1.__dict__)\n",
    "print(car2.__dict__)\n",
    "print(car3.__dict__)"
   ]
  },
  {
   "cell_type": "markdown",
   "metadata": {},
   "source": [
    "### `__del__` 메소드"
   ]
  },
  {
   "cell_type": "code",
   "execution_count": 25,
   "metadata": {},
   "outputs": [
    {
     "name": "stdout",
     "output_type": "stream",
     "text": [
      "2\n",
      "2\n"
     ]
    }
   ],
   "source": [
    "\"\"\"\n",
    "    def __del__(self):\n",
    "        Car.car_count -= 1\n",
    "\"\"\"\n",
    "del car2\n",
    "\n",
    "print(car1.car_count)\n",
    "print(Car.car_count)"
   ]
  },
  {
   "cell_type": "markdown",
   "metadata": {},
   "source": [
    "- `__del__` 메소드를 만들고 car2 인스턴스를 지웠다.\n",
    "- del 메소드가 호출될 때 클래스 변수에서 1을 빼므로 2가 출력이 된다."
   ]
  },
  {
   "cell_type": "markdown",
   "metadata": {},
   "source": [
    "### Summary\n",
    "\n",
    "- `__dict__`로 출력을 하면 클래스 변수가 안보이는데 `dir`로 출력을 하면 클래스 변수가 보인다.\n",
    "- 인스턴스 네임스페이스 없으면 상위에서 검색한다.\n",
    "- 즉, 동일한 이름으로 변수 생성 가능(인스턴스 변수를 먼저 검색 후 -> 상위(클래스 변수, 부모 클래스 변수))"
   ]
  },
  {
   "cell_type": "markdown",
   "metadata": {
    "toc-hr-collapsed": true,
    "toc-nb-collapsed": true
   },
   "source": [
    "## 클래스 기반 메소드 심화\n",
    "\n",
    "- Class Method\n",
    "- Instance Method\n",
    "- Static Method"
   ]
  },
  {
   "cell_type": "markdown",
   "metadata": {},
   "source": [
    "### 인스턴스 메소드(Instance Method)"
   ]
  },
  {
   "cell_type": "code",
   "execution_count": 26,
   "metadata": {},
   "outputs": [],
   "source": [
    "# 클래스 선언\n",
    "class Car2(object):\n",
    "    '''\n",
    "    Car Class\n",
    "    Author : Me\n",
    "    Date : 2019.11.08\n",
    "    Description : Class, Static, Instance Method\n",
    "    '''\n",
    "\n",
    "    # Class Variable\n",
    "    price_per_raise = 1.0\n",
    "\n",
    "    def __init__(self, company, details):\n",
    "        self._company = company\n",
    "        self._details = details\n",
    "\n",
    "    def __str__(self):\n",
    "        return 'str : {} - {}'.format(self._company, self._details)\n",
    "\n",
    "    def __repr__(self):\n",
    "        return 'repr : {} - {}'.format(self._company, self._details)\n",
    "\n",
    "    # Instance Method\n",
    "    # self : 객체의 고유한 속성 값 사용\n",
    "    def detail_info(self):\n",
    "        print('Current Id : {}'.format(id(self)))\n",
    "        print('Car Detail Info : {} {}'.format(\n",
    "            self._company, self._details.get('price')))\n",
    "\n",
    "    # Instance Method\n",
    "    def get_price(self):\n",
    "        return 'Before Car Price -> company : {}, price : {}'.format(self._company, self._details.get('price'))\n",
    "\n",
    "    # Instance Method\n",
    "    def get_price_culc(self):\n",
    "        return 'After Car Price -> company : {}, price : {}'.format(self._company, self._details.get('price') * Car.price_per_raise)\n",
    "\n",
    "    # Class Method\n",
    "    # 클래스 메소드위에는 `데코레이터(decorator)`가 달려있다.\n",
    "    # 클래스 메소드는 첫 번째 인자로 `cls`를 받는다.\n",
    "    @classmethod\n",
    "    def raise_price(cls, per):\n",
    "        if per <= 1:\n",
    "            print('Please Enter 1 or More')\n",
    "            return\n",
    "        cls.price_per_raise = per\n",
    "        return 'Succeed! price increased.'\n",
    "\n",
    "    # Static Method\n",
    "    @staticmethod\n",
    "    def is_bmw(inst):\n",
    "        if inst._company == 'Bmw':\n",
    "            return 'OK! This car is {}.'.format(inst._company)\n",
    "        return 'Sorry. This car is not Bmw.'"
   ]
  },
  {
   "cell_type": "code",
   "execution_count": 27,
   "metadata": {},
   "outputs": [
    {
     "name": "stdout",
     "output_type": "stream",
     "text": [
      "str : Bmw - {'color': 'Black', 'horsepower': 270, 'price': 5000}\n",
      "str : Audi - {'color': 'Silver', 'horsepower': 300, 'price': 6000}\n"
     ]
    }
   ],
   "source": [
    "# 자동차 인스턴스\n",
    "car1 = Car('Bmw', {'color': 'Black', 'horsepower': 270, 'price': 5000})\n",
    "car2 = Car('Audi', {'color': 'Silver', 'horsepower': 300, 'price': 6000})\n",
    "\n",
    "# 기본 정보\n",
    "print(car1)\n",
    "print(car2)"
   ]
  },
  {
   "cell_type": "code",
   "execution_count": 28,
   "metadata": {},
   "outputs": [
    {
     "name": "stdout",
     "output_type": "stream",
     "text": [
      "5000\n",
      "6000\n"
     ]
    }
   ],
   "source": [
    "# 가격 정보 (직접 접근)\n",
    "print(car1._details.get('price'))\n",
    "print(car2._details['price'])"
   ]
  },
  {
   "cell_type": "markdown",
   "metadata": {},
   "source": [
    "- 위처럼 인스턴스 변수에 직접 접근하는 방법은 좋지 않다."
   ]
  },
  {
   "cell_type": "code",
   "execution_count": 29,
   "metadata": {},
   "outputs": [
    {
     "name": "stdout",
     "output_type": "stream",
     "text": [
      "Current Id : 2418637824392\n",
      "Car Detail Info : Bmw 5000\n",
      "Current Id : 2418637827528\n",
      "Car Detail Info : Audi 6000\n",
      "\n"
     ]
    },
    {
     "ename": "AttributeError",
     "evalue": "'Car' object has no attribute 'get_price'",
     "output_type": "error",
     "traceback": [
      "\u001b[1;31m---------------------------------------------------------------------------\u001b[0m",
      "\u001b[1;31mAttributeError\u001b[0m                            Traceback (most recent call last)",
      "\u001b[1;32m<ipython-input-29-a4c13af07145>\u001b[0m in \u001b[0;36m<module>\u001b[1;34m\u001b[0m\n\u001b[0;32m      5\u001b[0m \u001b[1;33m\u001b[0m\u001b[0m\n\u001b[0;32m      6\u001b[0m \u001b[1;31m# 가격 정보(인상 전)\u001b[0m\u001b[1;33m\u001b[0m\u001b[1;33m\u001b[0m\u001b[1;33m\u001b[0m\u001b[0m\n\u001b[1;32m----> 7\u001b[1;33m \u001b[0mprint\u001b[0m\u001b[1;33m(\u001b[0m\u001b[0mcar1\u001b[0m\u001b[1;33m.\u001b[0m\u001b[0mget_price\u001b[0m\u001b[1;33m(\u001b[0m\u001b[1;33m)\u001b[0m\u001b[1;33m)\u001b[0m\u001b[1;33m\u001b[0m\u001b[1;33m\u001b[0m\u001b[0m\n\u001b[0m\u001b[0;32m      8\u001b[0m \u001b[0mprint\u001b[0m\u001b[1;33m(\u001b[0m\u001b[0mcar2\u001b[0m\u001b[1;33m.\u001b[0m\u001b[0mget_price\u001b[0m\u001b[1;33m(\u001b[0m\u001b[1;33m)\u001b[0m\u001b[1;33m)\u001b[0m\u001b[1;33m\u001b[0m\u001b[1;33m\u001b[0m\u001b[0m\n\u001b[0;32m      9\u001b[0m \u001b[0mprint\u001b[0m\u001b[1;33m(\u001b[0m\u001b[1;33m)\u001b[0m\u001b[1;33m\u001b[0m\u001b[1;33m\u001b[0m\u001b[0m\n",
      "\u001b[1;31mAttributeError\u001b[0m: 'Car' object has no attribute 'get_price'"
     ]
    }
   ],
   "source": [
    "# 전체 정보\n",
    "car1.detail_info()\n",
    "car2.detail_info()\n",
    "print()\n",
    "\n",
    "# 가격 정보(인상 전)\n",
    "print(car1.get_price())\n",
    "print(car2.get_price())\n",
    "print()\n",
    "\n",
    "# 가격 인상(클래스 메소드 미사용, 클래스 변수 바로 접근)\n",
    "Car2.price_per_raise = 1.2\n",
    "\n",
    "# 가격 정보(인상 후)\n",
    "print(car1.get_price_culc())\n",
    "print(car2.get_price_culc())\n",
    "print()"
   ]
  },
  {
   "cell_type": "markdown",
   "metadata": {},
   "source": [
    "- 인스턴스 메소드를 이용해 가격 정보를 호출한다."
   ]
  },
  {
   "cell_type": "markdown",
   "metadata": {},
   "source": [
    "### 클래스 메소드(Class Method)"
   ]
  },
  {
   "cell_type": "markdown",
   "metadata": {},
   "source": [
    "- 클래스 변수가 객체 변수에 직접 접근하는건 좋지 않다.\n",
    "\n",
    "- 클래스 변수를 다루기 위해서 `클래스 메소드(class method)`를 만들어준다."
   ]
  },
  {
   "cell_type": "code",
   "execution_count": null,
   "metadata": {},
   "outputs": [],
   "source": [
    "# Class Method\n",
    "# 클래스 메소드위에는 `데코레이터(decorator)`가 달려있다.\n",
    "# 클래스 메소드는 첫 번째 인자로 `cls`를 받는다.\n",
    "\"\"\"\n",
    "    @classmethod\n",
    "    def raise_price(cls, per):\n",
    "        if per <= 1:\n",
    "            print('Please Enter 1 or More')\n",
    "            return\n",
    "        cls.price_per_raise = per\n",
    "        return 'Succeed! price increased.'\n",
    "\"\"\"\n",
    "# 가격 인상(클래스 메소드 사용, 클래스 메소드 이용 접근)\n",
    "Car2.raise_price(1.6)\n",
    "print()\n",
    "\n",
    "# 가격 정보(인상 후 : 클래스메소드)\n",
    "print(car1.get_price_culc())\n",
    "print(car2.get_price_culc())"
   ]
  },
  {
   "cell_type": "markdown",
   "metadata": {},
   "source": [
    "- 클래스 메소드위에는 `데코레이터(decorator)`가 달려있다.\n",
    "- 클래스 메소드는 첫 번째 인자로 `cls`를 받는다.\n",
    "\n",
    "- 클래스 메소드를 이용하면 로직도 넣을 수 있다. \n",
    "- 그래서 클래스 변수를 핸들링 할 때는 클래스 변수를 사용하는 것을 권장한다."
   ]
  },
  {
   "cell_type": "markdown",
   "metadata": {},
   "source": [
    "### 스태틱 메소드(Static Method)"
   ]
  },
  {
   "cell_type": "code",
   "execution_count": null,
   "metadata": {},
   "outputs": [],
   "source": [
    "# Bmw 여부(스테틱 메소드 미사용)\n",
    "def is_bmw(inst):\n",
    "    if inst._company == 'Bmw':\n",
    "        return 'OK! This car is {}.'.format(inst._company)\n",
    "    return 'Sorry. This car is not Bmw.'\n",
    "\n",
    "\n",
    "# 별도의 메소드 작성 후 호출\n",
    "print(is_bmw(car1))\n",
    "print(is_bmw(car2))\n",
    "print()\n",
    "\n",
    "\n",
    "# Static Method\n",
    "\"\"\"\n",
    "    # Static Method\n",
    "    @staticmethod\n",
    "    def is_bmw(inst):\n",
    "        if inst._company == 'Bmw':\n",
    "            return 'OK! This car is {}.'.format(inst._company)\n",
    "        return 'Sorry. This car is not Bmw.'\n",
    "\"\"\"\n",
    "\n",
    "# Bmw 여부(스테이틱 메소드 사용)\n",
    "print('Static : ', Car2.is_bmw(car1))\n",
    "print('Static : ', Car2.is_bmw(car2))\n",
    "print()\n",
    "\n",
    "print('Static : ', car1.is_bmw(car1))\n",
    "print('Static : ', car2.is_bmw(car2))"
   ]
  },
  {
   "cell_type": "markdown",
   "metadata": {},
   "source": [
    "- static 메소드는 인자를 아무것도 받지 않는다. \n",
    "\n",
    "- 데코레이터로 `@staticmethod`를 붙인다.\n",
    "\n",
    "- 좀 더 유연하게 사용할 수 있다.\n",
    "\n",
    "- 굳이 필요한가 의견이 분분하다."
   ]
  },
  {
   "cell_type": "markdown",
   "metadata": {},
   "source": [
    "### Summary\n",
    "- 인스턴스 메소드는 self를 인자로 받는다.\n",
    "- 클래스 메소드는 cls를 인자로 받고 클래스 인스턴스를 다룬다.\n",
    "- 클래스 메소드 위에는 데코레이터가 있다.\n",
    "- 스태틱 메소드는 아무 인자도 받지 않아도 된다."
   ]
  }
 ],
 "metadata": {
  "kernelspec": {
   "display_name": "Python 3",
   "language": "python",
   "name": "python3"
  },
  "language_info": {
   "codemirror_mode": {
    "name": "ipython",
    "version": 3
   },
   "file_extension": ".py",
   "mimetype": "text/x-python",
   "name": "python",
   "nbconvert_exporter": "python",
   "pygments_lexer": "ipython3",
   "version": "3.7.6"
  },
  "toc": {
   "base_numbering": 1,
   "nav_menu": {},
   "number_sections": true,
   "sideBar": true,
   "skip_h1_title": false,
   "title_cell": "Table of Contents",
   "title_sidebar": "Contents",
   "toc_cell": false,
   "toc_position": {},
   "toc_section_display": true,
   "toc_window_display": false
  },
  "varInspector": {
   "cols": {
    "lenName": 16,
    "lenType": 16,
    "lenVar": 40
   },
   "kernels_config": {
    "python": {
     "delete_cmd_postfix": "",
     "delete_cmd_prefix": "del ",
     "library": "var_list.py",
     "varRefreshCmd": "print(var_dic_list())"
    },
    "r": {
     "delete_cmd_postfix": ") ",
     "delete_cmd_prefix": "rm(",
     "library": "var_list.r",
     "varRefreshCmd": "cat(var_dic_list()) "
    }
   },
   "types_to_exclude": [
    "module",
    "function",
    "builtin_function_or_method",
    "instance",
    "_Feature"
   ],
   "window_display": false
  }
 },
 "nbformat": 4,
 "nbformat_minor": 4
}
