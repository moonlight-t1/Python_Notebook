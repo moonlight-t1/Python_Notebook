{
 "cells": [
  {
   "cell_type": "markdown",
   "metadata": {},
   "source": [
    "# AsyncIO 멀티 스크랩핑 실습"
   ]
  },
  {
   "cell_type": "markdown",
   "metadata": {},
   "source": [
    "## AsyncIO 멀티 스크랩핑 실습 (1)\n",
    "- 가상환경 생성\n",
    "- 타겟 사이트 살펴보기\n",
    "- 프로그램 설명\n",
    "- async, await 설명\n",
    "- 프로그램 테스트"
   ]
  },
  {
   "cell_type": "markdown",
   "metadata": {},
   "source": [
    "### 환경 설정"
   ]
  },
  {
   "cell_type": "code",
   "execution_count": null,
   "metadata": {},
   "outputs": [],
   "source": [
    "# asyncio 설치\n",
    "\n",
    "!pip install asyncio"
   ]
  },
  {
   "cell_type": "code",
   "execution_count": null,
   "metadata": {},
   "outputs": [],
   "source": [
    "# bs4 설치\n",
    "\n",
    "!pip install beautifulsoup4"
   ]
  },
  {
   "cell_type": "markdown",
   "metadata": {},
   "source": [
    "- [asyncio — 비동기 I/O](https://docs.python.org/ko/3/library/asyncio.html)\n",
    "\n",
    "\n",
    "- `AsyncIO`는 코루틴에서 확장되어 만들어진 패키지이다.\n",
    "    - `asyncio`는 `async/await` 구문을 사용하여 동시성 코드를 작성하는 라이브러리입니다.\n",
    "    - 비동기 I/O을 Coroutine 으로 쉽게 작업하게 해준다.\n",
    "    - `Non-blocking` 비동기 처리를 해준다.\n",
    "\n",
    "\n",
    "- `Blocking I/O` : 호출된 함수가 자신의 작업을 완료될 때까지 제어권을 가지고 있다. 그래서 다른 함수는 대기하고 있어야 한다.\n",
    "- `Non-blocking I/O` : 호출된 함수(서브루틴)가 `return(yield)` 후 호출한 함수(메인 루틴)에 제어권을 전달한다. 그래서 다른 함수도 일을 할 수 있다.\n",
    "\n",
    "\n",
    "- [Python Requests non-blocking?](https://stackoverflow.com/questions/14245989/python-requests-non-blocking)\n",
    "    - Like `urllib2`, `requests` is blocking.\n",
    "    - 사용하는 함수가 blocking이면 `asyncio`를 사용하는 것보다 단일 쓰레드를 사용하는 것이 더 빠르다.\n",
    "\n",
    "\n",
    "- 내가 사용하는 함수가 비동기로 구현되어야 `asyncio`를 사용할 수 있다.\n",
    "\n",
    "\n",
    "- 쓰레드의 단점 : 디버깅 어려움, 지원 접근 시 레이스 컨디션(경쟁상태), 데드락(dead lock)\n",
    "\n",
    "\n",
    "- 코루틴 장점 : 하나의 루틴만 실행, 락 관리 필요 없다\n",
    "- 코루틴 단점 : 사용 함수가 비동기로 구현이 되어야 한다."
   ]
  },
  {
   "cell_type": "markdown",
   "metadata": {},
   "source": [
    "### Asyncio 웹 스크랩핑 실습 (1-1)"
   ]
  },
  {
   "cell_type": "code",
   "execution_count": 1,
   "metadata": {},
   "outputs": [],
   "source": [
    "# aiohttp 권장\n",
    "import asyncio\n",
    "import timeit\n",
    "from urllib.request import urlopen\n",
    "from concurrent.futures import ThreadPoolExecutor\n",
    "import threading"
   ]
  },
  {
   "cell_type": "markdown",
   "metadata": {},
   "source": [
    "- `urlopen`은 block 함수이다.\n",
    "- block 함수는 자신의 작업이 완료될 때까지 제어권을 가지고 있으므로 `asyncio`로 구현을 하면 효율이 크지 않다.\n",
    "\n",
    "\n",
    "- [Combining Coroutines with Threads and Processes](https://pymotw.com/3/asyncio/executors.html)\n",
    "- 블럭이 되는 함수를 사용할 때 `asyncio`를 사요앟기 위해 `corutines`을 `threads`나 `processes`와 결합해서 같이 사용하는 패턴을 많이 사용한다.\n",
    "- `threads`나 `processes`를 사용하여 각 웹서버에 각각의 `threads`와 `processes`로 요청을 하면 nonblock의 효과를 가지게 된다. \n",
    "- 이 때 `courotine`으로 `asyncio`를 활용한다면 제대로된 비동기의 효과를 볼 수 있다."
   ]
  },
  {
   "cell_type": "markdown",
   "metadata": {},
   "source": [
    "### Asyncio 웹 스크랩핑 실습 (1-2)\n",
    "\n",
    "- 데이터를 실시간으로 자동으로 수집한다\n",
    "- 동시에 여러 사이트에서 수집을 한다"
   ]
  },
  {
   "cell_type": "markdown",
   "metadata": {},
   "source": [
    "- 주피터 노트북에서 이벤트 루프 사용\n",
    "- [Jupyter: RuntimeError: This event loop is already running](https://markhneedham.com/blog/2019/05/10/jupyter-runtimeerror-this-event-loop-is-already-running/)\n",
    "- [Can't invoke asyncio event_loop after tornado 5.0 update](https://github.com/jupyter/notebook/issues/3397#issuecomment-376803076)\n",
    "- The Jupyter kernel is also running an event loop, and these loops can’t be nested.\n",
    "\n",
    "\n",
    "- [멀티 프로세스 모듈](https://stackoverflow.com/questions/47313732/jupyter-notebook-never-finishes-processing-using-multiprocessing-python-3)"
   ]
  },
  {
   "cell_type": "code",
   "execution_count": 6,
   "metadata": {},
   "outputs": [
    {
     "name": "stdout",
     "output_type": "stream",
     "text": [
      "Requirement already satisfied: nest_asyncio in c:\\users\\t1won\\anaconda3\\lib\\site-packages (1.3.3)\n"
     ]
    }
   ],
   "source": [
    "!pip install nest_asyncio"
   ]
  },
  {
   "cell_type": "code",
   "execution_count": 7,
   "metadata": {},
   "outputs": [],
   "source": [
    "import nest_asyncio\n",
    "nest_asyncio.apply()"
   ]
  },
  {
   "cell_type": "code",
   "execution_count": 8,
   "metadata": {},
   "outputs": [],
   "source": [
    "# 실행 시작 시간\n",
    "start = timeit.default_timer()\n",
    "\n",
    "# 서비스 방향이 비슷한 사이트로 실습 권장(예 : 게시판성 커뮤니티)\n",
    "urls = ['http://daum.net', 'https://naver.com', 'http://mlbpark.donga.com/',\n",
    "        'https://tistory.com', 'https://wemakeprice.com/']"
   ]
  },
  {
   "cell_type": "markdown",
   "metadata": {},
   "source": [
    "- `urlopen` 함수는 block 함수이다.\n",
    "- 쓰레드를 사용해서 `urlopen`을 따로 여러개 사용해고, `asyncio`로 제어권을 따른 곳으로 넘겨주게 만든다."
   ]
  },
  {
   "cell_type": "code",
   "execution_count": 9,
   "metadata": {},
   "outputs": [],
   "source": [
    "# fetch 함수\n",
    "async def fetch(url, executor):\n",
    "    # 쓰레드명 출력\n",
    "    print('Thread Name :',\n",
    "          threading.current_thread().getName(), 'Start', url)  # 디버깅용 코드\n",
    "\n",
    "    # 실행\n",
    "    res = await loop.run_in_executor(executor, urlopen, url)\n",
    "    print('Thread Name :',\n",
    "          threading.current_thread().getName(), 'Done', url)  # 디버깅용 코드\n",
    "\n",
    "    # 결과 반환\n",
    "    return res.read()[0:5]  # 각 사이트의 시작하는 5글자만 가져온다"
   ]
  },
  {
   "cell_type": "markdown",
   "metadata": {},
   "source": [
    "- 제어권을 넘겨줘야 하기 때문에 `fetch` 함수를 `async`로 만들어준다.\n",
    "- `url`과 `excutor(thread)`를 인자로 받는다.\n",
    "\n",
    "```python\n",
    "# 실행\n",
    "res = await loop.run_in_executor(executor, urlopen, url)\n",
    "```\n",
    "- `await`로 끝날 때까지 기다려준다."
   ]
  },
  {
   "cell_type": "code",
   "execution_count": 10,
   "metadata": {},
   "outputs": [],
   "source": [
    "# main 함수\n",
    "async def main():\n",
    "    # 쓰레드 풀 생성\n",
    "    executor = ThreadPoolExecutor(max_workers=10)\n",
    "\n",
    "    # future 객체 모아서 gather에서 실행\n",
    "    futures = [asyncio.ensure_future(fetch(url, executor)) for url in urls]\n",
    "\n",
    "    # 결과 취합\n",
    "    rst = await asyncio.gather(*futures)\n",
    "\n",
    "    print()\n",
    "    print('Result : ', rst)"
   ]
  },
  {
   "cell_type": "markdown",
   "metadata": {},
   "source": [
    "- `async`를 붙여줌으로써 비동기 함수라고 선언을 해준다.\n",
    "- `asyncio.ensure_future`에 실행할 함수들을 넣어준다.\n",
    "    ```python\n",
    "    # future 객체 모아서 gather에서 실행\n",
    "    futures = [\n",
    "        asyncio.ensure_future(fetch(url, executor)) for url in urls\n",
    "    ]\n",
    "    ```\n",
    "    - url 하나당 하나의 쓰레드를 사용하므로 `for url in urls` 만큼 실행하게 한다.(`fetch`가 url 갯수만큼 생성된다)\n",
    "- `await`는 `yield`이다.\n",
    "    ```python\n",
    "    # 결과 취합\n",
    "    rst = await asyncio.gather(*futures)\n",
    "    ```\n",
    "    - `futures`가 끝날 때까지 기다린 후 결과를 취합(`gather`) 해준다.\n",
    "    - 리스트이므로 `*`으로 언패킹 해준다."
   ]
  },
  {
   "cell_type": "code",
   "execution_count": 11,
   "metadata": {},
   "outputs": [
    {
     "name": "stdout",
     "output_type": "stream",
     "text": [
      "Thread Name : MainThread Start http://daum.net\n",
      "Thread Name : MainThread Start https://naver.com\n",
      "Thread Name : MainThread Start http://mlbpark.donga.com/\n",
      "Thread Name : MainThread Start https://tistory.com\n",
      "Thread Name : MainThread Start https://wemakeprice.com/\n",
      "Thread Name : MainThread Done http://mlbpark.donga.com/\n",
      "Thread Name : MainThread Done https://naver.com\n",
      "Thread Name : MainThread Done https://wemakeprice.com/\n",
      "Thread Name : MainThread Done http://daum.net\n",
      "Thread Name : MainThread Done https://tistory.com\n",
      "\n",
      "Result :  [b'<!DOC', b'\\n<!do', b'<!DOC', b'\\n\\t<!d', b'\\x1f\\x8b\\x08\\x00\\x00']\n",
      "Total Running Time :  2.280556200000092\n"
     ]
    }
   ],
   "source": [
    "if __name__ == '__main__':\n",
    "    # 루프 초기화\n",
    "    loop = asyncio.get_event_loop()  # get_event_loop()를 가져온다\n",
    "    loop.run_until_complete(main())  # 작업 완료 까지 대기(끝날때까지 루프는 계속된다)\n",
    "\n",
    "    duration = timeit.default_timer() - start  # 수행 시간 계산\n",
    "\n",
    "    print('Total Running Time : ', duration)  # 총 실행 시간"
   ]
  },
  {
   "cell_type": "markdown",
   "metadata": {},
   "source": [
    "- 실행 순서와 결과 순서가 다를 수 있다. (비동기이기 때문)\n",
    "- 제어권을 넘겼기 때문에 일단 요청하고 본다.\n",
    "- 먼저오는 것 순서대로 기다렸다가 `gather`로 취합을 한다.\n",
    "- 그리고 `futures`에 있는 것을 언패킹하여 결과를 출력한다.\n",
    "- 이를 이용하여 `fetch` 함수에 원하는 작업을 작성하면 된다."
   ]
  },
  {
   "cell_type": "markdown",
   "metadata": {},
   "source": [
    "## AsyncIO 멀티 스크랩핑 실습 (2)\n",
    "- Asyncio 웹 스크랩핑 실습\n",
    "- Beautiful Soup 추가\n",
    "- 스케쥴러 사용시 주기적으로 데이터 수집 가능"
   ]
  },
  {
   "cell_type": "code",
   "execution_count": 12,
   "metadata": {},
   "outputs": [],
   "source": [
    "import asyncio\n",
    "import timeit\n",
    "from urllib.request import urlopen\n",
    "from concurrent.futures import ThreadPoolExecutor\n",
    "import threading\n",
    "from bs4 import BeautifulSoup\n",
    "\n",
    "\n",
    "# 실행 시작 시간\n",
    "start = timeit.default_timer()\n",
    "\n",
    "# 서비스 방향이 비슷한 사이트로 실습 권장(예 : 게시판성 커뮤니티)\n",
    "urls = ['http://daum.net', 'https://naver.com', 'http://mlbpark.donga.com/',\n",
    "        'https://tistory.com', 'https://www.inflearn.com/']"
   ]
  },
  {
   "cell_type": "code",
   "execution_count": 13,
   "metadata": {},
   "outputs": [],
   "source": [
    "async def fetch(url, executor):\n",
    "    # 쓰레드명 출력\n",
    "    print('Thread Name :', threading.current_thread().getName(), 'Start', url)\n",
    "    # 실행\n",
    "    res = await loop.run_in_executor(executor, urlopen, url)\n",
    "\n",
    "    soup = BeautifulSoup(res.read(), 'html.parser')\n",
    "\n",
    "    # 전체 페이지 소스 확인\n",
    "    # print(soup.prettify())\n",
    "    # 이 부분에서 BeautifulSoup Selector(선택자)를 활용해서 다양한 정보 가져오기 가능\n",
    "    # 현 예제에서는 페이지 타이틀 정보 수집\n",
    "    result_data = soup.title\n",
    "\n",
    "    print('Thread Name :', threading.current_thread().getName(), 'Done', url)\n",
    "    # 결과 반환\n",
    "    return result_data"
   ]
  },
  {
   "cell_type": "markdown",
   "metadata": {},
   "source": [
    "- BeautifulSoup를 이용하여 웹에서 가져온 데이터(`res`)를 읽어주고 `html.parser`를 이용하여 파싱한다."
   ]
  },
  {
   "cell_type": "code",
   "execution_count": 14,
   "metadata": {},
   "outputs": [],
   "source": [
    "async def main():\n",
    "    # 쓰레드 풀 생성\n",
    "    executor = ThreadPoolExecutor(max_workers=10)\n",
    "\n",
    "    # future 객체 모아서 gather에서 실행\n",
    "    futures = [\n",
    "        asyncio.ensure_future(fetch(url, executor)) for url in urls\n",
    "    ]\n",
    "\n",
    "    # 결과 취합\n",
    "    rst = await asyncio.gather(*futures)\n",
    "\n",
    "    print()\n",
    "    print('Result : ', rst)"
   ]
  },
  {
   "cell_type": "code",
   "execution_count": 15,
   "metadata": {},
   "outputs": [
    {
     "name": "stdout",
     "output_type": "stream",
     "text": [
      "Thread Name : MainThread Start http://daum.net\n",
      "Thread Name : MainThread Start https://naver.com\n",
      "Thread Name : MainThread Start http://mlbpark.donga.com/\n",
      "Thread Name : MainThread Start https://tistory.com\n",
      "Thread Name : MainThread Start https://www.inflearn.com/\n",
      "Thread Name : MainThread Done http://mlbpark.donga.com/\n",
      "Thread Name : MainThread Done https://naver.com\n",
      "Thread Name : MainThread Done https://tistory.com\n",
      "Thread Name : MainThread Done https://www.inflearn.com/\n",
      "Thread Name : MainThread Done http://daum.net\n",
      "\n",
      "Result :  [<title>Daum</title>, <title>NAVER</title>, <title>↗ 파크에 오면 즐겁다 MLBPARK</title>, <title>TISTORY</title>, <title>인프런 - 1등 온라인 클래스 오픈 플랫폼</title>]\n",
      "Total Running Time :  20.576115599999866\n"
     ]
    }
   ],
   "source": [
    "if __name__ == '__main__':\n",
    "    # 루프 초기화\n",
    "    loop = asyncio.get_event_loop()\n",
    "    # 작업 완료 까지 대기\n",
    "    loop.run_until_complete(main())\n",
    "    # 수행 시간 계산\n",
    "    duration = timeit.default_timer() - start\n",
    "    # 총 실행 시간\n",
    "    print('Total Running Time : ', duration)"
   ]
  },
  {
   "cell_type": "code",
   "execution_count": null,
   "metadata": {},
   "outputs": [],
   "source": []
  }
 ],
 "metadata": {
  "kernelspec": {
   "display_name": "Python 3",
   "language": "python",
   "name": "python3"
  },
  "language_info": {
   "codemirror_mode": {
    "name": "ipython",
    "version": 3
   },
   "file_extension": ".py",
   "mimetype": "text/x-python",
   "name": "python",
   "nbconvert_exporter": "python",
   "pygments_lexer": "ipython3",
   "version": "3.7.6"
  },
  "toc": {
   "base_numbering": 1,
   "nav_menu": {},
   "number_sections": true,
   "sideBar": true,
   "skip_h1_title": false,
   "title_cell": "Table of Contents",
   "title_sidebar": "Contents",
   "toc_cell": false,
   "toc_position": {},
   "toc_section_display": true,
   "toc_window_display": false
  },
  "varInspector": {
   "cols": {
    "lenName": 16,
    "lenType": 16,
    "lenVar": 40
   },
   "kernels_config": {
    "python": {
     "delete_cmd_postfix": "",
     "delete_cmd_prefix": "del ",
     "library": "var_list.py",
     "varRefreshCmd": "print(var_dic_list())"
    },
    "r": {
     "delete_cmd_postfix": ") ",
     "delete_cmd_prefix": "rm(",
     "library": "var_list.r",
     "varRefreshCmd": "cat(var_dic_list()) "
    }
   },
   "types_to_exclude": [
    "module",
    "function",
    "builtin_function_or_method",
    "instance",
    "_Feature"
   ],
   "window_display": false
  }
 },
 "nbformat": 4,
 "nbformat_minor": 4
}
