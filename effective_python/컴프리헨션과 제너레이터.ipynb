{
  "nbformat": 4,
  "nbformat_minor": 0,
  "metadata": {
    "colab": {
      "name": "Untitled10.ipynb",
      "private_outputs": true,
      "provenance": [],
      "collapsed_sections": [],
      "authorship_tag": "ABX9TyNnsYaf8RHnzASUqkdkB8Rp",
      "include_colab_link": true
    },
    "kernelspec": {
      "name": "python3",
      "display_name": "Python 3"
    },
    "language_info": {
      "name": "python"
    }
  },
  "cells": [
    {
      "cell_type": "markdown",
      "metadata": {
        "id": "view-in-github",
        "colab_type": "text"
      },
      "source": [
        "<a href=\"https://colab.research.google.com/github/t1seo/Python_Notebook/blob/master/effective_python/%EC%BB%B4%ED%94%84%EB%A6%AC%ED%97%A8%EC%85%98%EA%B3%BC%20%EC%A0%9C%EB%84%88%EB%A0%88%EC%9D%B4%ED%84%B0.ipynb\" target=\"_parent\"><img src=\"https://colab.research.google.com/assets/colab-badge.svg\" alt=\"Open In Colab\"/></a>"
      ]
    },
    {
      "cell_type": "markdown",
      "metadata": {
        "id": "PyYRQNLn_ZSn"
      },
      "source": [
        "# CHAPTER 4 컴프리헨션과 제너레이터\n",
        "\n",
        "- 파이썬에서는 **컴프리헨션(comprehension)**이라는 특별한 구문을 사용해, 리스트, 딕셔너리, 집합 등의 타입을 간결하게 이터레이션하면서 원소로부터 파생되는 데이터 구조르 생성할 수 있다.\n",
        "\n",
        "- 컴프리헨션 코딩 스타일은 **제너레이터(generator)**를 사용하는 함수로 확장할 수 있다. 제너레이터는 함수가 점진적으로 반환하는 값으로 이뤄지는 스트림을 만들어준다. 이터레이터를 사용할 수 있는 곳(foraㅜㄴ, 별표 식)이라면 어디에서나 제너레이터 함수를 호출한 결과를 사요할 수 있다.\n",
        "\n",
        "\n",
        "제너레이터를 사용하면 성능을 향상시키고, 메모리 사용을 줄이고, 가독성을 높일 수 있다."
      ]
    },
    {
      "cell_type": "markdown",
      "metadata": {
        "id": "eoR7gFhb_AzP"
      },
      "source": [
        "## BETTER WAY 27 map과 filter 대신 컴프리헨션을 사용하라"
      ]
    },
    {
      "cell_type": "markdown",
      "metadata": {
        "id": "W2xLmXD2_YWJ"
      },
      "source": [
        "## BETTER WAY 28 컴프리헨션 내부에 제어 하위 식을 세 개 이상 사용하지 말라"
      ]
    },
    {
      "cell_type": "markdown",
      "metadata": {
        "id": "npTZFeGVALdP"
      },
      "source": [
        "## BETTER WAY 29 대입식을 사용해 컴프리헨션 안에서 반복 작업을 피하라"
      ]
    },
    {
      "cell_type": "markdown",
      "metadata": {
        "id": "CoMNNwk3ASpz"
      },
      "source": [
        "## BETTER WAY 30 리스트를 반환하기보다는 제너레이터를 사용하라"
      ]
    },
    {
      "cell_type": "code",
      "metadata": {
        "id": "TKQPgMuyAxt1"
      },
      "source": [
        "# 제너레이터 사용 안한 코드\n",
        "def index_words(text):\n",
        "    result = []\n",
        "    if text:\n",
        "        result.append(0)\n",
        "    for index, letter in enumerate(text):\n",
        "        if letter == ' ':\n",
        "            result.append(index + 1)\n",
        "    return result\n",
        "\n",
        "address = '컴퓨터(영어: Computer, 문화어: 콤퓨터, 순화어: 전산기)는 진공관'\n",
        "result = index_words(address)\n",
        "print(result)"
      ],
      "execution_count": null,
      "outputs": []
    },
    {
      "cell_type": "code",
      "metadata": {
        "id": "s5Eg3Dl1BMkd"
      },
      "source": [
        "# 제너레이터 사용\n",
        "def index_words_iter(text):\n",
        "    if text:\n",
        "        yield 0\n",
        "    for index, letter in enumerate(text):\n",
        "        if letter == ' ':\n",
        "            yield index + 1"
      ],
      "execution_count": null,
      "outputs": []
    },
    {
      "cell_type": "markdown",
      "metadata": {
        "id": "WpRKqgCfBhrn"
      },
      "source": [
        "- 이 함수가 호출되면 제너레이터 함수가 실행되지 않고 즉시 이터레이터를 반환한다.\n",
        "- 이터레이터가 `next` 내장 함수를 호출할 때마다 이터레이너튼 제너레이터 함수를 다음 `yield` 식까지 진행시킨다.\n",
        "- 제너레이터가 `yield`에 전달하는 값은 이터레이터에 의해 호출하는 쪽에 반환된다."
      ]
    },
    {
      "cell_type": "code",
      "metadata": {
        "id": "maE0M0sXBzeq"
      },
      "source": [
        "it = index_words_iter(address)\n",
        "print(next(it))\n",
        "print(next(it))"
      ],
      "execution_count": null,
      "outputs": []
    },
    {
      "cell_type": "code",
      "metadata": {
        "id": "I6cZKUlxB30j"
      },
      "source": [
        "result = list(index_words_iter(address)) # 이터레이터를 리스트로\n",
        "print(result)"
      ],
      "execution_count": null,
      "outputs": []
    },
    {
      "cell_type": "code",
      "metadata": {
        "id": "4i39MhNXB_Rl"
      },
      "source": [
        "# 파일에서 한 번에 한 줄씩 읽어 한 단어씩 출력하는 제너레이터\n",
        "def index_file(handle):\n",
        "    offset = 0\n",
        "    for line in handle:\n",
        "        if line:\n",
        "            yield offset\n",
        "        for letter in line:\n",
        "            offset += 1\n",
        "            if letter == ' ':\n",
        "                yield offset\n",
        "            "
      ],
      "execution_count": null,
      "outputs": []
    },
    {
      "cell_type": "code",
      "metadata": {
        "id": "hQfSwEAqDT7Z"
      },
      "source": [
        "from google.colab import files\n",
        "uploaded = files.upload() # 파일 업로드 기능 실행"
      ],
      "execution_count": null,
      "outputs": []
    },
    {
      "cell_type": "code",
      "metadata": {
        "id": "o_-QOxLIDUx2"
      },
      "source": [
        "import itertools\n",
        "\n",
        "with open('lorem_ipsum.txt', 'r', encoding='utf-8') as f:\n",
        "    # lorem_ipsum = f.read()\n",
        "    # print(lorem_ipsum)\n",
        "    it = index_file(f)\n",
        "    results = itertools.islice(it, 0, 10)\n",
        "    print(list(results))"
      ],
      "execution_count": null,
      "outputs": []
    },
    {
      "cell_type": "markdown",
      "metadata": {
        "id": "kmOusFDbD6a_"
      },
      "source": [
        "## BETTER WAY 31 인자에 대해 이터레이션할 때는 방어적이 돼라"
      ]
    },
    {
      "cell_type": "code",
      "metadata": {
        "id": "VWA725PYEpNe"
      },
      "source": [
        "# 정규화 함수\n",
        "def normalize(numbers):\n",
        "    total = sum(numbers) # 이터레이터 사용 1\n",
        "    result = []\n",
        "    for value in numbers: # 이터레이터 사용 2\n",
        "        percent = 100 * value / total # 각각 x 100 / 총합 => normalization\n",
        "        result.append(percent)\n",
        "    return result\n",
        "\n",
        "visits = [15, 35, 80]\n",
        "percentages = normalize(visits)\n",
        "print(percentages)\n",
        "assert sum(percentages) == 100.0"
      ],
      "execution_count": null,
      "outputs": []
    },
    {
      "cell_type": "code",
      "metadata": {
        "id": "JTfQiOVtHfkX"
      },
      "source": [
        "from google.colab import files\n",
        "uploaded = files.upload() # 파일 업로드 기능 실행"
      ],
      "execution_count": null,
      "outputs": []
    },
    {
      "cell_type": "code",
      "metadata": {
        "id": "vpkUJa8XFsk4"
      },
      "source": [
        "def read_visits(data_path):\n",
        "    with open(data_path) as f:\n",
        "        for line in f:\n",
        "            yield int(line) # 이터레이터 한 번 사용\n",
        "\n",
        "it = read_visits('numbers.txt')\n",
        "percentages = normalize(it) # 이터레이터 두 번 사용\n",
        "print(percentages) # 아무런 결과가 출력이 안된다"
      ],
      "execution_count": null,
      "outputs": []
    },
    {
      "cell_type": "markdown",
      "metadata": {
        "id": "gOhE--nCFHji"
      },
      "source": [
        "- 위 코드는 실행이 안된다. normalize 함수에서 `sum`과 `for`에서 이터레이터를 두 번 사용하기 때문이다.\n",
        "\n",
        "- 이터레이터는 결과를 단 한번만 만들어낸다. 이미 `StopIteration` 예외가 발생한 이터레이터나 제너레이터를 다시 이터레이션하면 아무런 결과도 얻을 수 없다.\n",
        "\n"
      ]
    },
    {
      "cell_type": "markdown",
      "metadata": {
        "id": "jqP4s6j-J2Ip"
      },
      "source": [
        "\n",
        "해결 방법:\n",
        "- 이터레이터를 명시적으로 소진시키고 이터레이터의 전체 내용을 리스트에 넣는다\n",
        "    - 메모리를 엄청 많이 사용할 수 있다.\n",
        "- 호출될 때마다 새로운 이터레이터를 반환하는 함수를 받는다.\n",
        "    - 보기에 좋지 않다.\n",
        "- **이터레이터 프로토콜(iterator protocol)**\n",
        "    - 이터레이터 프로토콜은 파이썬의 `for`루프나 그와 연관된 식들이 컨테이너 타입의 내용을 방문할 때 사용하는 절차이다."
      ]
    },
    {
      "cell_type": "code",
      "metadata": {
        "id": "OW3lTLUBHN0k"
      },
      "source": [
        "class ReadVisits:\n",
        "    def __init__(self, data_path):\n",
        "        self.data_path = data_path\n",
        "    \n",
        "    def __iter__(self):\n",
        "        with open(self.data_path) as f:\n",
        "            for line in f:\n",
        "                yield int(line)"
      ],
      "execution_count": null,
      "outputs": []
    },
    {
      "cell_type": "code",
      "metadata": {
        "id": "_7DEgTiqHOC0"
      },
      "source": [
        "visits = ReadVisits('numbers.txt')\n",
        "percentages = normalize(visits)\n",
        "print(percentages)\n",
        "assert sum(percentages) == 100.0"
      ],
      "execution_count": null,
      "outputs": []
    },
    {
      "cell_type": "markdown",
      "metadata": {
        "id": "skBChvxJI6tM"
      },
      "source": [
        "- 이 코드가 잘 작동하는 이유는 `normalize` 함수 안의 `sum` 메서드가 `ReadVisits.__iter__`를 호출해서 새로운 이터레이터 객체를 할당하기 때문이다.\n",
        "- 각 숫자를 정규화하기 위한 `for` 루프도 `__iter__`를 호출해서 두 번째 이터레이터 객체를 만든다.\n",
        "\n",
        "- 두 이터레이터는 서로 독립적으로 진행되고 소진된다. 이로 인해 두 이터레이터는 모든 입력 데이터 값을 볼 수 있는 별도의 이터레이터를 만들어낸다."
      ]
    },
    {
      "cell_type": "markdown",
      "metadata": {
        "id": "GkNILBW2KyjQ"
      },
      "source": [
        "### 인자가 이터레이터인지 검사"
      ]
    },
    {
      "cell_type": "code",
      "metadata": {
        "id": "YAp9ICQHLNog"
      },
      "source": [
        "def normalize_defensive(numbers):\n",
        "    if iter(numbers) is numbers: # is를 사용해 iterator인지 검사\n",
        "        raise TypeError('컨테이너를 제공해야 합니다')\n",
        "    total = sum(numbers)\n",
        "    result = []\n",
        "    for value in numbers:\n",
        "        percent = 100 * value / total\n",
        "        result.append(percent)\n",
        "    return result"
      ],
      "execution_count": null,
      "outputs": []
    },
    {
      "cell_type": "markdown",
      "metadata": {
        "id": "cd--FYDqLTC1"
      },
      "source": [
        "`collections.abc` 내장 모듈은 `isinstance`를 사용해 잠재적인 문제를 검사할 수 있는 `Iterator` 클래스를 제공한다."
      ]
    },
    {
      "cell_type": "code",
      "metadata": {
        "id": "HYtdk9_NLZ8u"
      },
      "source": [
        "from collections.abc import Iterator\n",
        "\n",
        "def normalize_defensive(numbers):\n",
        "    if isinstance(numbers, Iterator): # 반복 가능한 이터레이터인지 검사하는 다른 방법\n",
        "        raise TypeError('컨테이너를 제공해야 합니다')\n",
        "    total = sum(numbers)\n",
        "    result = []\n",
        "    for value in numbers:\n",
        "        percent = 100 * value / total\n",
        "        result.append(percent)\n",
        "    return result"
      ],
      "execution_count": null,
      "outputs": []
    },
    {
      "cell_type": "code",
      "metadata": {
        "id": "itKLZCEJLgoE"
      },
      "source": [
        "visits = [15, 35, 80]\n",
        "percentages = normalize_defensive(visits)\n",
        "assert sum(percentages) == 100.0\n",
        "\n",
        "visits = ReadVisits('number.txt')\n",
        "percentages = normalize_defensive(visits)\n",
        "assert sum(percentages) == 100.0\n",
        "\n",
        "#\n",
        "visits = [15, 35, 80]\n",
        "it = iter(visits)\n",
        "# 오류가 나는 부분. 오류를 보고 싶으면 커멘트를 해제할것\n",
        "#normalize_defensive(it)"
      ],
      "execution_count": null,
      "outputs": []
    },
    {
      "cell_type": "markdown",
      "metadata": {
        "id": "8MquRIjSLll4"
      },
      "source": [
        "- 이 함수는 입력이 컨테이너가 아닌 이터레이터면 예외를 발생시킨다.\n",
        "- 비동기 이터레이터에 대해서도 같은 접근 방식을 사용할 수 있다."
      ]
    },
    {
      "cell_type": "code",
      "metadata": {
        "id": "O8_PKxg1LyaA"
      },
      "source": [
        ""
      ],
      "execution_count": null,
      "outputs": []
    }
  ]
}