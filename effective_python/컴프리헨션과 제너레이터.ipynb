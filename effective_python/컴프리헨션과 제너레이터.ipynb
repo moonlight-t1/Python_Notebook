{
  "nbformat": 4,
  "nbformat_minor": 0,
  "metadata": {
    "colab": {
      "name": "Untitled10.ipynb",
      "provenance": [],
      "collapsed_sections": [],
      "authorship_tag": "ABX9TyNADhOta9zT9OX+oo3kX1h/",
      "include_colab_link": true
    },
    "kernelspec": {
      "name": "python3",
      "display_name": "Python 3"
    },
    "language_info": {
      "name": "python"
    }
  },
  "cells": [
    {
      "cell_type": "markdown",
      "metadata": {
        "id": "view-in-github",
        "colab_type": "text"
      },
      "source": [
        "<a href=\"https://colab.research.google.com/github/t1seo/Python_Notebook/blob/master/effective_python/%EC%BB%B4%ED%94%84%EB%A6%AC%ED%97%A8%EC%85%98%EA%B3%BC%20%EC%A0%9C%EB%84%88%EB%A0%88%EC%9D%B4%ED%84%B0.ipynb\" target=\"_parent\"><img src=\"https://colab.research.google.com/assets/colab-badge.svg\" alt=\"Open In Colab\"/></a>"
      ]
    },
    {
      "cell_type": "markdown",
      "metadata": {
        "id": "PyYRQNLn_ZSn"
      },
      "source": [
        "# CHAPTER 4 컴프리헨션과 제너레이터\n",
        "\n",
        "- 파이썬에서는 **컴프리헨션(comprehension)**이라는 특별한 구문을 사용해, 리스트, 딕셔너리, 집합 등의 타입을 간결하게 이터레이션하면서 원소로부터 파생되는 데이터 구조르 생성할 수 있다.\n",
        "\n",
        "- 컴프리헨션 코딩 스타일은 **제너레이터(generator)**를 사용하는 함수로 확장할 수 있다. 제너레이터는 함수가 점진적으로 반환하는 값으로 이뤄지는 스트림을 만들어준다. 이터레이터를 사용할 수 있는 곳(for 루프, 별표 식)이라면 어디에서나 제너레이터 함수를 호출한 결과를 사요할 수 있다.\n",
        "\n",
        "\n",
        "제너레이터를 사용하면 성능을 향상시키고, 메모리 사용을 줄이고, 가독성을 높일 수 있다."
      ]
    },
    {
      "cell_type": "markdown",
      "metadata": {
        "id": "eoR7gFhb_AzP"
      },
      "source": [
        "## BETTER WAY 27 map과 filter 대신 컴프리헨션을 사용하라"
      ]
    },
    {
      "cell_type": "markdown",
      "metadata": {
        "id": "W2xLmXD2_YWJ"
      },
      "source": [
        "## BETTER WAY 28 컴프리헨션 내부에 제어 하위 식을 세 개 이상 사용하지 말라"
      ]
    },
    {
      "cell_type": "markdown",
      "metadata": {
        "id": "npTZFeGVALdP"
      },
      "source": [
        "## BETTER WAY 29 대입식을 사용해 컴프리헨션 안에서 반복 작업을 피하라"
      ]
    },
    {
      "cell_type": "markdown",
      "metadata": {
        "id": "CoMNNwk3ASpz"
      },
      "source": [
        "## BETTER WAY 30 리스트를 반환하기보다는 제너레이터를 사용하라"
      ]
    },
    {
      "cell_type": "code",
      "metadata": {
        "colab": {
          "base_uri": "https://localhost:8080/"
        },
        "id": "TKQPgMuyAxt1",
        "outputId": "d59732ba-549f-41f0-b64d-878fa7482bf9"
      },
      "source": [
        "# 제너레이터 사용 안한 코드\n",
        "def index_words(text):\n",
        "    result = []\n",
        "    if text:\n",
        "        result.append(0)\n",
        "    for index, letter in enumerate(text):\n",
        "        if letter == ' ':\n",
        "            result.append(index + 1)\n",
        "    return result\n",
        "\n",
        "address = '컴퓨터(영어: Computer, 문화어: 콤퓨터, 순화어: 전산기)는 진공관'\n",
        "result = index_words(address)\n",
        "print(result)"
      ],
      "execution_count": null,
      "outputs": [
        {
          "output_type": "stream",
          "text": [
            "[0, 8, 18, 23, 28, 33, 39]\n"
          ],
          "name": "stdout"
        }
      ]
    },
    {
      "cell_type": "code",
      "metadata": {
        "id": "s5Eg3Dl1BMkd"
      },
      "source": [
        "# 제너레이터 사용\n",
        "def index_words_iter(text):\n",
        "    if text:\n",
        "        yield 0\n",
        "    for index, letter in enumerate(text):\n",
        "        if letter == ' ':\n",
        "            yield index + 1"
      ],
      "execution_count": null,
      "outputs": []
    },
    {
      "cell_type": "markdown",
      "metadata": {
        "id": "WpRKqgCfBhrn"
      },
      "source": [
        "- 이 함수가 호출되면 제너레이터 함수가 실행되지 않고 즉시 이터레이터를 반환한다.\n",
        "- 이터레이터가 `next` 내장 함수를 호출할 때마다 이터레이너튼 제너레이터 함수를 다음 `yield` 식까지 진행시킨다.\n",
        "- 제너레이터가 `yield`에 전달하는 값은 이터레이터에 의해 호출하는 쪽에 반환된다."
      ]
    },
    {
      "cell_type": "code",
      "metadata": {
        "colab": {
          "base_uri": "https://localhost:8080/"
        },
        "id": "maE0M0sXBzeq",
        "outputId": "18b40230-7e01-460a-dc61-200fe59cdda9"
      },
      "source": [
        "it = index_words_iter(address)\n",
        "print(next(it))\n",
        "print(next(it))"
      ],
      "execution_count": null,
      "outputs": [
        {
          "output_type": "stream",
          "text": [
            "0\n",
            "8\n"
          ],
          "name": "stdout"
        }
      ]
    },
    {
      "cell_type": "code",
      "metadata": {
        "colab": {
          "base_uri": "https://localhost:8080/"
        },
        "id": "I6cZKUlxB30j",
        "outputId": "19b62fed-63b1-4acd-babc-650974d24a70"
      },
      "source": [
        "result = list(index_words_iter(address)) # 이터레이터를 리스트로\n",
        "print(result)"
      ],
      "execution_count": null,
      "outputs": [
        {
          "output_type": "stream",
          "text": [
            "[0, 8, 18, 23, 28, 33, 39]\n"
          ],
          "name": "stdout"
        }
      ]
    },
    {
      "cell_type": "code",
      "metadata": {
        "id": "4i39MhNXB_Rl"
      },
      "source": [
        "# 파일에서 한 번에 한 줄씩 읽어 한 단어씩 출력하는 제너레이터\n",
        "def index_file(handle):\n",
        "    offset = 0\n",
        "    for line in handle:\n",
        "        if line:\n",
        "            yield offset\n",
        "        for letter in line:\n",
        "            offset += 1\n",
        "            if letter == ' ':\n",
        "                yield offset\n",
        "            "
      ],
      "execution_count": null,
      "outputs": []
    },
    {
      "cell_type": "code",
      "metadata": {
        "colab": {
          "resources": {
            "http://localhost:8080/nbextensions/google.colab/files.js": {
              "data": "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",
              "ok": true,
              "headers": [
                [
                  "content-type",
                  "application/javascript"
                ]
              ],
              "status": 200,
              "status_text": ""
            }
          },
          "base_uri": "https://localhost:8080/",
          "height": 73
        },
        "id": "hQfSwEAqDT7Z",
        "outputId": "b5839d15-9bb6-46a5-f1b4-cdc8a0737400"
      },
      "source": [
        "from google.colab import files\n",
        "uploaded = files.upload() # 파일 업로드 기능 실행"
      ],
      "execution_count": null,
      "outputs": [
        {
          "output_type": "display_data",
          "data": {
            "text/html": [
              "\n",
              "     <input type=\"file\" id=\"files-461d794e-aab9-424b-8136-1360166efb6c\" name=\"files[]\" multiple disabled\n",
              "        style=\"border:none\" />\n",
              "     <output id=\"result-461d794e-aab9-424b-8136-1360166efb6c\">\n",
              "      Upload widget is only available when the cell has been executed in the\n",
              "      current browser session. Please rerun this cell to enable.\n",
              "      </output>\n",
              "      <script src=\"/nbextensions/google.colab/files.js\"></script> "
            ],
            "text/plain": [
              "<IPython.core.display.HTML object>"
            ]
          },
          "metadata": {
            "tags": []
          }
        },
        {
          "output_type": "stream",
          "text": [
            "Saving lorem_ipsum.txt to lorem_ipsum.txt\n"
          ],
          "name": "stdout"
        }
      ]
    },
    {
      "cell_type": "code",
      "metadata": {
        "colab": {
          "base_uri": "https://localhost:8080/"
        },
        "id": "o_-QOxLIDUx2",
        "outputId": "591f2297-32fb-47a3-cc11-308cc3395a1a"
      },
      "source": [
        "import itertools\n",
        "\n",
        "with open('lorem_ipsum.txt', 'r', encoding='utf-8') as f:\n",
        "    # lorem_ipsum = f.read()\n",
        "    # print(lorem_ipsum)\n",
        "    it = index_file(f)\n",
        "    results = itertools.islice(it, 0, 10)\n",
        "    print(list(results))"
      ],
      "execution_count": null,
      "outputs": [
        {
          "output_type": "stream",
          "text": [
            "[0, 6, 12, 18, 22, 28, 40, 51, 57, 64]\n"
          ],
          "name": "stdout"
        }
      ]
    },
    {
      "cell_type": "markdown",
      "metadata": {
        "id": "kmOusFDbD6a_"
      },
      "source": [
        "## BETTER WAY 31 인자에 대해 이터레이션할 때는 방어적이 돼라\n",
        "- [Python | Difference between iterable and iterator](https://www.geeksforgeeks.org/python-difference-iterable-iterator/)\n",
        "- [파이썬 이터레이터(iterator)와 이터러블(iterable) 차이점](https://sikaleo.tistory.com/61)"
      ]
    },
    {
      "cell_type": "code",
      "metadata": {
        "colab": {
          "base_uri": "https://localhost:8080/"
        },
        "id": "VWA725PYEpNe",
        "outputId": "9c24c036-d2bf-4ec4-ed1d-3b1c08c6c3ce"
      },
      "source": [
        "# 정규화 함수\n",
        "def normalize(numbers):\n",
        "    total = sum(numbers) # 이터레이터 사용 1\n",
        "    result = []\n",
        "    for value in numbers: # 이터레이터 사용 2\n",
        "        percent = 100 * value / total # 각각 x 100 / 총합 => normalization\n",
        "        result.append(percent)\n",
        "    return result\n",
        "\n",
        "visits = [15, 35, 80]\n",
        "percentages = normalize(visits)\n",
        "print(percentages)\n",
        "assert sum(percentages) == 100.0"
      ],
      "execution_count": null,
      "outputs": [
        {
          "output_type": "stream",
          "text": [
            "[11.538461538461538, 26.923076923076923, 61.53846153846154]\n"
          ],
          "name": "stdout"
        }
      ]
    },
    {
      "cell_type": "code",
      "metadata": {
        "colab": {
          "resources": {
            "http://localhost:8080/nbextensions/google.colab/files.js": {
              "data": "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",
              "ok": true,
              "headers": [
                [
                  "content-type",
                  "application/javascript"
                ]
              ],
              "status": 200,
              "status_text": ""
            }
          },
          "base_uri": "https://localhost:8080/",
          "height": 73
        },
        "id": "JTfQiOVtHfkX",
        "outputId": "b7a34ad8-6237-41ce-f9c0-76c814fb884b"
      },
      "source": [
        "from google.colab import files\n",
        "uploaded = files.upload() # 파일 업로드 기능 실행"
      ],
      "execution_count": null,
      "outputs": [
        {
          "output_type": "display_data",
          "data": {
            "text/html": [
              "\n",
              "     <input type=\"file\" id=\"files-b21aff6c-90bc-45b2-aecd-4d13fbcb6c84\" name=\"files[]\" multiple disabled\n",
              "        style=\"border:none\" />\n",
              "     <output id=\"result-b21aff6c-90bc-45b2-aecd-4d13fbcb6c84\">\n",
              "      Upload widget is only available when the cell has been executed in the\n",
              "      current browser session. Please rerun this cell to enable.\n",
              "      </output>\n",
              "      <script src=\"/nbextensions/google.colab/files.js\"></script> "
            ],
            "text/plain": [
              "<IPython.core.display.HTML object>"
            ]
          },
          "metadata": {
            "tags": []
          }
        },
        {
          "output_type": "stream",
          "text": [
            "Saving numbers.txt to numbers.txt\n"
          ],
          "name": "stdout"
        }
      ]
    },
    {
      "cell_type": "code",
      "metadata": {
        "colab": {
          "base_uri": "https://localhost:8080/"
        },
        "id": "vpkUJa8XFsk4",
        "outputId": "1647abdd-f822-4c72-beab-8e7cc28eb86e"
      },
      "source": [
        "# 파일을 읽는 제너레이터 함수\n",
        "def read_visits(data_path):\n",
        "    with open(data_path) as f:\n",
        "        for line in f:\n",
        "            yield int(line) # yield\n",
        "\n",
        "it = read_visits('numbers.txt')\n",
        "percentages = normalize(it) # 이터레이터 두 번 사용\n",
        "print(percentages) # 아무런 결과가 출력이 안된다"
      ],
      "execution_count": null,
      "outputs": [
        {
          "output_type": "stream",
          "text": [
            "[]\n"
          ],
          "name": "stdout"
        }
      ]
    },
    {
      "cell_type": "markdown",
      "metadata": {
        "id": "gOhE--nCFHji"
      },
      "source": [
        "- 위 코드는 실행이 안된다. normalize 함수에서 `sum`과 `for`에서 이터레이터를 두 번 사용하기 때문이다.\n",
        "\n",
        "- 이터레이터는 결과를 단 한번만 만들어낸다. 이미 `StopIteration` 예외가 발생한 이터레이터나 제너레이터를 다시 이터레이션하면 아무런 결과도 얻을 수 없다.\n",
        "\n"
      ]
    },
    {
      "cell_type": "markdown",
      "metadata": {
        "id": "jqP4s6j-J2Ip"
      },
      "source": [
        "\n",
        "해결 방법:\n",
        "- 이터레이터를 명시적으로 소진시키고 이터레이터의 전체 내용을 리스트에 넣는다\n",
        "    - 메모리를 엄청 많이 사용할 수 있다.\n",
        "- 호출될 때마다 새로운 이터레이터를 반환하는 함수를 받는다.\n",
        "    - 보기에 좋지 않다.\n",
        "- **이터레이터 프로토콜(iterator protocol)**\n",
        "    - 이터레이터 프로토콜은 파이썬의 `for`루프나 그와 연관된 식들이 컨테이너 타입의 내용을 방문할 때 사용하는 절차이다."
      ]
    },
    {
      "cell_type": "code",
      "metadata": {
        "id": "OW3lTLUBHN0k"
      },
      "source": [
        "class ReadVisits:\n",
        "    def __init__(self, data_path):\n",
        "        self.data_path = data_path\n",
        "    \n",
        "    def __iter__(self):\n",
        "        with open(self.data_path) as f:\n",
        "            for line in f:\n",
        "                yield int(line)"
      ],
      "execution_count": null,
      "outputs": []
    },
    {
      "cell_type": "code",
      "metadata": {
        "colab": {
          "base_uri": "https://localhost:8080/"
        },
        "id": "_7DEgTiqHOC0",
        "outputId": "8f220fd9-3545-4098-d8d8-62784d0765b8"
      },
      "source": [
        "visits = ReadVisits('numbers.txt')\n",
        "percentages = normalize(visits)\n",
        "print(percentages)\n",
        "assert sum(percentages) == 100.0"
      ],
      "execution_count": null,
      "outputs": [
        {
          "output_type": "stream",
          "text": [
            "[11.538461538461538, 26.923076923076923, 61.53846153846154]\n"
          ],
          "name": "stdout"
        }
      ]
    },
    {
      "cell_type": "markdown",
      "metadata": {
        "id": "skBChvxJI6tM"
      },
      "source": [
        "- 이 코드가 잘 작동하는 이유는 `normalize` 함수 안의 `sum` 메서드가 `ReadVisits.__iter__`를 호출해서 새로운 이터레이터 객체를 할당하기 때문이다.\n",
        "- 각 숫자를 정규화하기 위한 `for` 루프도 `__iter__`를 호출해서 두 번째 이터레이터 객체를 만든다.\n",
        "\n",
        "- 두 이터레이터는 서로 독립적으로 진행되고 소진된다. 이로 인해 두 이터레이터는 모든 입력 데이터 값을 볼 수 있는 별도의 이터레이터를 만들어낸다."
      ]
    },
    {
      "cell_type": "markdown",
      "metadata": {
        "id": "GkNILBW2KyjQ"
      },
      "source": [
        "### 인자가 이터레이터인지 검사"
      ]
    },
    {
      "cell_type": "code",
      "metadata": {
        "id": "YAp9ICQHLNog"
      },
      "source": [
        "def normalize_defensive(numbers):\n",
        "    if iter(numbers) is numbers: # is를 사용해 iterator인지 검사 iter(it) is it\n",
        "        raise TypeError('컨테이너를 제공해야 합니다')\n",
        "    total = sum(numbers)\n",
        "    result = []\n",
        "    for value in numbers:\n",
        "        percent = 100 * value / total\n",
        "        result.append(percent)\n",
        "    return result"
      ],
      "execution_count": null,
      "outputs": []
    },
    {
      "cell_type": "code",
      "metadata": {
        "colab": {
          "base_uri": "https://localhost:8080/"
        },
        "id": "hl7XDGrQZHDK",
        "outputId": "90bb3d14-de01-4435-c9eb-3ec6a8f5254f"
      },
      "source": [
        "s = 'abc' # iterable\n",
        "# print(dir(s))\n",
        "it = iter(s) # iterator\n",
        "# print(iter(it) is it)\n",
        "print(dir(it))"
      ],
      "execution_count": null,
      "outputs": [
        {
          "output_type": "stream",
          "text": [
            "True\n",
            "['__class__', '__delattr__', '__dir__', '__doc__', '__eq__', '__format__', '__ge__', '__getattribute__', '__gt__', '__hash__', '__init__', '__init_subclass__', '__iter__', '__le__', '__length_hint__', '__lt__', '__ne__', '__new__', '__next__', '__reduce__', '__reduce_ex__', '__repr__', '__setattr__', '__setstate__', '__sizeof__', '__str__', '__subclasshook__']\n"
          ],
          "name": "stdout"
        }
      ]
    },
    {
      "cell_type": "markdown",
      "metadata": {
        "id": "cd--FYDqLTC1"
      },
      "source": [
        "`collections.abc` 내장 모듈은 `isinstance`를 사용해 잠재적인 문제를 검사할 수 있는 `Iterator` 클래스를 제공한다."
      ]
    },
    {
      "cell_type": "code",
      "metadata": {
        "id": "HYtdk9_NLZ8u"
      },
      "source": [
        "from collections.abc import Iterator\n",
        "\n",
        "def normalize_defensive(numbers):\n",
        "    if isinstance(numbers, Iterator): # 반복 가능한 이터레이터인지 검사하는 다른 방법\n",
        "        raise TypeError('컨테이너를 제공해야 합니다')\n",
        "    total = sum(numbers)\n",
        "    result = []\n",
        "    for value in numbers:\n",
        "        percent = 100 * value / total\n",
        "        result.append(percent)\n",
        "    return result"
      ],
      "execution_count": null,
      "outputs": []
    },
    {
      "cell_type": "code",
      "metadata": {
        "id": "itKLZCEJLgoE"
      },
      "source": [
        "visits = [15, 35, 80]\n",
        "percentages = normalize_defensive(visits)\n",
        "assert sum(percentages) == 100.0\n",
        "\n",
        "visits = ReadVisits('numbers.txt')\n",
        "percentages = normalize_defensive(visits)\n",
        "assert sum(percentages) == 100.0\n",
        "\n",
        "#\n",
        "visits = [15, 35, 80]\n",
        "it = iter(visits)\n",
        "# 오류가 나는 부분. 오류를 보고 싶으면 커멘트를 해제할것\n",
        "# normalize_defensive(it)"
      ],
      "execution_count": null,
      "outputs": []
    },
    {
      "cell_type": "markdown",
      "metadata": {
        "id": "8MquRIjSLll4"
      },
      "source": [
        "- 이 함수는 입력이 컨테이너가 아닌 이터레이터면 예외를 발생시킨다.\n",
        "- 비동기 이터레이터에 대해서도 같은 접근 방식을 사용할 수 있다."
      ]
    },
    {
      "cell_type": "markdown",
      "metadata": {
        "id": "O8_PKxg1LyaA"
      },
      "source": [
        "## BETTER WAY 32 긴 리스트 컴프리헨션보다는 제너레이터 식을 사용하라\n",
        "\n",
        "파이썬은 **제너레이터 식(generatro expression)**을 제공한다. 제너레이터 식은 리스트 컴프리헨션과 제너레이터를 일반화한 것이다. 제너레이터 식을 실행해도 출력 시퀀스 전체가 실체화되지는 않는다. 그 대신 제너레이터 식에 들어 있는 식으로부터 원소를 하나씩 만들어내는 이터레이터가 생성된다."
      ]
    },
    {
      "cell_type": "markdown",
      "metadata": {
        "id": "1yfKp343NpUR"
      },
      "source": [
        "`()` 사이에 리스트 컴프리헨션과 비슷한 구문을 넣어 제너레이터 식을 만들 수 있다.\n",
        "\n",
        "제너레이터 식은 이터레이터로 즉시 평가되며, 더 이상 시퀀스 원소 계산을 하지 않는다."
      ]
    },
    {
      "cell_type": "code",
      "metadata": {
        "colab": {
          "base_uri": "https://localhost:8080/"
        },
        "id": "OXTBu9xZPvTv",
        "outputId": "8387c7bd-c1d3-402c-f5a4-9a923670f2a8"
      },
      "source": [
        "x = (i for i in range(50) if i % 2 == 0)\n",
        "\n",
        "print(x)\n",
        "\n",
        "for i in x:\n",
        "    print(i, end=\" \")"
      ],
      "execution_count": null,
      "outputs": [
        {
          "output_type": "stream",
          "text": [
            "<generator object <genexpr> at 0x7f1da45aadd0>\n",
            "0 2 4 6 8 10 12 14 16 18 20 22 24 26 28 30 32 34 36 38 40 42 44 46 48 "
          ],
          "name": "stdout"
        }
      ]
    },
    {
      "cell_type": "code",
      "metadata": {
        "colab": {
          "base_uri": "https://localhost:8080/"
        },
        "id": "QAbofLKHOgPb",
        "outputId": "d7cef01f-c344-4a76-bddf-1fa39d022d2e"
      },
      "source": [
        "it = (len(x) for x in open('numbers.txt'))\n",
        "print(it)"
      ],
      "execution_count": null,
      "outputs": [
        {
          "output_type": "stream",
          "text": [
            "<generator object <genexpr> at 0x7f1da04cbc50>\n"
          ],
          "name": "stdout"
        }
      ]
    },
    {
      "cell_type": "code",
      "metadata": {
        "colab": {
          "base_uri": "https://localhost:8080/"
        },
        "id": "88L2kj0bOkxB",
        "outputId": "116e75ad-71f2-45fb-97af-2c7bb2cdadb9"
      },
      "source": [
        "print(next(it))\n",
        "print(next(it))"
      ],
      "execution_count": null,
      "outputs": [
        {
          "output_type": "stream",
          "text": [
            "3\n",
            "3\n"
          ],
          "name": "stdout"
        }
      ]
    },
    {
      "cell_type": "markdown",
      "metadata": {
        "id": "0AG-WPUAOmrY"
      },
      "source": [
        "제터레이터 식의 또 다른 강력한 특징은 두 제너레이터 식을 합성할 수 있다는 점이다. \n",
        "\n",
        "다음 코드에서는 제너레티어 식이 반환한 이터레이터를 다른 제너레이터 식의 입력으로 사용된다."
      ]
    },
    {
      "cell_type": "code",
      "metadata": {
        "colab": {
          "base_uri": "https://localhost:8080/"
        },
        "id": "c-yRJz-QOwdt",
        "outputId": "dc4dd939-0014-4755-a02d-7e1ecfb280d3"
      },
      "source": [
        "roots = ((x, x**0.5) for x in it) # 이터레이터를 다른 제너레이터 식의 입력으로 사용\n",
        "print(next(roots))"
      ],
      "execution_count": null,
      "outputs": [
        {
          "output_type": "stream",
          "text": [
            "(2, 1.4142135623730951)\n"
          ],
          "name": "stdout"
        }
      ]
    },
    {
      "cell_type": "markdown",
      "metadata": {
        "id": "1I7o4w4qO3Kv"
      },
      "source": [
        "- 제너레이터를 함께 연결한 코드를 파이썬은 아주 빠르게 실행할 수 있다.\n",
        "\n",
        "- 아주 큰 입력 스트림에 대해 여러 기능을 합성해 적용해야 한다면, 제너레이터 식을 선택하라."
      ]
    },
    {
      "cell_type": "markdown",
      "metadata": {
        "id": "m73B16UwPGnG"
      },
      "source": [
        "## BETTER WAY 33 yield from을 사용해 여러 제너레이터를 합성하라"
      ]
    },
    {
      "cell_type": "markdown",
      "metadata": {
        "id": "fH3docKjPhfM"
      },
      "source": [
        "반복문을 사용하지 않고 반복 가능한 객체에서 값을 하나씩 바깥으로 전달할 수 있게 해주는 것이 `yield from`이다."
      ]
    },
    {
      "cell_type": "code",
      "metadata": {
        "colab": {
          "base_uri": "https://localhost:8080/"
        },
        "id": "UTTxIHhBPjWT",
        "outputId": "fa3cedc2-4a36-4c8c-de98-a3c785086aa4"
      },
      "source": [
        "def number_generator():\n",
        "    x = [1, 2, 3]  # 반복 가능한 객체\n",
        "    yield from x\n",
        "\n",
        "\n",
        "for i in number_generator():\n",
        "    print(i)"
      ],
      "execution_count": null,
      "outputs": [
        {
          "output_type": "stream",
          "text": [
            "1\n",
            "2\n",
            "3\n"
          ],
          "name": "stdout"
        }
      ]
    },
    {
      "cell_type": "markdown",
      "metadata": {
        "id": "IL9kVmRLPmm0"
      },
      "source": [
        "`yield from`에 제너레이터 객체를 지정해 줄 수 있다."
      ]
    },
    {
      "cell_type": "code",
      "metadata": {
        "colab": {
          "base_uri": "https://localhost:8080/"
        },
        "id": "wuLzJ7tVPrLI",
        "outputId": "47e04980-71a8-475f-f2aa-8abb9884a0e4"
      },
      "source": [
        "def number_generator(stop): # 제너레이터\n",
        "    n = 0\n",
        "    while n < stop:\n",
        "        yield n\n",
        "        n += 1\n",
        "\n",
        "\n",
        "def three_generator():\n",
        "    yield from number_generator(3) # 제너레이터 객체 지정\n",
        "\n",
        "\n",
        "for i in three_generator():\n",
        "    print(i)"
      ],
      "execution_count": null,
      "outputs": [
        {
          "output_type": "stream",
          "text": [
            "0\n",
            "1\n",
            "2\n"
          ],
          "name": "stdout"
        }
      ]
    },
    {
      "cell_type": "code",
      "metadata": {
        "id": "R7lYNoD_Ptef"
      },
      "source": [
        "def move(period, speed):\n",
        "    for _ in range(period):\n",
        "        yield speed\n",
        "\n",
        "def pause(delay):\n",
        "    for _ in range(delay):\n",
        "        yield 0"
      ],
      "execution_count": null,
      "outputs": []
    },
    {
      "cell_type": "code",
      "metadata": {
        "colab": {
          "base_uri": "https://localhost:8080/"
        },
        "id": "u-jmyEtCP_oo",
        "outputId": "b6f2319c-c783-47f5-f1ed-403b78b1653a"
      },
      "source": [
        "def animate_composed():\n",
        "    yield from move(4, 5.0)\n",
        "    yield from pause(3)\n",
        "    yield from move(2, 3.0)\n",
        "\n",
        "def render(delta):\n",
        "    print(f'Delta: {delta:.1f}')\n",
        "    # 화면에서 이미지 이동시킨다.\n",
        "\n",
        "def run(func):\n",
        "    for delta in func():\n",
        "        render(delta)\n",
        "\n",
        "run(animate_composed)"
      ],
      "execution_count": null,
      "outputs": [
        {
          "output_type": "stream",
          "text": [
            "Delta: 5.0\n",
            "Delta: 5.0\n",
            "Delta: 5.0\n",
            "Delta: 5.0\n",
            "Delta: 0.0\n",
            "Delta: 0.0\n",
            "Delta: 0.0\n",
            "Delta: 3.0\n",
            "Delta: 3.0\n"
          ],
          "name": "stdout"
        }
      ]
    },
    {
      "cell_type": "markdown",
      "metadata": {
        "id": "gAhJ7udhQIbJ"
      },
      "source": [
        "`yield from`은 근본적으로 파이썬 인터프리터가 여러분 대신 `for` 루프를 내포시키고 `yield` 식을 처리하도록 만든다. 이로 인해 성능도 더 좋아진다."
      ]
    },
    {
      "cell_type": "markdown",
      "metadata": {
        "id": "x4YqR1cmQpjQ"
      },
      "source": [
        "`timeit` 내장 모듈을 통해 마이크로 벤치마크(micro benchmark)를 실행함으로써 성능이 개선되는지 살펴본다."
      ]
    },
    {
      "cell_type": "code",
      "metadata": {
        "colab": {
          "base_uri": "https://localhost:8080/"
        },
        "id": "-mGmL2GrQxDq",
        "outputId": "856e130a-20b5-40ec-80ee-5a6eab93ccd2"
      },
      "source": [
        "import timeit\n",
        "\n",
        "def child():\n",
        "    for i in range(1_000_000):\n",
        "        yield i\n",
        "\n",
        "def slow():\n",
        "    for i in child():\n",
        "        yield i # yield 사용\n",
        "\n",
        "def fast():\n",
        "    yield from child() # yield from 사용\n",
        "\n",
        "baseline = timeit.timeit(\n",
        "    stmt='for _ in slow(): pass',\n",
        "    globals=globals(),\n",
        "    number=50)\n",
        "print(f'수동 내포: {baseline:.2f}s')\n",
        "\n",
        "comparison = timeit.timeit(\n",
        "    stmt='for _ in fast(): pass',\n",
        "    globals=globals(),\n",
        "    number=50)\n",
        "print(f'합성 사용: {comparison:.2f}s')\n",
        "\n",
        "reduction = -(comparison - baseline) / baseline\n",
        "print(f'{reduction:.1%} 시간이 적게 듦')"
      ],
      "execution_count": null,
      "outputs": [
        {
          "output_type": "stream",
          "text": [
            "수동 내포: 4.84s\n",
            "합성 사용: 4.01s\n",
            "17.2% 시간이 적게 듦\n"
          ],
          "name": "stdout"
        }
      ]
    },
    {
      "cell_type": "markdown",
      "metadata": {
        "id": "iep4VhblRAg0"
      },
      "source": [
        "## BETTER WAY 34 send로 제너레이터에 데이터를 주입하지 말라"
      ]
    },
    {
      "cell_type": "code",
      "metadata": {
        "colab": {
          "base_uri": "https://localhost:8080/"
        },
        "id": "bM_3ESo9Ro4a",
        "outputId": "6e62581b-a361-430d-b2e2-092ea9c2d8fe"
      },
      "source": [
        "import math\n",
        "\n",
        "# 소프트웨어 라디오를 사용해 신호를 내보낸다.\n",
        "# 주어진 간격과 진폭에 따른 사인파값을 생성한다.\n",
        "\n",
        "def wave(amplitude, steps):\n",
        "    step_size = 2 * math.pi / steps   # 2라디안/단계 수\n",
        "    for step in range(steps):\n",
        "        radians = step * step_size\n",
        "        fraction = math.sin(radians)\n",
        "        output = amplitude * fraction\n",
        "        yield output\n",
        "\n",
        "def transmit(output):\n",
        "    if output is None:\n",
        "        print(f'출력: None')\n",
        "    else:\n",
        "        print(f'출력: {output:>5.1f}')\n",
        "\n",
        "def run(it):\n",
        "    for output in it:\n",
        "        transmit(output)\n",
        "\n",
        "run(wave(3.0, 8))"
      ],
      "execution_count": null,
      "outputs": [
        {
          "output_type": "stream",
          "text": [
            "출력:   0.0\n",
            "출력:   2.1\n",
            "출력:   3.0\n",
            "출력:   2.1\n",
            "출력:   0.0\n",
            "출력:  -2.1\n",
            "출력:  -3.0\n",
            "출력:  -2.1\n"
          ],
          "name": "stdout"
        }
      ]
    },
    {
      "cell_type": "markdown",
      "metadata": {
        "id": "gOQ91mP5cgJ5"
      },
      "source": [
        "파이썬 제너레이터는 `send` 메서드를 지원한다. 이 메서등는 `yield` 식을 양방향 채널로 격상시켜준다.\n",
        "\n",
        "`send` 메서드를 사용하면 입력을 제너레이터에 스트리밍하는 동시에 출력을 내보낼 수 있다. 일반적으로 제너레이터를 이터레이션할 때 `yield`식이 반환하는 값은 `None`이다."
      ]
    },
    {
      "cell_type": "code",
      "metadata": {
        "colab": {
          "base_uri": "https://localhost:8080/"
        },
        "id": "A-mcpAKASZNw",
        "outputId": "f9349fbc-f4d3-45e0-e6e6-227b308c231b"
      },
      "source": [
        "def my_generator():\n",
        "    received = yield 1\n",
        "    print(f'받은 값 = {received}')\n",
        "\n",
        "it = iter(my_generator())\n",
        "output = next(it)\n",
        "print(f'출력값 = {output}')\n",
        "\n",
        "try:\n",
        "    next(it)\n",
        "except StopIteration:\n",
        "    pass\n",
        "\n",
        "\n",
        "it = iter(my_generator())\n",
        "output = it.send(None)     # 첫 번째 제너레이터 출력을 얻는다\n",
        "print(f'출력값 = {output}')\n",
        "\n",
        "try:\n",
        "    it.send('안녕!')    # 값을 제너레이터에 넣는다\n",
        "except StopIteration:\n",
        "    pass"
      ],
      "execution_count": null,
      "outputs": [
        {
          "output_type": "stream",
          "text": [
            "출력값 = 1\n",
            "받은 값 = None\n",
            "출력값 = 1\n",
            "받은 값 = 안녕!\n"
          ],
          "name": "stdout"
        }
      ]
    },
    {
      "cell_type": "markdown",
      "metadata": {
        "id": "DFA8nXNzYUz4"
      },
      "source": [
        "- `for` 루프나 `next` 내장 함수로 제너레이터를 이터레이션하지 않고 `send` 메서드를 호출하면, 제너레이터가 재개될 때 `yield`가 `send`에 전달된 파라미터 값을 반환한다.\n",
        "\n",
        "\n",
        "- 하지만 방금 시작한 제너레이터는 아직 `yield` 식에 도달하지 못했기 때문에 최초로 `send`를 호출할 때 인자로 전달할 수 있는 유일한 값은 `None`뿐이다."
      ]
    },
    {
      "cell_type": "code",
      "metadata": {
        "colab": {
          "base_uri": "https://localhost:8080/"
        },
        "id": "lZ1LBIhIdjRx",
        "outputId": "bb9d331e-e339-4be3-aa2a-11a212de2e6d"
      },
      "source": [
        "import math\n",
        "def wave_modulating(steps):\n",
        "    step_size = 2 * math.pi / steps\n",
        "    amplitude = yield                # 초기 진폭을 받는다\n",
        "    for step in range(steps):\n",
        "        radians = step * step_size\n",
        "        fraction = math.sin(radians)\n",
        "        output = amplitude * fraction\n",
        "        amplitude = yield output     # 다음 진폭을 받는다\n",
        "\n",
        "def run_modulating(it):\n",
        "    amplitudes = [\n",
        "        None, 7, 7, 7, 2, 2, 2, 2, 10, 10, 10, 10, 10] # 진폭\n",
        "    for amplitude in amplitudes:\n",
        "        output = it.send(amplitude) # amplitudee를 보낸다\n",
        "        transmit(output)\n",
        "\n",
        "run_modulating(wave_modulating(12))"
      ],
      "execution_count": null,
      "outputs": [
        {
          "output_type": "stream",
          "text": [
            "출력: None\n",
            "출력:   0.0\n",
            "출력:   3.5\n",
            "출력:   6.1\n",
            "출력:   2.0\n",
            "출력:   1.7\n",
            "출력:   1.0\n",
            "출력:   0.0\n",
            "출력:  -5.0\n",
            "출력:  -8.7\n",
            "출력: -10.0\n",
            "출력:  -8.7\n",
            "출력:  -5.0\n"
          ],
          "name": "stdout"
        }
      ]
    },
    {
      "cell_type": "markdown",
      "metadata": {
        "id": "H4surkhudsR8"
      },
      "source": [
        "- 위의 경우는 너무 복잡하다.\n",
        "- `yield from`을 사용해보자"
      ]
    },
    {
      "cell_type": "code",
      "metadata": {
        "colab": {
          "base_uri": "https://localhost:8080/"
        },
        "id": "Qkny-ggneZdr",
        "outputId": "9d4c8686-555c-454c-dc9c-a4173b584ddb"
      },
      "source": [
        "def complex_wave():\n",
        "    yield from wave(7.0, 3)\n",
        "    yield from wave(2.0, 4)\n",
        "    yield from wave(10.0, 5)\n",
        "\n",
        "run(complex_wave())"
      ],
      "execution_count": null,
      "outputs": [
        {
          "output_type": "stream",
          "text": [
            "출력:   0.0\n",
            "출력:   6.1\n",
            "출력:  -6.1\n",
            "출력:   0.0\n",
            "출력:   2.0\n",
            "출력:   0.0\n",
            "출력:  -2.0\n",
            "출력:   0.0\n",
            "출력:   9.5\n",
            "출력:   5.9\n",
            "출력:  -5.9\n",
            "출력:  -9.5\n"
          ],
          "name": "stdout"
        }
      ]
    },
    {
      "cell_type": "code",
      "metadata": {
        "colab": {
          "base_uri": "https://localhost:8080/"
        },
        "id": "IkIF6XSgecd4",
        "outputId": "4f72a744-1f1c-4a73-a3cc-699230a6e576"
      },
      "source": [
        "def complex_wave_modulating():\n",
        "    yield from wave_modulating(3)\n",
        "    yield from wave_modulating(4)\n",
        "    yield from wave_modulating(5)\n",
        "    \n",
        "run_modulating(complex_wave_modulating())"
      ],
      "execution_count": null,
      "outputs": [
        {
          "output_type": "stream",
          "text": [
            "출력: None\n",
            "출력:   0.0\n",
            "출력:   6.1\n",
            "출력:  -6.1\n",
            "출력: None\n",
            "출력:   0.0\n",
            "출력:   2.0\n",
            "출력:   0.0\n",
            "출력: -10.0\n",
            "출력: None\n",
            "출력:   0.0\n",
            "출력:   9.5\n",
            "출력:   5.9\n"
          ],
          "name": "stdout"
        }
      ]
    },
    {
      "cell_type": "markdown",
      "metadata": {
        "id": "bFpqXB-OefG9"
      },
      "source": [
        "- 출력에 `None`이 여럿 보인다. \n",
        "- 내포된 제너레이터에 대한 `yield from` 식이 끝날 때마다 다음 `yield from`식이 실행된다. \n",
        "- 각각의 내포된 제너레이터는 `send` 메서드 호출로부터 값을 받기 위해 아무런 값도 만들어내지 않는 단순한 `yield` 식으로 시작한다. 이로 인해 부모 제너레이터가 자식 제너레이터를 옮겨갈 때마다 `None`이 출력된다."
      ]
    },
    {
      "cell_type": "markdown",
      "metadata": {
        "id": "QBbRzQiofNFL"
      },
      "source": [
        "가장 쉬운 해결책은 `send` 메서드를 사용하지 않고 wave 함수에 이터레이터를 전달하는 것이다. 이 이터레인터는 자신에 대해 `next` 내장 함수가 호출될 때마다 입력으로 받은 진폭을 하나씩 돌려준다.\n",
        "\n",
        "이런 식으로 이전 제너레이터를 다음 제너레이터의 입력으로 연쇄시켜 연결하면 입력과 출력이 차례로 처리되게 만들 수 있다."
      ]
    },
    {
      "cell_type": "code",
      "metadata": {
        "colab": {
          "base_uri": "https://localhost:8080/"
        },
        "id": "L1PSAJUPfrqx",
        "outputId": "f0b80668-d00d-4673-9ac1-2a57c9a9becb"
      },
      "source": [
        "import math\n",
        "\n",
        "def wave_cascading(amplitude_it, steps):\n",
        "    step_size = 2 * math.pi / steps\n",
        "    for step in range(steps):\n",
        "        radians = step * step_size\n",
        "        fraction = math.sin(radians)\n",
        "        amplitude = next(amplitude_it) # 다음 입력 받기\n",
        "        output = amplitude * fraction\n",
        "        yield output\n",
        "\n",
        "def complex_wave_cascading(amplitude_it):\n",
        "    yield from wave_cascading(amplitude_it, 3)\n",
        "    yield from wave_cascading(amplitude_it, 4)\n",
        "    yield from wave_cascading(amplitude_it, 5)\n",
        "\n",
        "def run_cascading():\n",
        "    amplitudes = [7, 7, 7, 2, 2, 2, 2, 10, 10, 10, 10, 10]\n",
        "    it = complex_wave_cascading(iter(amplitudes))\n",
        "    for amplitude in amplitudes:\n",
        "        output = next(it)\n",
        "        transmit(output)\n",
        "\n",
        "run_cascading()"
      ],
      "execution_count": null,
      "outputs": [
        {
          "output_type": "stream",
          "text": [
            "출력:   0.0\n",
            "출력:   6.1\n",
            "출력:  -6.1\n",
            "출력:   0.0\n",
            "출력:   2.0\n",
            "출력:   0.0\n",
            "출력:  -2.0\n",
            "출력:   0.0\n",
            "출력:   9.5\n",
            "출력:   5.9\n",
            "출력:  -5.9\n",
            "출력:  -9.5\n"
          ],
          "name": "stdout"
        }
      ]
    },
    {
      "cell_type": "markdown",
      "metadata": {
        "id": "GxbPTkPUfv_h"
      },
      "source": [
        "- 이 접근 방법에서 가장 멋진 부분은 아무데서나 이터레이터를 가져올 수 있다는 점이다. \n",
        "- 이터레이터가 완전히 동적인 경우(제너레이터 함수를 사용해 이터레이터를 만든 경우)에도 잘 작동한다.\n",
        "- 다만 이 코드는 입력 제너레이터가 완전히 스레드 안전하다고 가정하다는 단점이 있다. 제너레이터는 항상 스레드 안전하지는 않다."
      ]
    },
    {
      "cell_type": "markdown",
      "metadata": {
        "id": "nZW5yGfKifVN"
      },
      "source": [
        "## BETTER WAY 35 제너레이터 안에서 throw로 상태를 변화시키지 말라"
      ]
    },
    {
      "cell_type": "markdown",
      "metadata": {
        "id": "3VH-67EOkPV8"
      },
      "source": [
        "제너레이터 안에는 `Exception`을 다시 던질 수 있는 `throw` 메서드가 있다.\n",
        "\n",
        "어떤 제너레이터에 대해 `throw`가 호출되면 이 제너레이터는 값을 내놓는 `yield`로부터 평소처럼 제너레이터 실행을 계속 하는 대신, `throw`가 제공한 `Exception`을 다시 던진다."
      ]
    },
    {
      "cell_type": "code",
      "metadata": {
        "colab": {
          "base_uri": "https://localhost:8080/"
        },
        "id": "ZTBLBFYYkxHe",
        "outputId": "256550dd-596d-4d4c-ee0a-3d0065326264"
      },
      "source": [
        "class MyError(Exception):\n",
        "    pass\n",
        "\n",
        "def my_generator():\n",
        "    yield 1\n",
        "    yield 2\n",
        "    yield 3\n",
        "\n",
        "it = my_generator()\n",
        "print(next(it))  # 1을 내놓음\n",
        "print(next(it))  # 2를 내놓음\n",
        "#print(it.throw(MyError('test error'))) # 에러 발생 시킨다"
      ],
      "execution_count": null,
      "outputs": [
        {
          "output_type": "stream",
          "text": [
            "1\n",
            "2\n"
          ],
          "name": "stdout"
        }
      ]
    },
    {
      "cell_type": "code",
      "metadata": {
        "colab": {
          "base_uri": "https://localhost:8080/"
        },
        "id": "CNttJbFVk7yR",
        "outputId": "d780ec22-36d9-4c25-fb26-389a30dc0f21"
      },
      "source": [
        "def my_generator():\n",
        "    yield 1\n",
        "    try:\n",
        "        yield 2\n",
        "    except MyError:\n",
        "        print('MyError 발생!')\n",
        "    else: # else\n",
        "        yield 3\n",
        "    yield 4\n",
        "\n",
        "it = my_generator()\n",
        "print(next(it))  # 1을 내놓음\n",
        "print(next(it))  # 2를 내놓음\n",
        "print(it.throw(MyError('test error')))\n"
      ],
      "execution_count": null,
      "outputs": [
        {
          "output_type": "stream",
          "text": [
            "1\n",
            "2\n",
            "MyError 발생!\n",
            "4\n"
          ],
          "name": "stdout"
        }
      ]
    },
    {
      "cell_type": "markdown",
      "metadata": {
        "id": "kFg_tkXClMzW"
      },
      "source": [
        "- 이 기능은 제너레이터와 제너레이터를 호출하는 쪽 사이에 양방향 통신 수단을 제공한다. 경우에 따라 이 양방향 통신 수단이 유용할 수도 있다."
      ]
    },
    {
      "cell_type": "code",
      "metadata": {
        "colab": {
          "base_uri": "https://localhost:8080/"
        },
        "id": "6b7LRVXomN_s",
        "outputId": "636eadbe-04a3-4162-a178-44e30313ee9e"
      },
      "source": [
        "class Reset(Exception):\n",
        "    pass\n",
        "\n",
        "# 타이머 함수\n",
        "def timer(period):\n",
        "    current = period\n",
        "    while current:\n",
        "        current -= 1\n",
        "        try:\n",
        "            yield current\n",
        "        except Reset: # 예외 발생하면 시간 리셋\n",
        "            current = period\n",
        "\n",
        "RESETS = [\n",
        "    False, False, False, True, False, True, False,\n",
        "    False, False, False, False, False, False, False]\n",
        "\n",
        "def check_for_reset():\n",
        "    # 외부 이벤트를 폴링한다\n",
        "    return RESETS.pop(0)\n",
        "\n",
        "def announce(remaining):\n",
        "    print(f'{remaining} 틱 남음')\n",
        "\n",
        "def run():\n",
        "    it = timer(4)\n",
        "    while True:\n",
        "        try:\n",
        "            if check_for_reset():\n",
        "                current = it.throw(Reset()) # throw로 상태 변화\n",
        "            else:\n",
        "                current = next(it)\n",
        "        except StopIteration:\n",
        "            break\n",
        "        else:\n",
        "            announce(current)\n",
        "\n",
        "run()"
      ],
      "execution_count": null,
      "outputs": [
        {
          "output_type": "stream",
          "text": [
            "3 틱 남음\n",
            "2 틱 남음\n",
            "1 틱 남음\n",
            "3 틱 남음\n",
            "2 틱 남음\n",
            "3 틱 남음\n",
            "2 틱 남음\n",
            "1 틱 남음\n",
            "0 틱 남음\n"
          ],
          "name": "stdout"
        }
      ]
    },
    {
      "cell_type": "markdown",
      "metadata": {
        "id": "cqqgXSOKmOdZ"
      },
      "source": [
        "- 이 코드는 동작은 잘하지만 필요 이상으로 읽기 어렵다.\n"
      ]
    },
    {
      "cell_type": "code",
      "metadata": {
        "colab": {
          "base_uri": "https://localhost:8080/"
        },
        "id": "Me1z4MAJmvrk",
        "outputId": "857c9f87-0b0a-4c5e-b56a-24a3d30ee4e9"
      },
      "source": [
        "class Timer:\n",
        "    def __init__(self, period):\n",
        "        self.current = period\n",
        "        self.period = period\n",
        "\n",
        "    def reset(self):\n",
        "        self.current = self.period\n",
        "\n",
        "    def __iter__(self):\n",
        "        while self.current:\n",
        "            self.current -= 1\n",
        "            yield self.current\n",
        "\n",
        "\n",
        "def run():\n",
        "    timer = Timer(3)\n",
        "    for current in timer:\n",
        "        if check_for_reset():\n",
        "            timer.reset()\n",
        "        announce(current)\n",
        "\n",
        "run()"
      ],
      "execution_count": null,
      "outputs": [
        {
          "output_type": "stream",
          "text": [
            "2 틱 남음\n",
            "1 틱 남음\n",
            "0 틱 남음\n"
          ],
          "name": "stdout"
        }
      ]
    },
    {
      "cell_type": "markdown",
      "metadata": {
        "id": "2dvqsphym1PL"
      },
      "source": [
        "## BETTER WAY 36 이터레이터나 제너레이터를 다룰 때는 itertools를 사용하라\n"
      ]
    },
    {
      "cell_type": "markdown",
      "metadata": {
        "id": "yhedZ8a3pdm6"
      },
      "source": [
        "### 여러 이터레이터 연결하기"
      ]
    },
    {
      "cell_type": "markdown",
      "metadata": {
        "id": "DyaRNyqaS4zE"
      },
      "source": [
        "#### chain\n",
        "여러 이터레이터를 하나의 순차적인 이터레이터로 합치고 싶을 때 `chain` 사용"
      ]
    },
    {
      "cell_type": "code",
      "metadata": {
        "id": "y8tkq7wkS-A7",
        "outputId": "ae95c099-ccdb-4fe6-ca11-b037f41a97db",
        "colab": {
          "base_uri": "https://localhost:8080/"
        }
      },
      "source": [
        "import itertools\n",
        "\n",
        "it = itertools.chain([1, 2, 3], [4, 5, 6])\n",
        "print(list(it))"
      ],
      "execution_count": 1,
      "outputs": [
        {
          "output_type": "stream",
          "text": [
            "[1, 2, 3, 4, 5, 6]\n"
          ],
          "name": "stdout"
        }
      ]
    },
    {
      "cell_type": "markdown",
      "metadata": {
        "id": "wBhQFF29TDad"
      },
      "source": [
        "#### repeat\n",
        "한 값을 계속 반복해 내놓고 싶을 때 repeat를 사용한다."
      ]
    },
    {
      "cell_type": "code",
      "metadata": {
        "id": "1Cke_dH2UF5i",
        "outputId": "2e247aad-a4b1-4ff2-b976-605e86d3e752",
        "colab": {
          "base_uri": "https://localhost:8080/"
        }
      },
      "source": [
        "it = itertools.repeat('안녕', 3)\n",
        "print(list(it))"
      ],
      "execution_count": 2,
      "outputs": [
        {
          "output_type": "stream",
          "text": [
            "['안녕', '안녕', '안녕']\n"
          ],
          "name": "stdout"
        }
      ]
    },
    {
      "cell_type": "markdown",
      "metadata": {
        "id": "nFS2Pdf3URvS"
      },
      "source": [
        "#### cycle\n",
        "어떤 이터레이터가 내놓는 원소들을 계속 반복하고 싶을 때는 cycle을 사용한다."
      ]
    },
    {
      "cell_type": "code",
      "metadata": {
        "id": "VfdD_bRlUg7m",
        "outputId": "7cea052f-734e-4ba9-f823-8a6e6a852dc0",
        "colab": {
          "base_uri": "https://localhost:8080/"
        }
      },
      "source": [
        "it = itertools.cycle([1, 2])\n",
        "\n",
        "result = [next(it) for _ in range (10)]\n",
        "print(result)"
      ],
      "execution_count": 4,
      "outputs": [
        {
          "output_type": "stream",
          "text": [
            "[1, 2, 1, 2, 1, 2, 1, 2, 1, 2]\n"
          ],
          "name": "stdout"
        }
      ]
    },
    {
      "cell_type": "markdown",
      "metadata": {
        "id": "281jXknSUoVh"
      },
      "source": [
        "#### tee\n",
        "한 이터레이터를 병렬적으로 두 번째 인자로 지정된 개수의 이터레이터로 만들고 싶을 때 `tee`를 사용한다."
      ]
    },
    {
      "cell_type": "code",
      "metadata": {
        "id": "Saxyhk8TU7Tn",
        "outputId": "c8ca8caa-d9f0-431f-d4ac-5e7bc57bd2cb",
        "colab": {
          "base_uri": "https://localhost:8080/"
        }
      },
      "source": [
        "it1, it2, it3 = itertools.tee(['하나', '둘'], 3)\n",
        "print(list(it1))\n",
        "print(list(it2))\n",
        "print(list(it3))"
      ],
      "execution_count": 5,
      "outputs": [
        {
          "output_type": "stream",
          "text": [
            "['하나', '둘']\n",
            "['하나', '둘']\n",
            "['하나', '둘']\n"
          ],
          "name": "stdout"
        }
      ]
    },
    {
      "cell_type": "markdown",
      "metadata": {
        "id": "t1UU-2jQU-wZ"
      },
      "source": [
        "#### zip_longest\n",
        "여러 이터레이터 중 짧은 쪽 이넡레이터의 원소를 다 사용한 경우 `fillvalue`로 지정한 값을 채워 넣어준다."
      ]
    },
    {
      "cell_type": "code",
      "metadata": {
        "id": "cC-LvDEsX2hh",
        "outputId": "de95faf4-b45b-49cc-d34c-180edf82465c",
        "colab": {
          "base_uri": "https://localhost:8080/"
        }
      },
      "source": [
        "keys = ['하나', '둘', '셋']\n",
        "values = [1, 2]\n",
        "\n",
        "normal = list(zip(keys, values))\n",
        "print('zip:', normal)\n",
        "\n",
        "it = itertools.zip_longest(keys, values, fillvalue='없음')\n",
        "longest = list(it)\n",
        "print('zip_longest:', longest)"
      ],
      "execution_count": 6,
      "outputs": [
        {
          "output_type": "stream",
          "text": [
            "zip: [('하나', 1), ('둘', 2)]\n",
            "zip_longest: [('하나', 1), ('둘', 2), ('셋', '없음')]\n"
          ],
          "name": "stdout"
        }
      ]
    },
    {
      "cell_type": "markdown",
      "metadata": {
        "id": "cufdiMk6X6Ia"
      },
      "source": [
        "### 이터레이터에서 원소 거르기"
      ]
    },
    {
      "cell_type": "markdown",
      "metadata": {
        "id": "z5LrgJ9WX_o3"
      },
      "source": [
        "#### islice\n",
        "이터레이터를 복사하지 않으면서 원소 인덱스를 잉요해 슬라이싱 하고 싶을 때 `islice`를 사용한다."
      ]
    },
    {
      "cell_type": "code",
      "metadata": {
        "id": "L8j14IFtYJCl",
        "outputId": "7aa8e94e-c49e-4ed2-cced-5ae0427cebe8",
        "colab": {
          "base_uri": "https://localhost:8080/"
        }
      },
      "source": [
        "values = [1, 2, 3, 4, 5, 6, 7, 8, 9, 10]\n",
        "\n",
        "first_five = itertools.islice(values, 5)\n",
        "print('앞에서 다섯 개:', list(first_five))\n",
        "\n",
        "middle_odds = itertools.islice(values, 2, 8, 2)\n",
        "print('중간의 홀수들:', list(middle_odds))"
      ],
      "execution_count": 7,
      "outputs": [
        {
          "output_type": "stream",
          "text": [
            "앞에서 다섯 개: [1, 2, 3, 4, 5]\n",
            "중간의 홀수들: [3, 5, 7]\n"
          ],
          "name": "stdout"
        }
      ]
    },
    {
      "cell_type": "markdown",
      "metadata": {
        "id": "ptNIDmkBYPxM"
      },
      "source": [
        "#### takewhile\n",
        "`takewhile`은 이터레이터에서 주어진 술어가 False를 반환하는 첫 원소가 나타낼 때까지 원소를 돌려준다."
      ]
    },
    {
      "cell_type": "code",
      "metadata": {
        "id": "SZMQHjgMYZBU",
        "outputId": "cc3b2b04-d8e6-4d75-d901-208d7f7cf8b3",
        "colab": {
          "base_uri": "https://localhost:8080/"
        }
      },
      "source": [
        "values = [1, 2, 3, 4, 5, 6, 7, 8, 9, 10]\n",
        "less_than_seven = lambda x: x < 7 # 7이상이면 False\n",
        "it = itertools.takewhile(less_than_seven, values)\n",
        "print(list(it))"
      ],
      "execution_count": 8,
      "outputs": [
        {
          "output_type": "stream",
          "text": [
            "[1, 2, 3, 4, 5, 6]\n"
          ],
          "name": "stdout"
        }
      ]
    },
    {
      "cell_type": "markdown",
      "metadata": {
        "id": "iT-jNc9VYayv"
      },
      "source": [
        "##### dropwhile\n",
        "`dropwhile`은 `takewhile`의 반대이다. 즉, 이터레이터에서 주어진 술어가 `False`를 반환하는 첫 번째 원소를 찾을 때까지 이터레이터의 원소를 건너뛴다."
      ]
    },
    {
      "cell_type": "code",
      "metadata": {
        "id": "eQ3Pc7acYt4P",
        "outputId": "18bc11a5-a20e-46b6-a536-a63d052cf1fe",
        "colab": {
          "base_uri": "https://localhost:8080/"
        }
      },
      "source": [
        "values = [1, 2, 3, 4, 5, 6, 7, 8, 9, 10]\n",
        "less_than_seven = lambda x: x < 7\n",
        "it = itertools.dropwhile(less_than_seven, values)\n",
        "print(list(it))"
      ],
      "execution_count": 9,
      "outputs": [
        {
          "output_type": "stream",
          "text": [
            "[7, 8, 9, 10]\n"
          ],
          "name": "stdout"
        }
      ]
    },
    {
      "cell_type": "markdown",
      "metadata": {
        "id": "QyReV9nUYvuJ"
      },
      "source": [
        "##### filterfalse\n",
        "`filterfalse`는 `filter` 내장 함수의 반대다. 즉, 주어진 이터레이터에서 술어가 False를 반환하는 모든 원소를 돌려준다."
      ]
    },
    {
      "cell_type": "code",
      "metadata": {
        "id": "pPT0dMRiY-IQ",
        "outputId": "e275b772-599c-427f-8fb2-7675d5108d24",
        "colab": {
          "base_uri": "https://localhost:8080/"
        }
      },
      "source": [
        "values = [1, 2, 3, 4, 5, 6, 7, 8, 9, 10]\n",
        "evens = lambda x: x % 2 == 0\n",
        "\n",
        "# filter\n",
        "filter_result = filter(evens, values)\n",
        "print('Filter:', list(filter_result))\n",
        "\n",
        "# filterfalse\n",
        "filter_false_result = itertools.filterfalse(evens, values)\n",
        "print('Filter false:', list(filter_false_result))"
      ],
      "execution_count": 10,
      "outputs": [
        {
          "output_type": "stream",
          "text": [
            "Filter: [2, 4, 6, 8, 10]\n",
            "Filter false: [1, 3, 5, 7, 9]\n"
          ],
          "name": "stdout"
        }
      ]
    },
    {
      "cell_type": "markdown",
      "metadata": {
        "id": "rZE_VqqaZCZf"
      },
      "source": [
        "### 이터레이터에서 원소의 조합 만들어내기"
      ]
    },
    {
      "cell_type": "markdown",
      "metadata": {
        "id": "H5x1gHDwZGfN"
      },
      "source": [
        "#### accumulate\n",
        "`accumulate`는 파라미터 두 개 받는 함수(이항 함수)를 반복 적용하면서 이터레이터 원소를 값 하나로 줄여준다."
      ]
    },
    {
      "cell_type": "code",
      "metadata": {
        "id": "fiUhI4WrZPAp",
        "outputId": "e3b1b5b1-02e1-4e5b-fd2c-db97454663ed",
        "colab": {
          "base_uri": "https://localhost:8080/"
        }
      },
      "source": [
        "values = [1, 2, 3, 4, 5, 6, 7, 8, 9, 10]\n",
        "sum_reduce = itertools.accumulate(values)\n",
        "print('합계:', list(sum_reduce))\n",
        "\n",
        "def sum_modulo_20(first, second):\n",
        "    output = first + second\n",
        "    return output % 20\n",
        "\n",
        "modulo_reduce = itertools.accumulate(values, sum_modulo_20)\n",
        "print('20으로 나눈 나머지의 합계:', list(modulo_reduce))"
      ],
      "execution_count": 11,
      "outputs": [
        {
          "output_type": "stream",
          "text": [
            "합계: [1, 3, 6, 10, 15, 21, 28, 36, 45, 55]\n",
            "20으로 나눈 나머지의 합계: [1, 3, 6, 10, 15, 1, 8, 16, 5, 15]\n"
          ],
          "name": "stdout"
        }
      ]
    },
    {
      "cell_type": "markdown",
      "metadata": {
        "id": "eFCmVbJlZTxZ"
      },
      "source": [
        "#### product\n",
        "`product`는 하나 이상의 이터레이터에 들어 있는 아이템들의 데카르트 곱(Cartesian product)을 반환한다."
      ]
    },
    {
      "cell_type": "code",
      "metadata": {
        "id": "Keshx7XtZhaT",
        "outputId": "b2e306d9-4caa-435b-9806-2e334eac464c",
        "colab": {
          "base_uri": "https://localhost:8080/"
        }
      },
      "source": [
        "single = itertools.product([1, 2], repeat=2)\n",
        "print('리스트 한 개:', list(single))\n",
        "\n",
        "multiple = itertools.product([1, 2], ['a', 'b'])\n",
        "print('리스트 두 개:', list(multiple))"
      ],
      "execution_count": 12,
      "outputs": [
        {
          "output_type": "stream",
          "text": [
            "리스트 한 개: [(1, 1), (1, 2), (2, 1), (2, 2)]\n",
            "리스트 두 개: [(1, 'a'), (1, 'b'), (2, 'a'), (2, 'b')]\n"
          ],
          "name": "stdout"
        }
      ]
    },
    {
      "cell_type": "markdown",
      "metadata": {
        "id": "fsnIjJ-iZjdQ"
      },
      "source": [
        "#### permutations\n",
        "`permutations`는 이터레이터가 내놓는 원소들로부터 만들어낸 길이 $N$인 순열을 돌려준다."
      ]
    },
    {
      "cell_type": "code",
      "metadata": {
        "id": "Rmvf4Q9cZyse",
        "outputId": "5953ff94-dc33-4306-d4e7-2835604855ea",
        "colab": {
          "base_uri": "https://localhost:8080/"
        }
      },
      "source": [
        "it = itertools.permutations([1, 2, 3, 4], 2)\n",
        "print(list(it))"
      ],
      "execution_count": 13,
      "outputs": [
        {
          "output_type": "stream",
          "text": [
            "[(1, 2), (1, 3), (1, 4), (2, 1), (2, 3), (2, 4), (3, 1), (3, 2), (3, 4), (4, 1), (4, 2), (4, 3)]\n"
          ],
          "name": "stdout"
        }
      ]
    },
    {
      "cell_type": "markdown",
      "metadata": {
        "id": "7gCMw-dOZzzD"
      },
      "source": [
        "#### combinations\n",
        "`combinations`는 이터레이터가 내놓는 원소들로부터 만들어낸 길이 $N$인 조합을 돌려준다."
      ]
    },
    {
      "cell_type": "code",
      "metadata": {
        "id": "YKYiIsr5Z-rH",
        "outputId": "b0174501-f7c6-4cb0-b1f9-6eef6c5a46c5",
        "colab": {
          "base_uri": "https://localhost:8080/"
        }
      },
      "source": [
        "it = itertools.combinations([1, 2, 3, 4], 2)\n",
        "print(list(it))"
      ],
      "execution_count": 14,
      "outputs": [
        {
          "output_type": "stream",
          "text": [
            "[(1, 2), (1, 3), (1, 4), (2, 3), (2, 4), (3, 4)]\n"
          ],
          "name": "stdout"
        }
      ]
    },
    {
      "cell_type": "markdown",
      "metadata": {
        "id": "6YLvJ69_aAWi"
      },
      "source": [
        "#### combinations_with_replacement\n",
        "`combinations_with_replacement`는 `combinations`와 같지만 원소의 반복을 허용한다. (즉, 중복 조합을 돌려준다)"
      ]
    },
    {
      "cell_type": "code",
      "metadata": {
        "id": "Q4cIQ7eNaPeV",
        "outputId": "a903ab24-4154-489d-9c6b-acad07651c1c",
        "colab": {
          "base_uri": "https://localhost:8080/"
        }
      },
      "source": [
        "it = itertools.combinations_with_replacement([1, 2, 3, 4], 2)\n",
        "print(list(it))"
      ],
      "execution_count": 15,
      "outputs": [
        {
          "output_type": "stream",
          "text": [
            "[(1, 1), (1, 2), (1, 3), (1, 4), (2, 2), (2, 3), (2, 4), (3, 3), (3, 4), (4, 4)]\n"
          ],
          "name": "stdout"
        }
      ]
    },
    {
      "cell_type": "code",
      "metadata": {
        "id": "L28slWh6aPtv"
      },
      "source": [
        ""
      ],
      "execution_count": null,
      "outputs": []
    }
  ]
}