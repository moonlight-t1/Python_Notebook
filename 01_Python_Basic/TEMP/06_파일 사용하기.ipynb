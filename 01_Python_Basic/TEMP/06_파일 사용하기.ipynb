{
 "cells": [
  {
   "cell_type": "markdown",
   "metadata": {},
   "source": [
    "# 파일에 문자열 쓰기, 읽기"
   ]
  },
  {
   "cell_type": "markdown",
   "metadata": {},
   "source": [
    "## 파일에 문자열 쓰기\n",
    "- **`파일객체 = open(파일이름, 파일모드)`**\n",
    "- **`파일객체.write('문자열')`**\n",
    "- **`파일객체.close()`**"
   ]
  },
  {
   "cell_type": "code",
   "execution_count": 1,
   "metadata": {},
   "outputs": [],
   "source": [
    "file = open('hello.txt', 'w')\n",
    "file.write('Hello, world!')\n",
    "file.close()"
   ]
  },
  {
   "cell_type": "markdown",
   "metadata": {},
   "source": [
    "## 파일에서 문자열 읽기\n",
    "- **`변수 = 파일객체.read()`**"
   ]
  },
  {
   "cell_type": "code",
   "execution_count": 2,
   "metadata": {},
   "outputs": [
    {
     "name": "stdout",
     "output_type": "stream",
     "text": [
      "Hello, world!\n"
     ]
    }
   ],
   "source": [
    "file = open('hello.txt', 'r')\n",
    "s = file.read()\n",
    "print(s)\n",
    "file.close()"
   ]
  },
  {
   "cell_type": "markdown",
   "metadata": {},
   "source": [
    "## 자동으로 파일 객체 닫기\n",
    "- 파이썬에서는 `with as`를 사용하면 파일을 사용한 뒤 자동으로 파일 객체를 닫아줍니다."
   ]
  },
  {
   "cell_type": "code",
   "execution_count": 3,
   "metadata": {},
   "outputs": [
    {
     "name": "stdout",
     "output_type": "stream",
     "text": [
      "Hello, world!\n"
     ]
    }
   ],
   "source": [
    "with open('hello.txt', 'r') as file:\n",
    "    s = file.read()\n",
    "    print(s)"
   ]
  },
  {
   "cell_type": "markdown",
   "metadata": {},
   "source": [
    "# 문자열 여러 줄을 파일에 쓰기, 읽기"
   ]
  },
  {
   "cell_type": "markdown",
   "metadata": {},
   "source": [
    "## 반복문으로 문자열 여러 줄을 파일에 쓰기"
   ]
  },
  {
   "cell_type": "code",
   "execution_count": 8,
   "metadata": {},
   "outputs": [],
   "source": [
    "with open('hello.txt', 'w') as file:\n",
    "    for i in range(3):\n",
    "        file.write('Hello, world! {0}'.format(i))"
   ]
  },
  {
   "cell_type": "markdown",
   "metadata": {},
   "source": [
    "## 리스트에 들어있는 문자열을 파일에 쓰기\n",
    "- **`파일객체.writelines(문자열리스트)`**"
   ]
  },
  {
   "cell_type": "code",
   "execution_count": 9,
   "metadata": {},
   "outputs": [],
   "source": [
    "lines = ['Hello\\n', 'Python\\n', 'Programming\\n']\n",
    "\n",
    "with open('hello.txt', 'w') as file:\n",
    "    file.writelines(lines)"
   ]
  },
  {
   "cell_type": "markdown",
   "metadata": {},
   "source": [
    "## 파일의 내용을 한 줄씩 리스트로 가져오기\n",
    "- **`변수 = 파일객체.readlines()`**"
   ]
  },
  {
   "cell_type": "code",
   "execution_count": 10,
   "metadata": {},
   "outputs": [
    {
     "name": "stdout",
     "output_type": "stream",
     "text": [
      "['Hello\\n', 'Python\\n', 'Programming\\n']\n"
     ]
    }
   ],
   "source": [
    "with open('hello.txt', 'r') as file:\n",
    "    lines = file.readlines()\n",
    "    print(lines)"
   ]
  },
  {
   "cell_type": "markdown",
   "metadata": {},
   "source": [
    "## 파일의 내용을 한 줄씩 읽기\n",
    "- **`변수 = 파일객체.readline()`**"
   ]
  },
  {
   "cell_type": "code",
   "execution_count": 12,
   "metadata": {},
   "outputs": [
    {
     "name": "stdout",
     "output_type": "stream",
     "text": [
      "Hello\n",
      "Python\n",
      "Programming\n",
      "\n"
     ]
    }
   ],
   "source": [
    "with open('hello.txt', 'r') as file:  # hello.txt 파일을 읽기 모드(r)로 열기\n",
    "    line = None  # 변수 line을 None으로 초기화\n",
    "    while line != '':\n",
    "        line = file.readline()\n",
    "        print(line.strip('\\n'))  # 파일에서 읽어온 문자열에서 \\n 삭제하여 출력"
   ]
  },
  {
   "cell_type": "markdown",
   "metadata": {},
   "source": [
    "## for 반복문으로 파일의 내용을 줄 단위로 읽기"
   ]
  },
  {
   "cell_type": "code",
   "execution_count": 13,
   "metadata": {},
   "outputs": [
    {
     "name": "stdout",
     "output_type": "stream",
     "text": [
      "Hello\n",
      "Python\n",
      "Programming\n"
     ]
    }
   ],
   "source": [
    "with open('hello.txt', 'r') as file:  # hello.txt 파일을 읽기 모드(r)로 열기\n",
    "    for line in file:  # for에 파일 객체를 지정하면 파일의 내용을 한 줄씩 읽어서 변수에 저장함\n",
    "        print(line.strip('\\n'))  # 파일에서 읽어온 문자열에서 \\n 삭제하여 출력"
   ]
  },
  {
   "cell_type": "markdown",
   "metadata": {},
   "source": [
    "## 참고 | 파일 객체는 이터레이터\n",
    "- 파일 객체는 이터레이터입니다. 따라서 변수 여러 개에 저장하는 언패킹(unpacking)도 가능합니다"
   ]
  },
  {
   "cell_type": "code",
   "execution_count": 16,
   "metadata": {},
   "outputs": [
    {
     "data": {
      "text/plain": [
       "('Hello\\n', 'Python\\n', 'Programming\\n')"
      ]
     },
     "execution_count": 16,
     "metadata": {},
     "output_type": "execute_result"
    }
   ],
   "source": [
    "file = open('hello.txt', 'r')\n",
    "a, b, c = file\n",
    "a, b, c"
   ]
  },
  {
   "cell_type": "markdown",
   "metadata": {},
   "source": [
    "# 파이썬 객체를 파일에 저장하기, 가져오기\n",
    "- 파이썬은 객체를 파일에 저장하는 pickle 모듈을 제공합니다.\n",
    "- 파이썬 객체를 파일에 저장하는 과정을 피클링(pickling)이라고 하고, 파일에서 객체를 읽어오는 과정을 언피클링(unpickling)이라고 합니다."
   ]
  },
  {
   "cell_type": "markdown",
   "metadata": {},
   "source": [
    "## 파이썬 객체를 파일에 저장하기\n",
    "- 피클링은 pickle 모듈의 dump 메서드를 사용합니다."
   ]
  },
  {
   "cell_type": "code",
   "execution_count": 17,
   "metadata": {},
   "outputs": [],
   "source": [
    "name = 'james'\n",
    "age = 17\n",
    "address = '서울시 서초구 반포동'\n",
    "scores = {'korean': 90, 'english': 95, 'mathematics': 85, 'science': 82}"
   ]
  },
  {
   "cell_type": "code",
   "execution_count": 18,
   "metadata": {},
   "outputs": [],
   "source": [
    "import pickle\n",
    "\n",
    "with open('james.p', 'wb') as file:  # james.p 파일을 바이너리 쓰기 모드(wb)로 열기\n",
    "    pickle.dump(name, file)\n",
    "    pickle.dump(age, file)\n",
    "    pickle.dump(address, file)\n",
    "    pickle.dump(scores, file)"
   ]
  },
  {
   "cell_type": "markdown",
   "metadata": {},
   "source": [
    "## 파일에서 파이썬 객체 읽기\n",
    "- 언피클링은 pickle모듈의 load를 사용합니다. \n",
    "- 그리고 언피클링을 할 때는 반드시 파일 모드를 바이너리 읽기 모드 'rb'로 지정해야 합니다."
   ]
  },
  {
   "cell_type": "code",
   "execution_count": 19,
   "metadata": {},
   "outputs": [
    {
     "name": "stdout",
     "output_type": "stream",
     "text": [
      "james\n",
      "17\n",
      "서울시 서초구 반포동\n",
      "{'korean': 90, 'english': 95, 'mathematics': 85, 'science': 82}\n"
     ]
    }
   ],
   "source": [
    "import pickle\n",
    "\n",
    "with open('james.p', 'rb') as file: # hello.txt 파일을 바이너리 읽기 모드(rb)로 열기 \n",
    "\tname = pickle.load(file) \n",
    "\tage = pickle.load(file) \n",
    "\taddress = pickle.load(file) \n",
    "\tscores = pickle.load(file) \n",
    "\tprint(name) \n",
    "\tprint(age) \n",
    "\tprint(address) \n",
    "\tprint(scores)"
   ]
  },
  {
   "cell_type": "markdown",
   "metadata": {},
   "source": [
    "## 참고 | 다른 파일 모드는 없나요?\n",
    "읽기 'r', 쓰기 'w' 이외에 추가 'a', 배타적 생성 'x'도 있습니다. 추가 모드는 이미 있는 파일에서 끝에 새로운 내용을 추가할 때 사용하고, 배타적 생성 모드는 파일이 이미 있으면 에러(FileExistsError)를 발생시키고 없으면 파일을 만듭니다. 'x'는 베타적 생성(exclusive creation)의 x입니다\n",
    "\n",
    "\n",
    "그 다음에 '+'가 있는데 파일을 읽기/쓰기 모드로 엽니다. 이 모드 'r+t', 'w+t', 'r+', 'w+', 'r+b', 'w+b' 등으로 조합할 수 있으며 읽기/쓰기 모드인 것은 같지만 파일 처리 방법이 조금씩 다릅니다."
   ]
  },
  {
   "cell_type": "code",
   "execution_count": null,
   "metadata": {},
   "outputs": [],
   "source": []
  }
 ],
 "metadata": {
  "kernelspec": {
   "display_name": "Python 3",
   "language": "python",
   "name": "python3"
  },
  "language_info": {
   "codemirror_mode": {
    "name": "ipython",
    "version": 3
   },
   "file_extension": ".py",
   "mimetype": "text/x-python",
   "name": "python",
   "nbconvert_exporter": "python",
   "pygments_lexer": "ipython3",
   "version": "3.7.6"
  },
  "toc-autonumbering": true
 },
 "nbformat": 4,
 "nbformat_minor": 4
}
