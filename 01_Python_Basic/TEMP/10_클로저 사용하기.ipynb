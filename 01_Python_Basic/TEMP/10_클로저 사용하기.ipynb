{
 "cells": [
  {
   "cell_type": "markdown",
   "metadata": {},
   "source": [
    "# 변수의 사용 범위 알아보기"
   ]
  },
  {
   "cell_type": "markdown",
   "metadata": {},
   "source": [
    "## 함수 안에서 전역 변수 변경하기\n",
    "함수 안에서 전역 변수의 값을 변경하려면 global 키워드를 사용해야 합니다. 다음과 같이 함수 안에서 global에 전역 변수의 이름을 지정해줍니다.\n",
    "\n",
    "- **`global 전역변수`**"
   ]
  },
  {
   "cell_type": "code",
   "execution_count": 1,
   "metadata": {},
   "outputs": [
    {
     "name": "stdout",
     "output_type": "stream",
     "text": [
      "20\n",
      "20\n"
     ]
    }
   ],
   "source": [
    "x = 10  # 전역 변수\n",
    "\n",
    "\n",
    "def foo():\n",
    "    global x  # 전역 변수 x를 사용하겠다고 설정\n",
    "    x = 20  # x는 전역 변수\n",
    "    print(x)  # 전역 변수 출력\n",
    "\n",
    "\n",
    "foo()\n",
    "print(x)  # 전역 변수 출력"
   ]
  },
  {
   "cell_type": "markdown",
   "metadata": {},
   "source": [
    "## 네임스페이스"
   ]
  },
  {
   "cell_type": "markdown",
   "metadata": {},
   "source": [
    "파이썬에서 변수는 네임스페이스(namespace, 이름공간)에 저장됩니다. 다음과 같이 locals 함수를 사용하면 현재 네임스페이스를 딕셔너리 형태로 출력할 수 있습니다."
   ]
  },
  {
   "cell_type": "code",
   "execution_count": 2,
   "metadata": {},
   "outputs": [
    {
     "data": {
      "text/plain": [
       "{'__name__': '__main__',\n",
       " '__doc__': 'Automatically created module for IPython interactive environment',\n",
       " '__package__': None,\n",
       " '__loader__': None,\n",
       " '__spec__': None,\n",
       " '__builtin__': <module 'builtins' (built-in)>,\n",
       " '__builtins__': <module 'builtins' (built-in)>,\n",
       " '_ih': ['',\n",
       "  'x = 10 # 전역 변수\\ndef foo(): \\n    global x # 전역 변수 x를 사용하겠다고 설정 \\n    x = 20 # x는 전역 변수 \\n    print(x) # 전역 변수 출력\\nfoo()\\nprint(x) # 전역 변수 출력',\n",
       "  'locals()'],\n",
       " '_oh': {},\n",
       " '_dh': ['C:\\\\Users\\\\t1won\\\\Documents\\\\GitHub\\\\Python_Notebook\\\\01_Python_Basic'],\n",
       " 'In': ['',\n",
       "  'x = 10 # 전역 변수\\ndef foo(): \\n    global x # 전역 변수 x를 사용하겠다고 설정 \\n    x = 20 # x는 전역 변수 \\n    print(x) # 전역 변수 출력\\nfoo()\\nprint(x) # 전역 변수 출력',\n",
       "  'locals()'],\n",
       " 'Out': {},\n",
       " 'get_ipython': <bound method InteractiveShell.get_ipython of <ipykernel.zmqshell.ZMQInteractiveShell object at 0x00000148A792DF08>>,\n",
       " 'exit': <IPython.core.autocall.ZMQExitAutocall at 0x148a79ae408>,\n",
       " 'quit': <IPython.core.autocall.ZMQExitAutocall at 0x148a79ae408>,\n",
       " '_': '',\n",
       " '__': '',\n",
       " '___': '',\n",
       " '_i': 'x = 10 # 전역 변수\\ndef foo(): \\n    global x # 전역 변수 x를 사용하겠다고 설정 \\n    x = 20 # x는 전역 변수 \\n    print(x) # 전역 변수 출력\\nfoo()\\nprint(x) # 전역 변수 출력',\n",
       " '_ii': '',\n",
       " '_iii': '',\n",
       " '_i1': 'x = 10 # 전역 변수\\ndef foo(): \\n    global x # 전역 변수 x를 사용하겠다고 설정 \\n    x = 20 # x는 전역 변수 \\n    print(x) # 전역 변수 출력\\nfoo()\\nprint(x) # 전역 변수 출력',\n",
       " 'x': 20,\n",
       " 'foo': <function __main__.foo()>,\n",
       " '_i2': 'locals()'}"
      ]
     },
     "execution_count": 2,
     "metadata": {},
     "output_type": "execute_result"
    }
   ],
   "source": [
    "locals()"
   ]
  },
  {
   "cell_type": "markdown",
   "metadata": {},
   "source": [
    "# 함수 안에서 함수 만들기"
   ]
  },
  {
   "cell_type": "markdown",
   "metadata": {},
   "source": [
    "## 지역 변수 변경하기\n",
    "현재 함수의 바깥쪽에 있는 지역 변수의 값을 변경하려면 nonlocal 키워드를 사용해야 합니다. 다음과 같이 함수 안에서 nonlocal에 지역 변수의 이름을 지정해줍니다.\n",
    "\n",
    "- **`nonlocal 지역변수`**"
   ]
  },
  {
   "cell_type": "code",
   "execution_count": 3,
   "metadata": {},
   "outputs": [
    {
     "name": "stdout",
     "output_type": "stream",
     "text": [
      "20\n"
     ]
    }
   ],
   "source": [
    "def A():\n",
    "    x = 10  # A의 지역 변수 x\n",
    "\n",
    "    def B():\n",
    "        nonlocal x  # 현재 함수의 바깥쪽에 있는 지역 변수 사용\n",
    "        x = 20  # A의 지역 변수 x에 20 할당\n",
    "\n",
    "    B()\n",
    "    print(x)  # A의 지역 변수 x 출력\n",
    "\n",
    "\n",
    "A()"
   ]
  },
  {
   "cell_type": "markdown",
   "metadata": {},
   "source": [
    "# 클로저 사용하기\n",
    "- 클로저는 함수를 둘러싼 환경(지역 변수, 코드 등)을 계속 유지하다가 함수를 호출할 때 다시 꺼내서 사용하는 함수를 뜻합니다. \n",
    "- 따라서 클로저는 지역 변수와 코드를 묶어서 사용하고 싶을 때 활용합니다. \n",
    "- 또한, 클로저에 속한 지역 변수는 바깥에서 직접 접근할 수 없으므로 데이터를 숨기고 싶을 때 활용합니다."
   ]
  },
  {
   "cell_type": "markdown",
   "metadata": {},
   "source": [
    "## 클로저 사용하기"
   ]
  },
  {
   "cell_type": "code",
   "execution_count": 4,
   "metadata": {},
   "outputs": [
    {
     "name": "stdout",
     "output_type": "stream",
     "text": [
      "8 11 14 17 20\n"
     ]
    }
   ],
   "source": [
    "def calc(): \n",
    "\ta = 3 \n",
    "\tb = 5 \n",
    "\tdef mul_add(x): \n",
    "\t\treturn a * x + b # 함수 바깥쪽에 있는 지역 변수 a, b를 사용하여 계산 \n",
    "\treturn mul_add # mul_add 함수를 반환\n",
    "\n",
    "c = calc()\n",
    "print(c(1), c(2), c(3), c(4), c(5))"
   ]
  },
  {
   "cell_type": "markdown",
   "metadata": {},
   "source": [
    "함수를 둘러싼 환경(지역 변수, 코드 등)을 계속 유지하다가, 함수를 호출할 때 다시 꺼내서 사용하는 함수를 클로저(closure)라고 합니다."
   ]
  },
  {
   "cell_type": "markdown",
   "metadata": {},
   "source": [
    "## lambda로 클로저 만들기"
   ]
  },
  {
   "cell_type": "code",
   "execution_count": 5,
   "metadata": {},
   "outputs": [
    {
     "name": "stdout",
     "output_type": "stream",
     "text": [
      "8 11 14 17 20\n"
     ]
    }
   ],
   "source": [
    "def calc(): \n",
    "\ta = 3 \n",
    "\tb = 5 \n",
    "\treturn lambda x: a * x + b # 람다 표현식을 반환\n",
    "\n",
    "c = calc()\n",
    "print(c(1), c(2), c(3), c(4), c(5))"
   ]
  },
  {
   "cell_type": "markdown",
   "metadata": {},
   "source": [
    "## 클로저의 지역 변수 변경하기\n",
    "클로저의 지역 변수를 변경하고 싶다면 nonlocal을 사용하면 됩니다. "
   ]
  },
  {
   "cell_type": "code",
   "execution_count": 7,
   "metadata": {},
   "outputs": [
    {
     "name": "stdout",
     "output_type": "stream",
     "text": [
      "8\n",
      "19\n",
      "33\n"
     ]
    }
   ],
   "source": [
    "def calc(): \n",
    "\ta = 3 \n",
    "\tb = 5 \n",
    "\ttotal = 0 \n",
    "\tdef mul_add(x): \n",
    "\t\tnonlocal total \n",
    "\t\ttotal = total + a * x + b \n",
    "\t\tprint(total) \n",
    "\treturn mul_add\n",
    "\n",
    "c = calc()\n",
    "c(1)\n",
    "c(2)\n",
    "c(3)"
   ]
  },
  {
   "cell_type": "markdown",
   "metadata": {},
   "source": [
    "a * x + b의 결과를 함수 calc의 지역 변수 total에 누적합니다."
   ]
  },
  {
   "cell_type": "markdown",
   "metadata": {},
   "source": [
    "# 연습"
   ]
  },
  {
   "cell_type": "markdown",
   "metadata": {},
   "source": [
    "## 호출 횟수를 세는 함수 만들기"
   ]
  },
  {
   "cell_type": "code",
   "execution_count": 10,
   "metadata": {},
   "outputs": [
    {
     "name": "stdout",
     "output_type": "stream",
     "text": [
      "1 2 3 4 5 6 7 8 9 10 "
     ]
    }
   ],
   "source": [
    "def counter():\n",
    "    i = 0\n",
    "\n",
    "    def count():\n",
    "        nonlocal i\n",
    "        i += 1\n",
    "        return i\n",
    "    return count\n",
    "\n",
    "\n",
    "c = counter()\n",
    "for i in range(10):\n",
    "    print(c(), end=' ')"
   ]
  },
  {
   "cell_type": "markdown",
   "metadata": {},
   "source": [
    "## 카운트다운 함수 만들기"
   ]
  },
  {
   "cell_type": "code",
   "execution_count": 11,
   "metadata": {},
   "outputs": [
    {
     "name": "stdin",
     "output_type": "stream",
     "text": [
      " 10\n"
     ]
    },
    {
     "name": "stdout",
     "output_type": "stream",
     "text": [
      "10 9 8 7 6 5 4 3 2 1 "
     ]
    }
   ],
   "source": [
    "def countdown(n):\n",
    "    i = n\n",
    "    def count():\n",
    "        nonlocal i\n",
    "        r = i\n",
    "        i -= 1\n",
    "        return r\n",
    "    return count\n",
    "\n",
    "n = int(input())\n",
    "\n",
    "c = countdown(n)\n",
    "for i in range(n):\n",
    "    print(c(), end=\" \")"
   ]
  },
  {
   "cell_type": "markdown",
   "metadata": {},
   "source": [
    "# 일급 객체란 무엇인가요?\n",
    "일급 객체(first-class object)란 다음 조건을 만족하는 객체를 뜻합니다.\n",
    "\n",
    "- 변수나 데이터 구조에 넣을 수 있어야 한다.\n",
    "- 매개변수에 전달할 수 있어야 한다.\n",
    "- 반환값으로 사용할 수 있어야 한다.\n",
    "\n",
    "특히 일급 함수(first-class function)는 일급 객체의 조건을 만족하면서 실행 중(run-time)에 함수를 생성할 수 있어야 합니다. 파이썬에서는 def 안에서 def로 함수를 만들거나, lambda를 사용하여 실행 중에 함수를 생성할 수 있으므로 파이썬의 함수는 일급 함수입니다."
   ]
  },
  {
   "cell_type": "code",
   "execution_count": null,
   "metadata": {},
   "outputs": [],
   "source": []
  }
 ],
 "metadata": {
  "kernelspec": {
   "display_name": "Python 3",
   "language": "python",
   "name": "python3"
  },
  "language_info": {
   "codemirror_mode": {
    "name": "ipython",
    "version": 3
   },
   "file_extension": ".py",
   "mimetype": "text/x-python",
   "name": "python",
   "nbconvert_exporter": "python",
   "pygments_lexer": "ipython3",
   "version": "3.7.6"
  }
 },
 "nbformat": 4,
 "nbformat_minor": 4
}
