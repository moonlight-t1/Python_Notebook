{
 "cells": [
  {
   "cell_type": "markdown",
   "metadata": {},
   "source": [
    "# 데코레이터 만들기\n",
    "\n",
    "지금까지 클래스에서 메서드를 만들 때 @staticmethod, @classmethod, @abstractmethod 등을 붙였는데, 이렇게 @로 시작하는 것들이 데코레이터입니다."
   ]
  },
  {
   "cell_type": "markdown",
   "metadata": {},
   "source": [
    "## 데코레이터 만들기\n",
    "데코레이터는 함수를 수정하지 않은 상태에서 추가 기능을 구현할 때 사용합니다. "
   ]
  },
  {
   "cell_type": "code",
   "execution_count": 1,
   "metadata": {},
   "outputs": [
    {
     "name": "stdout",
     "output_type": "stream",
     "text": [
      "hello 함수 시작\n",
      "hello\n",
      "hello 함수 끝\n",
      "world 함수 시작\n",
      "world\n",
      "world 함수 끝\n"
     ]
    }
   ],
   "source": [
    "def trace(func):                             # 호출할 함수를 매개변수로 받음\n",
    "    def wrapper():                           # 호출할 함수를 감싸는 함수\n",
    "        print(func.__name__, '함수 시작')    # __name__으로 함수 이름 출력\n",
    "        func()                               # 매개변수로 받은 함수를 호출\n",
    "        print(func.__name__, '함수 끝')\n",
    "    return wrapper                           # wrapper 함수 반환\n",
    "\n",
    "\n",
    "def hello():\n",
    "    print('hello')\n",
    "\n",
    "\n",
    "def world():\n",
    "    print('world')\n",
    "\n",
    "\n",
    "trace_hello = trace(hello)    # 데코레이터에 호출할 함수를 넣음\n",
    "trace_hello()                 # 반환된 함수를 호출\n",
    "trace_world = trace(world)    # 데코레이터에 호출할 함수를 넣음\n",
    "trace_world()                 # 반환된 함수를 호출"
   ]
  },
  {
   "cell_type": "markdown",
   "metadata": {},
   "source": [
    "이제 wrapper 함수에서는 함수의 시작을 알리는 문자열을 출력하고, trace에서 매개변수로 받은 func를 호출합니다. 그다음에 함수의 끝을 알리는 문자열을 출력합니다. 여기서 매개변수로 받은 함수의 원래 이름을 출력할 때는 __name__ 속성을 활용합니다. 마지막으로 wrapper 함수를 다 만들었으면 return을 사용하여 wrapper 함수 자체를 반환합니다.\n",
    "\n",
    "즉, 함수 안에서 함수를 만들고 반환하는 클로저입니다.\n",
    "\n",
    "데코레이터를 사용할 때는 trace에 호출할 함수 hello 또는 world를 넣습니다. 그다음에 데코레이터에서 반환된 함수를 호출합니다. 이렇게 하면 데코레이터에 인수로 넣은 함수를 호출하고 시작과 끝을 출력합니다."
   ]
  },
  {
   "cell_type": "markdown",
   "metadata": {},
   "source": [
    "## @로 데코레이터 사용하기"
   ]
  },
  {
   "cell_type": "code",
   "execution_count": 2,
   "metadata": {},
   "outputs": [
    {
     "name": "stdout",
     "output_type": "stream",
     "text": [
      "hello 함수 시작\n",
      "hello\n",
      "hello 함수 끝\n",
      "world 함수 시작\n",
      "world\n",
      "world 함수 끝\n"
     ]
    }
   ],
   "source": [
    "def trace(func):                             # 호출할 함수를 매개변수로 받음\n",
    "    def wrapper():\n",
    "        print(func.__name__, '함수 시작')    # __name__으로 함수 이름 출력\n",
    "        func()                               # 매개변수로 받은 함수를 호출\n",
    "        print(func.__name__, '함수 끝')\n",
    "    return wrapper                           # wrapper 함수 반환\n",
    "\n",
    "\n",
    "@trace    # @데코레이터\n",
    "def hello():\n",
    "    print('hello')\n",
    "\n",
    "\n",
    "@trace    # @데코레이터\n",
    "def world():\n",
    "    print('world')\n",
    "\n",
    "\n",
    "hello()    # 함수를 그대로 호출\n",
    "world()    # 함수를 그대로 호출"
   ]
  },
  {
   "cell_type": "markdown",
   "metadata": {},
   "source": [
    "# 매개변수와 반환값을 처리하는 데코레이터 만들기"
   ]
  },
  {
   "cell_type": "markdown",
   "metadata": {},
   "source": [
    "## 매개변수와 반환값을 처리하는 데코레이터 만들기"
   ]
  },
  {
   "cell_type": "code",
   "execution_count": 3,
   "metadata": {},
   "outputs": [
    {
     "name": "stdout",
     "output_type": "stream",
     "text": [
      "add(a=10, b=20) -> 30\n",
      "30\n"
     ]
    }
   ],
   "source": [
    "def trace(func):          # 호출할 함수를 매개변수로 받음\n",
    "    def wrapper(a, b):    # 호출할 함수 add(a, b)의 매개변수와 똑같이 지정\n",
    "        r = func(a, b)    # func에 매개변수 a, b를 넣어서 호출하고 반환값을 변수에 저장\n",
    "        # 매개변수와 반환값 출력\n",
    "        print('{0}(a={1}, b={2}) -> {3}'.format(func.__name__, a, b, r))\n",
    "        return r          # func의 반환값을 반환\n",
    "    return wrapper        # wrapper 함수 반환\n",
    "\n",
    "\n",
    "@trace              # @데코레이터\n",
    "def add(a, b):      # 매개변수는 두 개\n",
    "    return a + b    # 매개변수 두 개를 더해서 반환\n",
    "\n",
    "\n",
    "print(add(10, 20))"
   ]
  },
  {
   "cell_type": "markdown",
   "metadata": {},
   "source": [
    "매개변수와 반환값을 처리하는 데코레이터를 만들 때는 먼저 안쪽 wrapper 함수의 매개변수를 호출할 함수 add(a, b)의 매개변수와 똑같이 만들어줍니다.\n",
    "\n",
    "wrapper 함수 안에서는 func를 호출하고 반환값을 변수에 저장합니다. 그다음에 print로 매개변수와 반환값을 출력합니다. 이때 func에는 매개변수 a와 b를 그대로 넣어줍니다. 또한, add 함수는 두 수를 더해서 반환해야 하므로 func의 반환값을 return으로 반환해줍니다.\n",
    "\n",
    "만약 wrapper 함수에서 func의 반환값을 반환하지 않으면 add 함수를 호출해도 반환값이 나오지 않으므로 주의해야 합니다. 참고로 wrapper 함수에서 func의 반환값을 출력할 필요가 없으면 return func(a, b)처럼 func를 호출하면서 바로 반환해도 됩니다."
   ]
  },
  {
   "cell_type": "markdown",
   "metadata": {},
   "source": [
    "## 가변 인수 함수 데코레이터"
   ]
  },
  {
   "cell_type": "code",
   "execution_count": 4,
   "metadata": {},
   "outputs": [
    {
     "name": "stdout",
     "output_type": "stream",
     "text": [
      "get_max(args=(10, 20), kwargs={}) -> 20\n",
      "20\n",
      "get_min(args=(), kwargs={'x': 10, 'y': 20, 'z': 30}) -> 10\n",
      "10\n"
     ]
    }
   ],
   "source": [
    "def trace(func):                     # 호출할 함수를 매개변수로 받음\n",
    "    def wrapper(*args, **kwargs):    # 가변 인수 함수로 만듦\n",
    "        r = func(*args, **kwargs)    # func에 args, kwargs를 언패킹하여 넣어줌\n",
    "        print('{0}(args={1}, kwargs={2}) -> {3}'.format(func.__name__, args, kwargs, r))\n",
    "        # 매개변수와 반환값 출력\n",
    "        return r                     # func의 반환값을 반환\n",
    "    return wrapper                   # wrapper 함수 반환\n",
    "\n",
    "\n",
    "@trace                   # @데코레이터\n",
    "def get_max(*args):      # 위치 인수를 사용하는 가변 인수 함수\n",
    "    return max(args)\n",
    "\n",
    "\n",
    "@trace                   # @데코레이터\n",
    "def get_min(**kwargs):   # 키워드 인수를 사용하는 가변 인수 함수\n",
    "    return min(kwargs.values())\n",
    "\n",
    "\n",
    "print(get_max(10, 20))\n",
    "print(get_min(x=10, y=20, z=30))"
   ]
  },
  {
   "cell_type": "markdown",
   "metadata": {},
   "source": [
    "get_max 함수와 get_min 함수는 가변 인수 함수입니다. 따라서 데코레이터도 가변 인수 함수로 만들어줍니다. 이때 위치 인수와 키워드 인수를 모두 받을 수 있도록 *args와 **kwargs를 지정해줍니다."
   ]
  },
  {
   "cell_type": "markdown",
   "metadata": {},
   "source": [
    "## 메서드에 데코레이터 사용하기"
   ]
  },
  {
   "cell_type": "code",
   "execution_count": 5,
   "metadata": {},
   "outputs": [
    {
     "name": "stdout",
     "output_type": "stream",
     "text": [
      "add(a=10, b=20) -> 30\n",
      "30\n"
     ]
    }
   ],
   "source": [
    "def trace(func):\n",
    "    def wrapper(self, a, b):   # 호출할 함수가 인스턴스 메서드이므로 첫 번째 매개변수는 self로 지정\n",
    "        r = func(self, a, b)   # self와 매개변수를 그대로 넣어줌\n",
    "        # 매개변수와 반환값 출력\n",
    "        print('{0}(a={1}, b={2}) -> {3}'.format(func.__name__, a, b, r))\n",
    "        return r               # func의 반환값을 반환\n",
    "    return wrapper\n",
    "\n",
    "\n",
    "class Calc:\n",
    "    @trace\n",
    "    def add(self, a, b):    # add는 인스턴스 메서드\n",
    "        return a + b\n",
    "\n",
    "\n",
    "c = Calc()\n",
    "print(c.add(10, 20))"
   ]
  },
  {
   "cell_type": "markdown",
   "metadata": {},
   "source": [
    "클래스를 만들면서 메서드에 데코레이터를 사용할 때는 self를 주의해야 합니다. 인스턴스 메서드는 항상 self를 받으므로 데코레이터를 만들 때도 wrapper 함수의 첫 번째 매개변수는 self로 지정해야 합니다(클래스 메서드는 cls). 마찬가지로 func를 호출할 때도 self와 매개변수를 그대로 넣어야 합니다."
   ]
  },
  {
   "cell_type": "markdown",
   "metadata": {},
   "source": [
    "# 매개변수가 있는 데코레이터 만들기"
   ]
  },
  {
   "cell_type": "markdown",
   "metadata": {},
   "source": [
    "## 매개변수가 있는 데코레이터 만들기"
   ]
  },
  {
   "cell_type": "code",
   "execution_count": 6,
   "metadata": {},
   "outputs": [
    {
     "name": "stdout",
     "output_type": "stream",
     "text": [
      "add의 반환값은 3의 배수입니다.\n",
      "30\n",
      "add의 반환값은 3의 배수가 아닙니다.\n",
      "7\n"
     ]
    }
   ],
   "source": [
    "def is_multiple(x):              # 데코레이터가 사용할 매개변수를 지정\n",
    "    def real_decorator(func):    # 호출할 함수를 매개변수로 받음\n",
    "        def wrapper(a, b):       # 호출할 함수의 매개변수와 똑같이 지정\n",
    "            r = func(a, b)       # func를 호출하고 반환값을 변수에 저장\n",
    "            if r % x == 0:       # func의 반환값이 x의 배수인지 확인\n",
    "                print('{0}의 반환값은 {1}의 배수입니다.'.format(func.__name__, x))\n",
    "            else:\n",
    "                print('{0}의 반환값은 {1}의 배수가 아닙니다.'.format(func.__name__, x))\n",
    "            return r             # func의 반환값을 반환\n",
    "        return wrapper           # wrapper 함수 반환\n",
    "    return real_decorator        # real_decorator 함수 반환\n",
    "\n",
    "\n",
    "@is_multiple(3)     # @데코레이터(인수)\n",
    "def add(a, b):\n",
    "    return a + b\n",
    "\n",
    "\n",
    "print(add(10, 20))\n",
    "print(add(2, 5))"
   ]
  },
  {
   "cell_type": "markdown",
   "metadata": {},
   "source": [
    "먼저 is_multiple 함수를 만들고 데코레이터가 사용할 매개변수 x를 지정합니다. 그리고 is_multiple 함수 안에서 실제 데코레이터 역할을 하는 real_decorator를 만듭니다. 즉, 이 함수에서 호출할 함수를 매개변수로 받습니다. 그다음에 real_decorator 함수 안에서 wrapper 함수를 만들어주면 됩니다.\n",
    "\n",
    "먼저 is_multiple 함수를 만들고 데코레이터가 사용할 매개변수 x를 지정합니다. 그리고 is_multiple 함수 안에서 실제 데코레이터 역할을 하는 real_decorator를 만듭니다. 즉, 이 함수에서 호출할 함수를 매개변수로 받습니다. 그다음에 real_decorator 함수 안에서 wrapper 함수를 만들어주면 됩니다."
   ]
  },
  {
   "cell_type": "markdown",
   "metadata": {},
   "source": [
    "## 매개변수가 있는 데코레이터를 여러 개 지정하기"
   ]
  },
  {
   "cell_type": "code",
   "execution_count": 7,
   "metadata": {},
   "outputs": [
    {
     "name": "stdout",
     "output_type": "stream",
     "text": [
      "add의 반환값은 7의 배수가 아닙니다.\n",
      "wrapper의 반환값은 3의 배수입니다.\n"
     ]
    },
    {
     "data": {
      "text/plain": [
       "30"
      ]
     },
     "execution_count": 7,
     "metadata": {},
     "output_type": "execute_result"
    }
   ],
   "source": [
    "@is_multiple(3)\n",
    "@is_multiple(7)\n",
    "def add(a, b):\n",
    "    return a + b\n",
    "\n",
    "\n",
    "add(10, 20)"
   ]
  },
  {
   "cell_type": "markdown",
   "metadata": {},
   "source": [
    "- 매개변수가 있는 데코레이터를 여러 개 지정하기"
   ]
  },
  {
   "cell_type": "code",
   "execution_count": 8,
   "metadata": {},
   "outputs": [
    {
     "name": "stdout",
     "output_type": "stream",
     "text": [
      "add의 반환값은 7의 배수가 아닙니다.\n",
      "wrapper의 반환값은 3의 배수입니다.\n",
      "wrapper의 반환값은 7의 배수가 아닙니다.\n",
      "wrapper의 반환값은 3의 배수입니다.\n"
     ]
    },
    {
     "data": {
      "text/plain": [
       "30"
      ]
     },
     "execution_count": 8,
     "metadata": {},
     "output_type": "execute_result"
    }
   ],
   "source": [
    "decorated_add = is_multiple(3)(is_multiple(7)(add))\n",
    "decorated_add(10, 20)"
   ]
  },
  {
   "cell_type": "markdown",
   "metadata": {},
   "source": [
    "- 함수의 원래 이름을 출력하고 싶다면 functools 모듈의 wraps 데코레이터를 사용해야 합니다. \n",
    "- 다음과 같이 @functools.wraps에 func를 넣은 뒤 wrapper 함수 위에 지정해줍니다(from functools import wraps로 데코레이터를 가져왔다면 @wraps(func)를 지정)."
   ]
  },
  {
   "cell_type": "code",
   "execution_count": 9,
   "metadata": {},
   "outputs": [
    {
     "name": "stdout",
     "output_type": "stream",
     "text": [
      "add의 반환값은 7의 배수가 아닙니다.\n",
      "add의 반환값은 3의 배수입니다.\n"
     ]
    },
    {
     "data": {
      "text/plain": [
       "30"
      ]
     },
     "execution_count": 9,
     "metadata": {},
     "output_type": "execute_result"
    }
   ],
   "source": [
    "import functools\n",
    "\n",
    "\n",
    "def is_multiple(x):\n",
    "    def real_decorator(func):\n",
    "        # @functools.wraps에 func를 넣은 뒤 wrapper 함수 위에 지정\n",
    "        @functools.wraps(func)\n",
    "        def wrapper(a, b):\n",
    "            r = func(a, b)\n",
    "            if r % x == 0:\n",
    "                print('{0}의 반환값은 {1}의 배수입니다.'.format(func.__name__, x))\n",
    "            else:\n",
    "                print('{0}의 반환값은 {1}의 배수가 아닙니다.'.format(func.__name__, x))\n",
    "            return r\n",
    "        return wrapper\n",
    "    return real_decorator\n",
    "\n",
    "\n",
    "@is_multiple(3)\n",
    "@is_multiple(7)\n",
    "def add(a, b):\n",
    "    return a + b\n",
    "\n",
    "\n",
    "add(10, 20)"
   ]
  },
  {
   "cell_type": "markdown",
   "metadata": {},
   "source": [
    "@functools.wraps는 원래 함수의 정보를 유지시켜줍니다. 따라서 디버깅을 할 때 유용하므로 데코레이터를 만들 때는 @functools.wraps를 사용하는 것이 좋습니다."
   ]
  },
  {
   "cell_type": "markdown",
   "metadata": {},
   "source": [
    "# 클래스로 데코레이터 만들기\n",
    "클래스를 활용할 때는 인스턴스를 함수처럼 호출하게 해주는 __call__ 메서드를 구현해야 합니다."
   ]
  },
  {
   "cell_type": "code",
   "execution_count": 10,
   "metadata": {},
   "outputs": [
    {
     "name": "stdout",
     "output_type": "stream",
     "text": [
      "hello 함수 시작\n",
      "hello\n",
      "hello 함수 끝\n"
     ]
    }
   ],
   "source": [
    "class Trace:\n",
    "    def __init__(self, func):    # 호출할 함수를 인스턴스의 초깃값으로 받음\n",
    "        self.func = func         # 호출할 함수를 속성 func에 저장\n",
    "\n",
    "    def __call__(self):\n",
    "        print(self.func.__name__, '함수 시작')    # __name__으로 함수 이름 출력\n",
    "        self.func()                               # 속성 func에 저장된 함수를 호출\n",
    "        print(self.func.__name__, '함수 끝')\n",
    "\n",
    "\n",
    "@Trace    # @데코레이터\n",
    "def hello():\n",
    "    print('hello')\n",
    "\n",
    "\n",
    "hello()    # 함수를 그대로 호출"
   ]
  },
  {
   "cell_type": "markdown",
   "metadata": {},
   "source": [
    "클래스로 데코레이터를 만들 때는 먼저 __init__ 메서드를 만들고 호출할 함수를 초깃값으로 받습니다. 그리고 매개변수로 받은 함수를 속성으로 저장합니다.\n",
    "\n",
    "이제 인스턴스를 호출할 수 있도록 __call__ 메서드를 만듭니다. __call__ 메서드에서는 함수의 시작을 알리는 문자열을 출력하고, 속성 func에 저장된 함수를 호출합니다. 그다음에 함수의 끝을 알리는 문자열을 출력합니다."
   ]
  },
  {
   "cell_type": "markdown",
   "metadata": {},
   "source": [
    "- 참고로 클래스로 만든 데코레이터는 @을 지정하지 않고, 데코레이터의 반환값을 호출하는 방식으로도 사용할 수 있습니다. 다음과 같이 데코레이터에 호출할 함수를 넣어서 인스턴스를 생성한 뒤 인스턴스를 호출해주면 됩니다. 즉, 클래스에 __call__ 메서드를 정의했으므로 함수처럼 ( )(괄호)를 붙여서 호출할 수 있습니다."
   ]
  },
  {
   "cell_type": "code",
   "execution_count": 11,
   "metadata": {},
   "outputs": [
    {
     "name": "stdout",
     "output_type": "stream",
     "text": [
      "hello 함수 시작\n",
      "hello\n",
      "hello 함수 끝\n"
     ]
    }
   ],
   "source": [
    "def hello():    # @데코레이터를 지정하지 않음\n",
    "    print('hello')\n",
    "\n",
    "\n",
    "trace_hello = Trace(hello)    # 데코레이터에 호출할 함수를 넣어서 인스턴스 생성\n",
    "trace_hello()                 # 인스턴스를 호출. __call__ 메서드가 호출됨"
   ]
  },
  {
   "cell_type": "markdown",
   "metadata": {},
   "source": [
    "# 클래스로 매개변수와 반환값을 처리하는 데코레이터 만들기"
   ]
  },
  {
   "cell_type": "markdown",
   "metadata": {},
   "source": [
    "## 클래스로 매개변수와 반환값을 처리하는 데코레이터 만들기\n",
    "클래스로 만든 데코레이터도 매개변수와 반환값을 처리할 수 있습니다. "
   ]
  },
  {
   "cell_type": "code",
   "execution_count": 12,
   "metadata": {},
   "outputs": [
    {
     "name": "stdout",
     "output_type": "stream",
     "text": [
      "add(args=(10, 20), kwargs={}) -> 30\n",
      "30\n",
      "add(args=(), kwargs={'a': 10, 'b': 20}) -> 30\n",
      "30\n"
     ]
    }
   ],
   "source": [
    "class Trace:\n",
    "    def __init__(self, func):    # 호출할 함수를 인스턴스의 초깃값으로 받음\n",
    "        self.func = func         # 호출할 함수를 속성 func에 저장\n",
    "\n",
    "    def __call__(self, *args, **kwargs):    # 호출할 함수의 매개변수를 처리\n",
    "        r = self.func(*args, **kwargs)  # self.func에 매개변수를 넣어서 호출하고 반환값을 변수에 저장\n",
    "        print(\n",
    "            '{0}(args={1}, kwargs={2}) -> {3}'.format(self.func.__name__, args, kwargs, r))\n",
    "        # 매개변수와 반환값 출력\n",
    "        return r                            # self.func의 반환값을 반환\n",
    "\n",
    "\n",
    "@Trace    # @데코레이터\n",
    "def add(a, b):\n",
    "    return a + b\n",
    "\n",
    "\n",
    "print(add(10, 20))\n",
    "print(add(a=10, b=20))"
   ]
  },
  {
   "cell_type": "markdown",
   "metadata": {},
   "source": [
    "클래스로 매개변수와 반환값을 처리하는 데코레이터를 만들 때는 __call__ 메서드에 매개변수를 지정하고, self.func에 매개변수를 넣어서 호출한 뒤에 반환값을 반환해주면 됩니다. 여기서는 매개변수를 *args, **kwargs로 지정했으므로 self.func에 넣을 때는 언패킹하여 넣어줍니다."
   ]
  },
  {
   "cell_type": "markdown",
   "metadata": {},
   "source": [
    "## 클래스로 매개변수가 있는 데코레이터 만들기"
   ]
  },
  {
   "cell_type": "code",
   "execution_count": 13,
   "metadata": {},
   "outputs": [
    {
     "name": "stdout",
     "output_type": "stream",
     "text": [
      "add의 반환값은 3의 배수입니다.\n",
      "30\n",
      "add의 반환값은 3의 배수가 아닙니다.\n",
      "7\n"
     ]
    }
   ],
   "source": [
    "class IsMultiple:\n",
    "    def __init__(self, x):         # 데코레이터가 사용할 매개변수를 초깃값으로 받음\n",
    "        self.x = x                 # 매개변수를 속성 x에 저장\n",
    "\n",
    "    def __call__(self, func):      # 호출할 함수를 매개변수로 받음\n",
    "        def wrapper(a, b):         # 호출할 함수의 매개변수와 똑같이 지정(가변 인수로 작성해도 됨)\n",
    "            r = func(a, b)         # func를 호출하고 반환값을 변수에 저장\n",
    "            if r % self.x == 0:    # func의 반환값이 self.x의 배수인지 확인\n",
    "                print('{0}의 반환값은 {1}의 배수입니다.'.format(func.__name__, self.x))\n",
    "            else:\n",
    "                print('{0}의 반환값은 {1}의 배수가 아닙니다.'.format(func.__name__, self.x))\n",
    "            return r               # func의 반환값을 반환\n",
    "        return wrapper             # wrapper 함수 반환\n",
    "\n",
    "\n",
    "@IsMultiple(3)    # 데코레이터(인수)\n",
    "def add(a, b):\n",
    "    return a + b\n",
    "\n",
    "\n",
    "print(add(10, 20))\n",
    "print(add(2, 5))"
   ]
  },
  {
   "cell_type": "markdown",
   "metadata": {},
   "source": [
    "# 연습"
   ]
  },
  {
   "cell_type": "markdown",
   "metadata": {},
   "source": [
    "## 데코레이터로 매개변수의 자료형 검사하기"
   ]
  },
  {
   "cell_type": "code",
   "execution_count": 15,
   "metadata": {},
   "outputs": [
    {
     "name": "stdout",
     "output_type": "stream",
     "text": [
      "30\n"
     ]
    }
   ],
   "source": [
    "def type_check(type_a, type_b):\n",
    "    def real_decorator(func):\n",
    "        def wrapper(a, b):\n",
    "            if isinstance(a, type_a) and isinstance(b, type_b):\n",
    "                return func(a, b)\n",
    "            else:\n",
    "                raise RuntimeError('자료형이 올바르지 않습니다.')\n",
    "        return wrapper\n",
    "    return real_decorator\n",
    "\n",
    "@type_check(int, int)\n",
    "def add(a, b):\n",
    "    return a + b\n",
    " \n",
    "print(add(10, 20))"
   ]
  },
  {
   "cell_type": "markdown",
   "metadata": {},
   "source": [
    "## HTML 태그 데코레이터 만들기"
   ]
  },
  {
   "cell_type": "code",
   "execution_count": 17,
   "metadata": {},
   "outputs": [
    {
     "name": "stdin",
     "output_type": "stream",
     "text": [
      " p span\n"
     ]
    },
    {
     "name": "stdout",
     "output_type": "stream",
     "text": [
      "<p><span>Hello, world!</span></p>\n"
     ]
    }
   ],
   "source": [
    "class html_tag:\n",
    "    def __init__(self, tag_name):\n",
    "        self.tag_name = tag_name\n",
    "\n",
    "    def __call__(self, func):\n",
    "        def wrapper():\n",
    "            return \"<{0}>{1}</{0}>\".format(self.tag_name, func())\n",
    "\n",
    "        return wrapper\n",
    "\n",
    "\n",
    "a, b = input().split()\n",
    "\n",
    "\n",
    "@html_tag(a)\n",
    "@html_tag(b)\n",
    "def hello():\n",
    "    return \"Hello, world!\"\n",
    "\n",
    "\n",
    "print(hello())"
   ]
  },
  {
   "cell_type": "code",
   "execution_count": null,
   "metadata": {},
   "outputs": [],
   "source": []
  }
 ],
 "metadata": {
  "kernelspec": {
   "display_name": "Python 3",
   "language": "python",
   "name": "python3"
  },
  "language_info": {
   "codemirror_mode": {
    "name": "ipython",
    "version": 3
   },
   "file_extension": ".py",
   "mimetype": "text/x-python",
   "name": "python",
   "nbconvert_exporter": "python",
   "pygments_lexer": "ipython3",
   "version": "3.7.6"
  }
 },
 "nbformat": 4,
 "nbformat_minor": 4
}
