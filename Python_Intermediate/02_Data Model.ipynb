{
 "cells": [
  {
   "cell_type": "markdown",
   "metadata": {},
   "source": [
    "# Magic Method"
   ]
  },
  {
   "cell_type": "markdown",
   "metadata": {},
   "source": [
    "## 파이썬 핵심 구조 \n",
    "\n",
    "- 스페셜 메소드는 클래스 안에 정의할 수 있는 특별한(built-in) 메소드를 말한다.\n",
    "- 좀 더 낮은 레벨에서 클래스 기반으로 코딩이 가능하다"
   ]
  },
  {
   "cell_type": "code",
   "execution_count": 1,
   "metadata": {},
   "outputs": [
    {
     "name": "stdout",
     "output_type": "stream",
     "text": [
      "<class 'int'>\n",
      "<class 'float'>\n"
     ]
    }
   ],
   "source": [
    "# 기본형\n",
    "print(int)\n",
    "print(float)"
   ]
  },
  {
   "cell_type": "markdown",
   "metadata": {},
   "source": [
    "- 기본 자료형은 사실 클래스로 되어있다."
   ]
  },
  {
   "cell_type": "code",
   "execution_count": 2,
   "metadata": {},
   "outputs": [
    {
     "name": "stdout",
     "output_type": "stream",
     "text": [
      "['__abs__', '__add__', '__and__', '__bool__', '__ceil__', '__class__', '__delattr__', '__dir__', '__divmod__', '__doc__', '__eq__', '__float__', '__floor__', '__floordiv__', '__format__', '__ge__', '__getattribute__', '__getnewargs__', '__gt__', '__hash__', '__index__', '__init__', '__init_subclass__', '__int__', '__invert__', '__le__', '__lshift__', '__lt__', '__mod__', '__mul__', '__ne__', '__neg__', '__new__', '__or__', '__pos__', '__pow__', '__radd__', '__rand__', '__rdivmod__', '__reduce__', '__reduce_ex__', '__repr__', '__rfloordiv__', '__rlshift__', '__rmod__', '__rmul__', '__ror__', '__round__', '__rpow__', '__rrshift__', '__rshift__', '__rsub__', '__rtruediv__', '__rxor__', '__setattr__', '__sizeof__', '__str__', '__sub__', '__subclasshook__', '__truediv__', '__trunc__', '__xor__', 'bit_length', 'conjugate', 'denominator', 'from_bytes', 'imag', 'numerator', 'real', 'to_bytes']\n",
      "['__abs__', '__add__', '__bool__', '__class__', '__delattr__', '__dir__', '__divmod__', '__doc__', '__eq__', '__float__', '__floordiv__', '__format__', '__ge__', '__getattribute__', '__getformat__', '__getnewargs__', '__gt__', '__hash__', '__init__', '__init_subclass__', '__int__', '__le__', '__lt__', '__mod__', '__mul__', '__ne__', '__neg__', '__new__', '__pos__', '__pow__', '__radd__', '__rdivmod__', '__reduce__', '__reduce_ex__', '__repr__', '__rfloordiv__', '__rmod__', '__rmul__', '__round__', '__rpow__', '__rsub__', '__rtruediv__', '__set_format__', '__setattr__', '__sizeof__', '__str__', '__sub__', '__subclasshook__', '__truediv__', '__trunc__', 'as_integer_ratio', 'conjugate', 'fromhex', 'hex', 'imag', 'is_integer', 'real']\n"
     ]
    }
   ],
   "source": [
    "# 모든 속성 및 메소드 출력\n",
    "print(dir(int))\n",
    "print(dir(float))"
   ]
  },
  {
   "cell_type": "markdown",
   "metadata": {},
   "source": [
    "- 위와 같이 이미 만들어진 built-in 함수들을 구현해주기만 하면 좀 더 로우 레벨에서 개발할 수 있다."
   ]
  },
  {
   "cell_type": "code",
   "execution_count": 3,
   "metadata": {},
   "outputs": [
    {
     "name": "stdout",
     "output_type": "stream",
     "text": [
      "<class 'int'>\n"
     ]
    }
   ],
   "source": [
    "n = 10\n",
    "print(type(n))"
   ]
  },
  {
   "cell_type": "markdown",
   "metadata": {},
   "source": [
    "- 변수 하나도 사실은 클래스이다."
   ]
  },
  {
   "cell_type": "code",
   "execution_count": 4,
   "metadata": {},
   "outputs": [
    {
     "name": "stdout",
     "output_type": "stream",
     "text": [
      "110\n",
      "110\n",
      "True True\n",
      "1000 1000\n"
     ]
    }
   ],
   "source": [
    "# 사용\n",
    "print(n + 100)\n",
    "print(n.__add__(100))\n",
    "# print(n.__doc__)\n",
    "print(n.__bool__(), bool(n))\n",
    "print(n * 100, n.__mul__(100))"
   ]
  },
  {
   "cell_type": "markdown",
   "metadata": {},
   "source": [
    "- `+`연산을 하면 내부적으로 `__add__`가 호출된다. 그래서 결과가 같다.\n",
    "\n",
    "- 우리는 이미 만들어진 빌트인 메소드를 이미 사용하고 있었다. \n",
    "\n",
    "- 이를 사람들이 사용하기 쉽게 wrapping해서 간단히 연산자로 사용할 수 있게 만든 것이다.\n",
    "\n",
    "- 이러한 메소드를 매직 메소드라 한다."
   ]
  },
  {
   "cell_type": "markdown",
   "metadata": {},
   "source": [
    "## 매직 메소드"
   ]
  },
  {
   "cell_type": "code",
   "execution_count": 5,
   "metadata": {},
   "outputs": [],
   "source": [
    "# 클래스 예제1\n",
    "class Fruit:\n",
    "    def __init__(self, name, price):\n",
    "        self._name = name\n",
    "        self._price = price\n",
    "\n",
    "    # string\n",
    "    def __str__(self):\n",
    "        return 'Fruit Class Info : {} , {}'.format(self._name, self._price)\n",
    "\n",
    "    # add\n",
    "    def __add__(self, x):\n",
    "        print('Called >> __add__ Method.')\n",
    "        return self._price + x._price\n",
    "\n",
    "    # subtract\n",
    "    def __sub__(self, x):\n",
    "        print('Called >> __sub__ Method.')\n",
    "        return self._price - x._price\n",
    "\n",
    "    # greater equal\n",
    "    def __ge__(self, x):\n",
    "        print('Called >> __ge__ Method.')\n",
    "        if self._price >= x._price:\n",
    "            return True\n",
    "        else:\n",
    "            return False\n",
    "\n",
    "    # lesser equal\n",
    "    def __le__(self, x):\n",
    "        print('Called >> __le__ Method.')\n",
    "        if self._price <= x._price:\n",
    "            return True\n",
    "        else:\n",
    "            return False"
   ]
  },
  {
   "cell_type": "code",
   "execution_count": 6,
   "metadata": {},
   "outputs": [
    {
     "name": "stdout",
     "output_type": "stream",
     "text": [
      "10500\n",
      "Called >> __add__ Method.\n",
      "10500\n"
     ]
    }
   ],
   "source": [
    "# 인스턴스 생성\n",
    "s1 = Fruit('Orange', 7500)\n",
    "s2 = Fruit('Banana', 3000)\n",
    "\n",
    "# 매직 메소드 사용 안하고\n",
    "print(s1._price + s2._price)\n",
    "\n",
    "# 매직 메소드 사용\n",
    "print(s1 + s2)"
   ]
  },
  {
   "cell_type": "markdown",
   "metadata": {},
   "source": [
    "- 매직 메소드를 구현해서 객체끼리 더하게 가능하게 만들었다."
   ]
  },
  {
   "cell_type": "code",
   "execution_count": 7,
   "metadata": {},
   "outputs": [
    {
     "name": "stdout",
     "output_type": "stream",
     "text": [
      "Called >> __ge__ Method.\n",
      "True\n",
      "Called >> __le__ Method.\n",
      "False\n",
      "Called >> __sub__ Method.\n",
      "4500\n",
      "Called >> __sub__ Method.\n",
      "-4500\n",
      "Fruit Class Info : Orange , 7500\n",
      "Fruit Class Info : Banana , 3000\n"
     ]
    }
   ],
   "source": [
    "# 매직메소드 출력\n",
    "print(s1 >= s2)\n",
    "print(s1 <= s2)\n",
    "print(s1 - s2)\n",
    "print(s2 - s1)\n",
    "print(s1)\n",
    "print(s2)"
   ]
  },
  {
   "cell_type": "markdown",
   "metadata": {},
   "source": [
    "- 이러한 것들을 파이썬 데이터 모델이라 한다."
   ]
  },
  {
   "cell_type": "markdown",
   "metadata": {},
   "source": [
    "## 매직 메소드 실습"
   ]
  },
  {
   "cell_type": "code",
   "execution_count": 8,
   "metadata": {},
   "outputs": [],
   "source": [
    "# 클래스 예제2\n",
    "import dis\n",
    "\n",
    "\n",
    "# 벡터 클래스\n",
    "class Vector(object):\n",
    "    \"\"\"\n",
    "    Vector Calculate Class\n",
    "    \"\"\"\n",
    "\n",
    "    def __init__(self, *args):\n",
    "        '''Create a vector, example : v = Vector(5,10)'''\n",
    "        if len(args) == 0:  # args가 비었다면 (0, 0)으로 초기화\n",
    "            self._x, self._y = 0, 0\n",
    "        else:\n",
    "            self._x, self._y = args  # 언패킹\n",
    "\n",
    "    def __repr__(self):\n",
    "        '''Returns the vector infomations'''\n",
    "        return 'Vector(%r, %r)' % (self._x, self._y)\n",
    "\n",
    "    def __add__(self, other):\n",
    "        '''Returns the vector addition of self and other'''\n",
    "        return Vector(self._x + other._x, self._y + other._y)\n",
    "\n",
    "    def __mul__(self, y):\n",
    "        return Vector(self._x * y, self._y * y)\n",
    "\n",
    "    def __bool__(self):\n",
    "        '''(0, 0)인지 확인'''\n",
    "        return not bool(max(self._x, self._y))"
   ]
  },
  {
   "cell_type": "code",
   "execution_count": 9,
   "metadata": {},
   "outputs": [],
   "source": [
    "# Vector 인스턴스 생성\n",
    "v1 = Vector(5, 7)\n",
    "v2 = Vector(23, 35)\n",
    "v3 = Vector()"
   ]
  },
  {
   "cell_type": "code",
   "execution_count": 10,
   "metadata": {},
   "outputs": [
    {
     "name": "stdout",
     "output_type": "stream",
     "text": [
      "Create a vector, example : v = Vector(5,10)\n",
      "Returns the vector infomations\n",
      "Returns the vector addition of self and other\n"
     ]
    }
   ],
   "source": [
    "# 매직메소드 출력\n",
    "print(Vector.__init__.__doc__)\n",
    "print(Vector.__repr__.__doc__)\n",
    "print(Vector.__add__.__doc__)"
   ]
  },
  {
   "cell_type": "code",
   "execution_count": 11,
   "metadata": {},
   "outputs": [
    {
     "name": "stdout",
     "output_type": "stream",
     "text": [
      "Vector(5, 7) Vector(23, 35) Vector(0, 0)\n"
     ]
    }
   ],
   "source": [
    "print(v1, v2, v3)"
   ]
  },
  {
   "cell_type": "code",
   "execution_count": 12,
   "metadata": {},
   "outputs": [
    {
     "name": "stdout",
     "output_type": "stream",
     "text": [
      "Vector(28, 42)\n",
      "Vector(15, 21)\n",
      "Vector(230, 350)\n"
     ]
    }
   ],
   "source": [
    "print(v1 + v2)\n",
    "print(v1 * 3)\n",
    "print(v2 * 10)"
   ]
  },
  {
   "cell_type": "code",
   "execution_count": 13,
   "metadata": {},
   "outputs": [
    {
     "name": "stdout",
     "output_type": "stream",
     "text": [
      "False False\n",
      "True\n"
     ]
    }
   ],
   "source": [
    "print(bool(v1), bool(v2))\n",
    "print(bool(v3))"
   ]
  },
  {
   "cell_type": "code",
   "execution_count": 14,
   "metadata": {},
   "outputs": [
    {
     "name": "stdout",
     "output_type": "stream",
     "text": [
      " 24           0 LOAD_GLOBAL              0 (Vector)\n",
      "              2 LOAD_FAST                0 (self)\n",
      "              4 LOAD_ATTR                1 (_x)\n",
      "              6 LOAD_FAST                1 (other)\n",
      "              8 LOAD_ATTR                1 (_x)\n",
      "             10 BINARY_ADD\n",
      "             12 LOAD_FAST                0 (self)\n",
      "             14 LOAD_ATTR                2 (_y)\n",
      "             16 LOAD_FAST                1 (other)\n",
      "             18 LOAD_ATTR                2 (_y)\n",
      "             20 BINARY_ADD\n",
      "             22 CALL_FUNCTION            2\n",
      "             24 RETURN_VALUE\n"
     ]
    }
   ],
   "source": [
    "# 참고 : 파이썬 바이트 코드 실행\n",
    "dis.dis(v2.__add__)"
   ]
  },
  {
   "cell_type": "markdown",
   "metadata": {},
   "source": [
    "##  파이썬 데이터 모델 추상화\n",
    "\n",
    "- 데이터 모델 설계\n",
    "- NamedTuple 설명\n",
    "- Model Unpacking\n",
    "- 네임드 튜플 실습 코딩"
   ]
  },
  {
   "cell_type": "markdown",
   "metadata": {},
   "source": [
    "### 일반적인 튜플과 네임드 튜플\n",
    "- [collections — Container datatypes](https://docs.python.org/3/library/collections.html)"
   ]
  },
  {
   "cell_type": "code",
   "execution_count": 15,
   "metadata": {},
   "outputs": [
    {
     "name": "stdout",
     "output_type": "stream",
     "text": [
      "3.8078865529319543\n"
     ]
    }
   ],
   "source": [
    "# 일반적인 튜플 사용\n",
    "from collections import namedtuple\n",
    "from math import sqrt\n",
    "pt1 = (1.0, 5.0)\n",
    "pt2 = (2.5, 1.5)\n",
    "\n",
    "\n",
    "l_leng1 = sqrt((pt2[0] - pt1[0]) ** 2 + (pt2[1] - pt1[1]) ** 2)\n",
    "\n",
    "print(l_leng1)"
   ]
  },
  {
   "cell_type": "code",
   "execution_count": 16,
   "metadata": {},
   "outputs": [],
   "source": [
    "# 네임드 튜플 사용\n",
    "\n",
    "# 네임드 튜플 선언\n",
    "Point = namedtuple('Point', 'x y')\n",
    "\n",
    "# 두 점 선언\n",
    "pt3 = Point(1.0, 5.0)\n",
    "pt4 = Point(2.5, 1.5)"
   ]
  },
  {
   "cell_type": "code",
   "execution_count": 17,
   "metadata": {},
   "outputs": [
    {
     "name": "stdout",
     "output_type": "stream",
     "text": [
      "Point(x=1.0, y=5.0)\n",
      "Point(x=2.5, y=1.5)\n"
     ]
    }
   ],
   "source": [
    "print(pt3)\n",
    "print(pt4)"
   ]
  },
  {
   "cell_type": "markdown",
   "metadata": {},
   "source": [
    "- 네임드 튜플은 튜플인데 딕셔너리의 성격을 가지고 있다.\n",
    "\n",
    "- 네임드 튜플을 이용하면 튜플의 값들이 무엇을 의미하는지, 몇 개가 필요한지 정확히 할 수 있다.\n",
    "\n",
    "- 클래스 형식으로 튜플을 추상화 한다."
   ]
  },
  {
   "cell_type": "code",
   "execution_count": 18,
   "metadata": {},
   "outputs": [
    {
     "name": "stdout",
     "output_type": "stream",
     "text": [
      "1.0 5.0\n",
      "1.0 5.0\n"
     ]
    }
   ],
   "source": [
    "print(pt3.x, pt3.y)\n",
    "print(pt3[0], pt3[1])"
   ]
  },
  {
   "cell_type": "markdown",
   "metadata": {},
   "source": [
    "- 튜플 형식으로 사용하는데 레이블이 되있다.\n",
    "\n",
    "- 인덱스로도 접근이 가능하고 키로도 접근이 가능하다."
   ]
  },
  {
   "cell_type": "code",
   "execution_count": 19,
   "metadata": {},
   "outputs": [
    {
     "name": "stdout",
     "output_type": "stream",
     "text": [
      "3.8078865529319543\n",
      "True\n"
     ]
    }
   ],
   "source": [
    "# 계산\n",
    "l_leng2 = sqrt((pt4.x - pt3.x) ** 2 + (pt4.y - pt3.y) ** 2)\n",
    "\n",
    "# 출력\n",
    "print(l_leng2)\n",
    "print(l_leng1 == l_leng2)"
   ]
  },
  {
   "cell_type": "markdown",
   "metadata": {},
   "source": [
    "### 네임드 튜플 선언 방법"
   ]
  },
  {
   "cell_type": "code",
   "execution_count": 20,
   "metadata": {},
   "outputs": [
    {
     "name": "stdout",
     "output_type": "stream",
     "text": [
      "<class '__main__.Point'> <class '__main__.Point'> <class '__main__.Point'> <class '__main__.Point'>\n"
     ]
    }
   ],
   "source": [
    "# 네임드 튜플 선언 방법\n",
    "Point1 = namedtuple('Point', ['x', 'y'])\n",
    "Point2 = namedtuple('Point', 'x, y')\n",
    "Point3 = namedtuple('Point', 'x y')\n",
    "\n",
    "# 예약어(class), 중복된 이름 사용\n",
    "Point4 = namedtuple('Point', 'x y x class', rename=True)  # Default=False\n",
    "\n",
    "# 출력\n",
    "print(Point1, Point2, Point3, Point4)"
   ]
  },
  {
   "cell_type": "markdown",
   "metadata": {},
   "source": [
    "- 네임드 튜플은 위와 같이 4가지의 선언 방법이 있다.\n",
    "\n",
    "- 예약어라든지 중복된 이름을 사용할 때 옵션으로 `rename=True`를 입력해주면 된다."
   ]
  },
  {
   "cell_type": "code",
   "execution_count": 21,
   "metadata": {},
   "outputs": [
    {
     "name": "stdout",
     "output_type": "stream",
     "text": [
      "p1:  Point(x=10, y=35)\n",
      "p2:  Point(x=20, y=40)\n",
      "p3:  Point(x=45, y=20)\n",
      "p4:  Point(x=10, y=20, _2=30, _3=40)\n",
      "p5:  Point(x=75, y=55)\n"
     ]
    }
   ],
   "source": [
    "# Dict to Unpacking\n",
    "temp_dict = {'x': 75, 'y': 55}\n",
    "\n",
    "# 객체 생성\n",
    "p1 = Point1(x=10, y=35)\n",
    "p2 = Point2(20, 40)\n",
    "p3 = Point3(45, y=20)\n",
    "p4 = Point4(10, 20, 30, 40)\n",
    "p5 = Point3(**temp_dict)\n",
    "\n",
    "# 출력\n",
    "print(\"p1: \", p1)\n",
    "print(\"p2: \", p2)\n",
    "print(\"p3: \", p3)\n",
    "print(\"p4: \", p4) # rename\n",
    "print(\"p5: \", p5)"
   ]
  },
  {
   "cell_type": "markdown",
   "metadata": {},
   "source": [
    "- p4는 `rename=True` 옵션을 설정해줬으므로 이름을 자동할당 해준다.\n",
    "- 딕셔너리를 언패킹 하려면 `**`을 사용하면 된다."
   ]
  },
  {
   "cell_type": "code",
   "execution_count": 22,
   "metadata": {},
   "outputs": [
    {
     "name": "stdout",
     "output_type": "stream",
     "text": [
      "50\n",
      "50\n"
     ]
    }
   ],
   "source": [
    "# 사용\n",
    "print(p1[0] + p2[1])  # Index Error 주의\n",
    "print(p1.x + p2.y)  # 클래스 변수 접근 방식"
   ]
  },
  {
   "cell_type": "code",
   "execution_count": 23,
   "metadata": {},
   "outputs": [
    {
     "name": "stdout",
     "output_type": "stream",
     "text": [
      "65\n"
     ]
    }
   ],
   "source": [
    "# Unpacking\n",
    "x, y = p3\n",
    "\n",
    "print(x+y)"
   ]
  },
  {
   "cell_type": "code",
   "execution_count": 24,
   "metadata": {},
   "outputs": [
    {
     "name": "stdout",
     "output_type": "stream",
     "text": [
      "Point(x=10, y=20, _2=30, _3=40)\n"
     ]
    }
   ],
   "source": [
    "# Rename 테스트\n",
    "print(p4)"
   ]
  },
  {
   "cell_type": "markdown",
   "metadata": {},
   "source": [
    "### 네임드 튜플 메소드"
   ]
  },
  {
   "cell_type": "code",
   "execution_count": 25,
   "metadata": {},
   "outputs": [
    {
     "name": "stdout",
     "output_type": "stream",
     "text": [
      "Point(x=52, y=38)\n"
     ]
    }
   ],
   "source": [
    "# 네임드 튜플 메소드\n",
    "temp = [52, 38]\n",
    "\n",
    "# _make() : 리스트를 기반으로 새로운 네임드튜플 객체 생성\n",
    "p4 = Point1._make(temp)\n",
    "\n",
    "print(p4)"
   ]
  },
  {
   "cell_type": "markdown",
   "metadata": {},
   "source": [
    "- 리스트를 `namedtuple`로 변환해주는 메소드가 `_make`이다."
   ]
  },
  {
   "cell_type": "code",
   "execution_count": 26,
   "metadata": {},
   "outputs": [
    {
     "name": "stdout",
     "output_type": "stream",
     "text": [
      "('x', 'y') ('x', 'y') ('x', 'y')\n"
     ]
    }
   ],
   "source": [
    "# _fields : 필드 네임 확인\n",
    "print(p1._fields, p2._fields, p3._fields)"
   ]
  },
  {
   "cell_type": "markdown",
   "metadata": {},
   "source": [
    "- `_fields`는 키가 뭐가 있는지 확인한다."
   ]
  },
  {
   "cell_type": "code",
   "execution_count": 27,
   "metadata": {},
   "outputs": [
    {
     "name": "stdout",
     "output_type": "stream",
     "text": [
      "OrderedDict([('x', 10), ('y', 35)]) OrderedDict([('x', 52), ('y', 38)])\n"
     ]
    }
   ],
   "source": [
    "# _asdict() : OrderedDict 반환\n",
    "\n",
    "print(p1._asdict(), p4._asdict())"
   ]
  },
  {
   "cell_type": "markdown",
   "metadata": {},
   "source": [
    "- 딕셔너리는 원래 정렬지 않는다.\n",
    "\n",
    "- `asdict()`는 네임드튜플을 정렬된 딕셔너리(OrderedDict) 형태로 리스트에 담아서 반환한다."
   ]
  },
  {
   "cell_type": "markdown",
   "metadata": {},
   "source": [
    "### 네임드 튜플 실습"
   ]
  },
  {
   "cell_type": "code",
   "execution_count": 28,
   "metadata": {},
   "outputs": [],
   "source": [
    "# 실 사용 실습\n",
    "# 반20명 , 4개의 반-> (A,B,C,D) 번호\n",
    "\n",
    "# 네임드 튜플 선언\n",
    "Classes = namedtuple('Classes', ['rank', 'number'])"
   ]
  },
  {
   "cell_type": "code",
   "execution_count": 29,
   "metadata": {},
   "outputs": [
    {
     "name": "stdout",
     "output_type": "stream",
     "text": [
      "['1', '2', '3', '4', '5', '6', '7', '8', '9', '10', '11', '12', '13', '14', '15', '16', '17', '18', '19', '20']\n",
      "['A', 'B', 'C', 'D']\n"
     ]
    }
   ],
   "source": [
    "# 그룹 리스트 선언\n",
    "numbers = [str(n) for n in range(1, 21)]\n",
    "ranks = 'A B C D'.split()\n",
    "\n",
    "print(numbers)\n",
    "print(ranks)"
   ]
  },
  {
   "cell_type": "code",
   "execution_count": 30,
   "metadata": {},
   "outputs": [
    {
     "name": "stdout",
     "output_type": "stream",
     "text": [
      "80\n",
      "[Classes(rank='A', number='1'), Classes(rank='A', number='2'), Classes(rank='A', number='3'), Classes(rank='A', number='4'), Classes(rank='A', number='5'), Classes(rank='A', number='6'), Classes(rank='A', number='7'), Classes(rank='A', number='8'), Classes(rank='A', number='9'), Classes(rank='A', number='10'), Classes(rank='A', number='11'), Classes(rank='A', number='12'), Classes(rank='A', number='13'), Classes(rank='A', number='14'), Classes(rank='A', number='15'), Classes(rank='A', number='16'), Classes(rank='A', number='17'), Classes(rank='A', number='18'), Classes(rank='A', number='19'), Classes(rank='A', number='20'), Classes(rank='B', number='1'), Classes(rank='B', number='2'), Classes(rank='B', number='3'), Classes(rank='B', number='4'), Classes(rank='B', number='5'), Classes(rank='B', number='6'), Classes(rank='B', number='7'), Classes(rank='B', number='8'), Classes(rank='B', number='9'), Classes(rank='B', number='10'), Classes(rank='B', number='11'), Classes(rank='B', number='12'), Classes(rank='B', number='13'), Classes(rank='B', number='14'), Classes(rank='B', number='15'), Classes(rank='B', number='16'), Classes(rank='B', number='17'), Classes(rank='B', number='18'), Classes(rank='B', number='19'), Classes(rank='B', number='20'), Classes(rank='C', number='1'), Classes(rank='C', number='2'), Classes(rank='C', number='3'), Classes(rank='C', number='4'), Classes(rank='C', number='5'), Classes(rank='C', number='6'), Classes(rank='C', number='7'), Classes(rank='C', number='8'), Classes(rank='C', number='9'), Classes(rank='C', number='10'), Classes(rank='C', number='11'), Classes(rank='C', number='12'), Classes(rank='C', number='13'), Classes(rank='C', number='14'), Classes(rank='C', number='15'), Classes(rank='C', number='16'), Classes(rank='C', number='17'), Classes(rank='C', number='18'), Classes(rank='C', number='19'), Classes(rank='C', number='20'), Classes(rank='D', number='1'), Classes(rank='D', number='2'), Classes(rank='D', number='3'), Classes(rank='D', number='4'), Classes(rank='D', number='5'), Classes(rank='D', number='6'), Classes(rank='D', number='7'), Classes(rank='D', number='8'), Classes(rank='D', number='9'), Classes(rank='D', number='10'), Classes(rank='D', number='11'), Classes(rank='D', number='12'), Classes(rank='D', number='13'), Classes(rank='D', number='14'), Classes(rank='D', number='15'), Classes(rank='D', number='16'), Classes(rank='D', number='17'), Classes(rank='D', number='18'), Classes(rank='D', number='19'), Classes(rank='D', number='20')]\n"
     ]
    }
   ],
   "source": [
    "# List Comprehension\n",
    "students = [Classes(rank, number) for rank in ranks for number in numbers]\n",
    "\n",
    "print(len(students))\n",
    "print(students)"
   ]
  },
  {
   "cell_type": "markdown",
   "metadata": {},
   "source": [
    "- 80명의 학생들이 만들어졌다.\n",
    "\n",
    "- 다음과 같은 방법으로도 만들 수 있다."
   ]
  },
  {
   "cell_type": "code",
   "execution_count": 31,
   "metadata": {},
   "outputs": [
    {
     "name": "stdout",
     "output_type": "stream",
     "text": [
      "\n",
      "\n",
      "80\n",
      "[Classes(rank='A', number='1'), Classes(rank='A', number='2'), Classes(rank='A', number='3'), Classes(rank='A', number='4'), Classes(rank='A', number='5'), Classes(rank='A', number='6'), Classes(rank='A', number='7'), Classes(rank='A', number='8'), Classes(rank='A', number='9'), Classes(rank='A', number='10'), Classes(rank='A', number='11'), Classes(rank='A', number='12'), Classes(rank='A', number='13'), Classes(rank='A', number='14'), Classes(rank='A', number='15'), Classes(rank='A', number='16'), Classes(rank='A', number='17'), Classes(rank='A', number='18'), Classes(rank='A', number='19'), Classes(rank='A', number='20'), Classes(rank='B', number='1'), Classes(rank='B', number='2'), Classes(rank='B', number='3'), Classes(rank='B', number='4'), Classes(rank='B', number='5'), Classes(rank='B', number='6'), Classes(rank='B', number='7'), Classes(rank='B', number='8'), Classes(rank='B', number='9'), Classes(rank='B', number='10'), Classes(rank='B', number='11'), Classes(rank='B', number='12'), Classes(rank='B', number='13'), Classes(rank='B', number='14'), Classes(rank='B', number='15'), Classes(rank='B', number='16'), Classes(rank='B', number='17'), Classes(rank='B', number='18'), Classes(rank='B', number='19'), Classes(rank='B', number='20'), Classes(rank='C', number='1'), Classes(rank='C', number='2'), Classes(rank='C', number='3'), Classes(rank='C', number='4'), Classes(rank='C', number='5'), Classes(rank='C', number='6'), Classes(rank='C', number='7'), Classes(rank='C', number='8'), Classes(rank='C', number='9'), Classes(rank='C', number='10'), Classes(rank='C', number='11'), Classes(rank='C', number='12'), Classes(rank='C', number='13'), Classes(rank='C', number='14'), Classes(rank='C', number='15'), Classes(rank='C', number='16'), Classes(rank='C', number='17'), Classes(rank='C', number='18'), Classes(rank='C', number='19'), Classes(rank='C', number='20'), Classes(rank='D', number='1'), Classes(rank='D', number='2'), Classes(rank='D', number='3'), Classes(rank='D', number='4'), Classes(rank='D', number='5'), Classes(rank='D', number='6'), Classes(rank='D', number='7'), Classes(rank='D', number='8'), Classes(rank='D', number='9'), Classes(rank='D', number='10'), Classes(rank='D', number='11'), Classes(rank='D', number='12'), Classes(rank='D', number='13'), Classes(rank='D', number='14'), Classes(rank='D', number='15'), Classes(rank='D', number='16'), Classes(rank='D', number='17'), Classes(rank='D', number='18'), Classes(rank='D', number='19'), Classes(rank='D', number='20')]\n",
      "\n",
      "\n",
      "Classes(rank='A', number='1')\n",
      "Classes(rank='A', number='2')\n",
      "Classes(rank='A', number='3')\n",
      "Classes(rank='A', number='4')\n",
      "Classes(rank='A', number='5')\n",
      "Classes(rank='A', number='6')\n",
      "Classes(rank='A', number='7')\n",
      "Classes(rank='A', number='8')\n",
      "Classes(rank='A', number='9')\n",
      "Classes(rank='A', number='10')\n",
      "Classes(rank='A', number='11')\n",
      "Classes(rank='A', number='12')\n",
      "Classes(rank='A', number='13')\n",
      "Classes(rank='A', number='14')\n",
      "Classes(rank='A', number='15')\n",
      "Classes(rank='A', number='16')\n",
      "Classes(rank='A', number='17')\n",
      "Classes(rank='A', number='18')\n",
      "Classes(rank='A', number='19')\n",
      "Classes(rank='A', number='20')\n",
      "Classes(rank='B', number='1')\n",
      "Classes(rank='B', number='2')\n",
      "Classes(rank='B', number='3')\n",
      "Classes(rank='B', number='4')\n",
      "Classes(rank='B', number='5')\n",
      "Classes(rank='B', number='6')\n",
      "Classes(rank='B', number='7')\n",
      "Classes(rank='B', number='8')\n",
      "Classes(rank='B', number='9')\n",
      "Classes(rank='B', number='10')\n",
      "Classes(rank='B', number='11')\n",
      "Classes(rank='B', number='12')\n",
      "Classes(rank='B', number='13')\n",
      "Classes(rank='B', number='14')\n",
      "Classes(rank='B', number='15')\n",
      "Classes(rank='B', number='16')\n",
      "Classes(rank='B', number='17')\n",
      "Classes(rank='B', number='18')\n",
      "Classes(rank='B', number='19')\n",
      "Classes(rank='B', number='20')\n",
      "Classes(rank='C', number='1')\n",
      "Classes(rank='C', number='2')\n",
      "Classes(rank='C', number='3')\n",
      "Classes(rank='C', number='4')\n",
      "Classes(rank='C', number='5')\n",
      "Classes(rank='C', number='6')\n",
      "Classes(rank='C', number='7')\n",
      "Classes(rank='C', number='8')\n",
      "Classes(rank='C', number='9')\n",
      "Classes(rank='C', number='10')\n",
      "Classes(rank='C', number='11')\n",
      "Classes(rank='C', number='12')\n",
      "Classes(rank='C', number='13')\n",
      "Classes(rank='C', number='14')\n",
      "Classes(rank='C', number='15')\n",
      "Classes(rank='C', number='16')\n",
      "Classes(rank='C', number='17')\n",
      "Classes(rank='C', number='18')\n",
      "Classes(rank='C', number='19')\n",
      "Classes(rank='C', number='20')\n",
      "Classes(rank='D', number='1')\n",
      "Classes(rank='D', number='2')\n",
      "Classes(rank='D', number='3')\n",
      "Classes(rank='D', number='4')\n",
      "Classes(rank='D', number='5')\n",
      "Classes(rank='D', number='6')\n",
      "Classes(rank='D', number='7')\n",
      "Classes(rank='D', number='8')\n",
      "Classes(rank='D', number='9')\n",
      "Classes(rank='D', number='10')\n",
      "Classes(rank='D', number='11')\n",
      "Classes(rank='D', number='12')\n",
      "Classes(rank='D', number='13')\n",
      "Classes(rank='D', number='14')\n",
      "Classes(rank='D', number='15')\n",
      "Classes(rank='D', number='16')\n",
      "Classes(rank='D', number='17')\n",
      "Classes(rank='D', number='18')\n",
      "Classes(rank='D', number='19')\n",
      "Classes(rank='D', number='20')\n"
     ]
    }
   ],
   "source": [
    "# 추천\n",
    "students2 = [Classes(rank, number)\n",
    "             for rank in 'A B C D'.split()\n",
    "             for number in [str(n)\n",
    "                            for n in range(1, 21)]]\n",
    "\n",
    "\n",
    "print()\n",
    "print()\n",
    "\n",
    "print(len(students2))\n",
    "print(students2)\n",
    "\n",
    "print()\n",
    "print()\n",
    "\n",
    "# 출력\n",
    "for s in students:\n",
    "    print(s)"
   ]
  },
  {
   "cell_type": "markdown",
   "metadata": {},
   "source": [
    "- 가독성 떄문에 위와 같은 방법을 추천한다."
   ]
  }
 ],
 "metadata": {
  "kernelspec": {
   "display_name": "Python 3",
   "language": "python",
   "name": "python3"
  },
  "language_info": {
   "codemirror_mode": {
    "name": "ipython",
    "version": 3
   },
   "file_extension": ".py",
   "mimetype": "text/x-python",
   "name": "python",
   "nbconvert_exporter": "python",
   "pygments_lexer": "ipython3",
   "version": "3.7.6"
  },
  "toc": {
   "base_numbering": 1,
   "nav_menu": {},
   "number_sections": true,
   "sideBar": true,
   "skip_h1_title": false,
   "title_cell": "Table of Contents",
   "title_sidebar": "Contents",
   "toc_cell": false,
   "toc_position": {},
   "toc_section_display": true,
   "toc_window_display": false
  },
  "varInspector": {
   "cols": {
    "lenName": 16,
    "lenType": 16,
    "lenVar": 40
   },
   "kernels_config": {
    "python": {
     "delete_cmd_postfix": "",
     "delete_cmd_prefix": "del ",
     "library": "var_list.py",
     "varRefreshCmd": "print(var_dic_list())"
    },
    "r": {
     "delete_cmd_postfix": ") ",
     "delete_cmd_prefix": "rm(",
     "library": "var_list.r",
     "varRefreshCmd": "cat(var_dic_list()) "
    }
   },
   "types_to_exclude": [
    "module",
    "function",
    "builtin_function_or_method",
    "instance",
    "_Feature"
   ],
   "window_display": false
  }
 },
 "nbformat": 4,
 "nbformat_minor": 4
}
