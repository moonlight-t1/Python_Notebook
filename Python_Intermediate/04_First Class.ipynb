{
 "cells": [
  {
   "cell_type": "markdown",
   "metadata": {},
   "source": [
    "# 파이썬 일급 함수\n",
    "\n",
    "- 파이썬 함수 특징\n",
    "- 익명 함수(Lambda)\n",
    "- Callable 설명\n",
    "- Partial 사용법\n",
    "\n",
    "함수형 프로그래밍 언어를 사용하면 코드를 간결하게 작성할 수 있어 개발 시간을 단축할 수 있고, 함수형 프로그래밍 언어가 부작용을 허용하지 않는 순수 함수를 지향하여 동시에 여러 스레드에서 문제 없이 동작하는 프로그램을 쉽게 작성할 수 있다.\n",
    "\n",
    "\n",
    "\n",
    "**파이썬 함수 특징**\n",
    "\n",
    "1. 런타임 초기화\n",
    "2. 변수 할당 가능\n",
    "3. 함수를 인자로 전달 가능\n",
    "4. 함수 결과 반환 가능"
   ]
  },
  {
   "cell_type": "markdown",
   "metadata": {},
   "source": [
    "## 일급함수 - 기본 특징\n",
    "### 함수의 객체 취급"
   ]
  },
  {
   "cell_type": "code",
   "execution_count": 1,
   "metadata": {},
   "outputs": [],
   "source": [
    "# 팩토리얼 함수\n",
    "def factorial(n):\n",
    "    '''Factorial Function -> n : int'''\n",
    "    if n == 1:  # n < 2\n",
    "        return 1\n",
    "    return n * factorial(n-1)\n",
    "\n",
    "\n",
    "class A:\n",
    "    pass"
   ]
  },
  {
   "cell_type": "code",
   "execution_count": 2,
   "metadata": {},
   "outputs": [
    {
     "name": "stdout",
     "output_type": "stream",
     "text": [
      "720\n",
      "Factorial Function -> n : int\n",
      "<class 'function'> <class 'type'>\n"
     ]
    }
   ],
   "source": [
    "print(factorial(6))\n",
    "print(factorial.__doc__)\n",
    "print(type(factorial), type(A))"
   ]
  },
  {
   "cell_type": "markdown",
   "metadata": {},
   "source": [
    "- 함수의 타입이 `class 'function`이다. 함수도 객체로 취급한다는 뜻이다."
   ]
  },
  {
   "cell_type": "code",
   "execution_count": 3,
   "metadata": {},
   "outputs": [
    {
     "name": "stdout",
     "output_type": "stream",
     "text": [
      "['__annotations__', '__call__', '__class__', '__closure__', '__code__', '__defaults__', '__delattr__', '__dict__', '__dir__', '__doc__', '__eq__', '__format__', '__ge__', '__get__', '__getattribute__', '__globals__', '__gt__', '__hash__', '__init__', '__init_subclass__', '__kwdefaults__', '__le__', '__lt__', '__module__', '__name__', '__ne__', '__new__', '__qualname__', '__reduce__', '__reduce_ex__', '__repr__', '__setattr__', '__sizeof__', '__str__', '__subclasshook__']\n"
     ]
    }
   ],
   "source": [
    "print(dir(factorial))"
   ]
  },
  {
   "cell_type": "markdown",
   "metadata": {},
   "source": [
    "- 함수임에도 여러가지 속성을 가지고 있다. 즉, 함수도 객체 취급한다."
   ]
  },
  {
   "cell_type": "code",
   "execution_count": 4,
   "metadata": {},
   "outputs": [
    {
     "name": "stdout",
     "output_type": "stream",
     "text": [
      "{'__get__', '__globals__', '__defaults__', '__kwdefaults__', '__call__', '__annotations__', '__closure__', '__qualname__', '__name__', '__code__'}\n"
     ]
    }
   ],
   "source": [
    "# 함수만 갖고 있는 속성 출력\n",
    "print(set(sorted(dir(factorial))) - set(sorted(dir(A))))"
   ]
  },
  {
   "cell_type": "markdown",
   "metadata": {},
   "source": [
    "- 함수만이 가지고 있는 속성이 있다."
   ]
  },
  {
   "cell_type": "code",
   "execution_count": 5,
   "metadata": {},
   "outputs": [
    {
     "name": "stdout",
     "output_type": "stream",
     "text": [
      "factorial\n",
      "<code object factorial at 0x000001CB845724B0, file \"<ipython-input-1-cc8b0c4c457b>\", line 2>\n"
     ]
    }
   ],
   "source": [
    "print(factorial.__name__)\n",
    "print(factorial.__code__)"
   ]
  },
  {
   "cell_type": "markdown",
   "metadata": {},
   "source": [
    "### 함수를 변수에 할당"
   ]
  },
  {
   "cell_type": "code",
   "execution_count": 6,
   "metadata": {},
   "outputs": [
    {
     "name": "stdout",
     "output_type": "stream",
     "text": [
      "<function factorial at 0x000001CB845725E8>\n",
      "3628800\n",
      "<map object at 0x000001CB8458D0C8>\n",
      "[1, 2, 6, 24, 120]\n"
     ]
    }
   ],
   "source": [
    "# 함수를 변수 할당\n",
    "var_func = factorial\n",
    "\n",
    "print(var_func)\n",
    "print(var_func(10))\n",
    "print(map(var_func, range(1, 11)))\n",
    "print(list(map(var_func, range(1, 6))))"
   ]
  },
  {
   "cell_type": "markdown",
   "metadata": {},
   "source": [
    "- 함수를 변수에 할당가능하다. (일급 함수 특징)"
   ]
  },
  {
   "cell_type": "markdown",
   "metadata": {},
   "source": [
    "### 함수를 인자로 전달\n",
    "\n",
    "- 고위 함수(Higher-order function)은 함수를 인자에 전달 가능하고 또한 결과로 반환도 가능하다.\n",
    "- `map`은 리스트의 요소를 지정된 함수로 처리해주는 함수이다.\n",
    "- `filter` 함수는 list 나 dictionary 같은 iterable 한 데이터를 특정 조건에 일치하는 값만 추출해 낼때 사용하는 함수이다.\n",
    "- functools 모듈의 `reduce` 함수\n"
   ]
  },
  {
   "cell_type": "code",
   "execution_count": 7,
   "metadata": {},
   "outputs": [
    {
     "name": "stdout",
     "output_type": "stream",
     "text": [
      "[1, 6, 120]\n"
     ]
    }
   ],
   "source": [
    "# 함수를 결과값으로 list comprehension에 넘긴다\n",
    "print([var_func(i) for i in range(1, 6) if i % 2])"
   ]
  },
  {
   "cell_type": "code",
   "execution_count": 8,
   "metadata": {},
   "outputs": [
    {
     "name": "stdout",
     "output_type": "stream",
     "text": [
      "[1, 6, 120]\n"
     ]
    }
   ],
   "source": [
    "# map 함수는 함수를 인자로 전달한다\n",
    "# filter 함수를 이용해서 조건에 맞는 정수 필터링\n",
    "\n",
    "print(list(map(var_func, filter(lambda x: x % 2, range(1, 6)))))"
   ]
  },
  {
   "cell_type": "markdown",
   "metadata": {},
   "source": [
    "- 함수를 인자로 전달 가능하다.\n",
    "- 람다 함수를 `filter` 함수에 전달하였고, `var_func` 함수를 `map` 함수에 전달하였다."
   ]
  },
  {
   "cell_type": "code",
   "execution_count": 9,
   "metadata": {},
   "outputs": [
    {
     "name": "stdout",
     "output_type": "stream",
     "text": [
      "55\n",
      "55\n"
     ]
    }
   ],
   "source": [
    "# reduce()\n",
    "from functools import reduce\n",
    "from operator import add\n",
    "\n",
    "print(sum(range(1, 11)))\n",
    "print(reduce(add, range(1, 11)))  # 누적"
   ]
  },
  {
   "cell_type": "markdown",
   "metadata": {},
   "source": [
    "- `reduce` 함수는 `range`에 의한 숫자들이 감소하면서 `add` 함수에 의해서 더해진다."
   ]
  },
  {
   "cell_type": "code",
   "execution_count": 10,
   "metadata": {},
   "outputs": [
    {
     "name": "stdout",
     "output_type": "stream",
     "text": [
      "55\n"
     ]
    }
   ],
   "source": [
    "# 익명 함수(lamda)\n",
    "print(reduce(lambda x, t: x + t, range(1, 11)))"
   ]
  },
  {
   "cell_type": "markdown",
   "metadata": {},
   "source": [
    "- 익명함수는 `lambda` 함수를 의미하는데 가급적이면 함수를 이용하라고 권장하고 있다.\n",
    "- 가능하면 일반 함수 형태로 리팩토링 하라고 권장된다."
   ]
  },
  {
   "cell_type": "code",
   "execution_count": 11,
   "metadata": {},
   "outputs": [
    {
     "name": "stdout",
     "output_type": "stream",
     "text": [
      "True\n",
      "True\n",
      "True\n",
      "False\n"
     ]
    }
   ],
   "source": [
    "# Callable : 호출 연산자 -> 메소드 형태로 호출 가능한지 확인\n",
    "# 호출 가능 확인\n",
    "print(callable(str))\n",
    "print(callable(list))\n",
    "print(callable(var_func))\n",
    "print(callable(3.14))"
   ]
  },
  {
   "cell_type": "markdown",
   "metadata": {},
   "source": [
    "- `callable`은 호출 연산자이다. 메소드 형태로 호출 가능한지 확인한다.\n",
    "- `__call__` 이라는 속성을 갖고 있으면 메소드 형태로 호출이 가능하다."
   ]
  },
  {
   "cell_type": "code",
   "execution_count": 12,
   "metadata": {},
   "outputs": [
    {
     "name": "stdout",
     "output_type": "stream",
     "text": [
      "100\n",
      "50\n",
      "30\n",
      "[5, 10, 15, 20, 25, 30, 35, 40, 45, 50]\n",
      "[5, 10, 15, 20, 25, 30, 35, 40, 45, 50]\n"
     ]
    }
   ],
   "source": [
    "# partial 사용법 : 인수 고정 -> 콜백 함수에 사용\n",
    "from operator import mul\n",
    "from functools import partial\n",
    "\n",
    "# 일반적인 형태\n",
    "print(mul(10, 10))  # 10 * 10\n",
    "\n",
    "# 인수 고정\n",
    "five = partial(mul, 5)  # 5 * ?\n",
    "\n",
    "# 고정 추가\n",
    "six = partial(five, 6)  # 6 * 5 * ?\n",
    "\n",
    "print(five(10))  # 10 x 5\n",
    "print(six())  # 6 x 5\n",
    "print([five(i) for i in range(1, 11)])  # 5의 배수\n",
    "print(list(map(five, range(1, 11))))  # 5의 배수"
   ]
  },
  {
   "cell_type": "markdown",
   "metadata": {},
   "source": [
    "- `partial`은 인수를 고정한다. 주로 콜백 함수에 사용된다."
   ]
  },
  {
   "cell_type": "markdown",
   "metadata": {},
   "source": [
    "## 클로저\n",
    "- 파이썬 변수 범위(Scope)\n",
    "- Global 선언\n",
    "- 클로저 사용 이유\n",
    "- Class → Closure 구현"
   ]
  },
  {
   "cell_type": "markdown",
   "metadata": {},
   "source": [
    "### 파이썬 변수 범위(Scope)"
   ]
  },
  {
   "cell_type": "code",
   "execution_count": 13,
   "metadata": {},
   "outputs": [],
   "source": [
    "# Ex1\n",
    "def func_v1(a):\n",
    "    print(a)\n",
    "    print(b)\n",
    "    \n",
    "# func_v1(10) # error"
   ]
  },
  {
   "cell_type": "markdown",
   "metadata": {},
   "source": [
    "- 변수 `b`가 없어서 에러"
   ]
  },
  {
   "cell_type": "code",
   "execution_count": 14,
   "metadata": {},
   "outputs": [
    {
     "name": "stdout",
     "output_type": "stream",
     "text": [
      "10\n",
      "20\n"
     ]
    }
   ],
   "source": [
    "# Ex2\n",
    "b = 20 # 글로벌 변수\n",
    "\n",
    "def func_v2(a):\n",
    "    print(a)\n",
    "    print(b)\n",
    "    \n",
    "func_v2(10)"
   ]
  },
  {
   "cell_type": "markdown",
   "metadata": {},
   "source": [
    "- `a`는 지역변수, `b`는 전역변수이다."
   ]
  },
  {
   "cell_type": "code",
   "execution_count": 15,
   "metadata": {},
   "outputs": [
    {
     "name": "stdout",
     "output_type": "stream",
     "text": [
      "함수 실행 전 c:  30\n",
      "a: 10\n",
      "c: 30\n",
      "함수 실행 후 c:  40\n"
     ]
    }
   ],
   "source": [
    "# Ex3\n",
    "c = 30\n",
    "\n",
    "\n",
    "def func_v3(a):\n",
    "    global c  # 글로벌 변수 사용\n",
    "    print('a:', a)\n",
    "    print('c:', c)\n",
    "    c = 40  # 글로벌 변수를 40으로 치환\n",
    "\n",
    "\n",
    "print('함수 실행 전 c: ', c)  # 함수 실행 전\n",
    "func_v3(10)  # 함수 실행\n",
    "print('함수 실행 후 c: ', c)  # 함수 실행 후"
   ]
  },
  {
   "cell_type": "markdown",
   "metadata": {},
   "source": [
    "- `global` 키워드를 이용해서 전역 변수에 접근할 수 있다.\n",
    "- 하지만 위와 같이 `global` 예약어를 사용하는 것은 권장하지 않는다."
   ]
  },
  {
   "cell_type": "code",
   "execution_count": 16,
   "metadata": {},
   "outputs": [
    {
     "name": "stdout",
     "output_type": "stream",
     "text": [
      "  7           0 LOAD_GLOBAL              0 (print)\n",
      "              2 LOAD_CONST               1 ('a:')\n",
      "              4 LOAD_FAST                0 (a)\n",
      "              6 CALL_FUNCTION            2\n",
      "              8 POP_TOP\n",
      "\n",
      "  8          10 LOAD_GLOBAL              0 (print)\n",
      "             12 LOAD_CONST               2 ('c:')\n",
      "             14 LOAD_GLOBAL              1 (c)\n",
      "             16 CALL_FUNCTION            2\n",
      "             18 POP_TOP\n",
      "\n",
      "  9          20 LOAD_CONST               3 (40)\n",
      "             22 STORE_GLOBAL             1 (c)\n",
      "             24 LOAD_CONST               0 (None)\n",
      "             26 RETURN_VALUE\n",
      "None\n"
     ]
    }
   ],
   "source": [
    "from dis import dis\n",
    "print(dis(func_v3))"
   ]
  },
  {
   "cell_type": "markdown",
   "metadata": {},
   "source": [
    "### 클로저(closure)\n",
    "\n",
    "- 클로저는 스코프가 끝나도 값(상태)을 기억한다.\n",
    "\n",
    "- 예를 들어 서버 프로그래밍 같은 경우에는 동시성을 제어해야 한다. 즉, 메모리 공간에 여러 자원이 접근을 하는데 이것들이 교착상태에 빠지지 않도록 제어를 해야 한다.\n",
    "\n",
    "- 파이썬에서는 데드락을 회피하기 위해서 메모리를 공유하지 않고 메시지 전달로 처리한다. 이게 클로저이다.\n",
    "\n",
    "- 클로저는 공유하되 변경되지 않는(Immutable, Read Only) 것을 적극적으로 사용한다. -> 함수형 프로그래밍\n",
    "\n",
    "- 클로저는 불변 자료구조 및 atom, STM -> 멀티스레드(Coroutine) 프로그래밍에 강점\n"
   ]
  },
  {
   "cell_type": "code",
   "execution_count": 17,
   "metadata": {},
   "outputs": [
    {
     "name": "stdout",
     "output_type": "stream",
     "text": [
      "200\n",
      "1100\n",
      "1275\n",
      "3775\n"
     ]
    }
   ],
   "source": [
    "# 누적\n",
    "a = 100\n",
    "\n",
    "print(a + 100)\n",
    "print(a + 1000)\n",
    "\n",
    "# 결과 누적(함수 사용)\n",
    "print(sum(range(1, 51)))\n",
    "print(sum(range(51, 101)))"
   ]
  },
  {
   "cell_type": "code",
   "execution_count": 18,
   "metadata": {},
   "outputs": [],
   "source": [
    "# 클래스로 만든 클로저 사용\n",
    "class Averager():\n",
    "    def __init__(self):\n",
    "        self._series = []\n",
    "\n",
    "    # Callable Method\n",
    "    # 클래스를 함수처럼 호출 가능\n",
    "    def __call__(self, v):\n",
    "        self._series.append(v)\n",
    "        print('inner >>> {} / {}'.format(self._series, len(self._series)))\n",
    "        return sum(self._series) / len(self._series)"
   ]
  },
  {
   "cell_type": "code",
   "execution_count": 19,
   "metadata": {},
   "outputs": [
    {
     "name": "stdout",
     "output_type": "stream",
     "text": [
      "inner >>> [15] / 1\n",
      "15.0\n",
      "inner >>> [15, 35] / 2\n",
      "25.0\n",
      "inner >>> [15, 35, 40] / 3\n",
      "30.0\n"
     ]
    }
   ],
   "source": [
    "# 인스턴스 생성\n",
    "averager_cls = Averager()\n",
    "\n",
    "# 누적 - 클래스를 함수 처럼 실행\n",
    "print(averager_cls(15))\n",
    "print(averager_cls(35))\n",
    "print(averager_cls(40))"
   ]
  },
  {
   "cell_type": "markdown",
   "metadata": {},
   "source": [
    "- `callable method`는 클래스를 함수처럼 호출 가능하게 해준다. 그래서 클래스를 함수처럼 호출하고 실행시킨다.\n",
    "- 리스트(`self._series`)가 상태를 갖고 있으므로 값을 계속 기억하고 있다. 그래서 계속 누적되는 효과를 가지게 된다."
   ]
  },
  {
   "cell_type": "markdown",
   "metadata": {},
   "source": [
    "## 클로저 심화\n",
    "- 클로저 사용 예제\n",
    "- 잘못된 클로저 사용\n",
    "- 클로저 정리"
   ]
  },
  {
   "cell_type": "markdown",
   "metadata": {},
   "source": [
    "### 클로저(Closure) 심화\n",
    "- 클로저는 외부에서 호출된 함수의 변수 값, 상태(레퍼런스)를 복사하고 저장한 후에 접근 가능하게 해준다.\n",
    "- 외부에 상태, 값을 저장하는 곳을 `자유변수(free variable)`이라 한다."
   ]
  },
  {
   "cell_type": "code",
   "execution_count": 20,
   "metadata": {},
   "outputs": [],
   "source": [
    "# 함수로 만든 클로저(Closure) 사용\n",
    "\n",
    "def closure_ex1():\n",
    "    series = []  # 자유 변수(free variable)\n",
    "\n",
    "    # 클로저 영역(내가 사용하려는 함수)\n",
    "    def averager(v):\n",
    "        # series = [] # 주석 해제 후 확인\n",
    "        series.append(v)\n",
    "        print('inner >>> {} / {}'.format(series, len(series)))\n",
    "        return sum(series) / len(series)\n",
    "\n",
    "    # 함수를 결과로 리턴(일급함수)\n",
    "    return averager"
   ]
  },
  {
   "cell_type": "code",
   "execution_count": 21,
   "metadata": {},
   "outputs": [
    {
     "name": "stdout",
     "output_type": "stream",
     "text": [
      "<function closure_ex1.<locals>.averager at 0x000001CB84572C18>\n"
     ]
    }
   ],
   "source": [
    "avg_closure1 = closure_ex1()\n",
    "\n",
    "print(avg_closure1)"
   ]
  },
  {
   "cell_type": "code",
   "execution_count": 22,
   "metadata": {},
   "outputs": [
    {
     "name": "stdout",
     "output_type": "stream",
     "text": [
      "inner >>> [10] / 1\n",
      "10.0\n",
      "inner >>> [10, 20] / 2\n",
      "15.0\n",
      "inner >>> [10, 20, 30] / 3\n",
      "20.0\n"
     ]
    }
   ],
   "source": [
    "print(avg_closure1(10))\n",
    "print(avg_closure1(20))\n",
    "print(avg_closure1(30))"
   ]
  },
  {
   "cell_type": "markdown",
   "metadata": {},
   "source": [
    "- 함수를 결과로 반환 가능한 점을 이용하여 클로저를 구현한다.\n",
    "    - 위와 같은 형태가 하나의 패턴이다.\n",
    "\n",
    "\n",
    "- 클로저 영역의 `자유 변수`는 내가 사용하려는 함수 바깥에 선언된 변수를 말한다. \n",
    "    - 위에서는 series가 되겠다. 이 값을 averager 내부 함수에서 계속 기억하고 있는다.\n",
    "    \n",
    "\n",
    "- 함수를 실행할 떄마다 `자유변수(free variable)`에 접근을 해서 변경하고 이 값은 보존이 된다.\n",
    "- 이러한 유형은 전에 처럼 클래스형태로 만들 수 있고 이처럼 함수를 이용해 클로저 형태로 만들 수도 있다."
   ]
  },
  {
   "cell_type": "code",
   "execution_count": 23,
   "metadata": {},
   "outputs": [
    {
     "name": "stdout",
     "output_type": "stream",
     "text": [
      "['__annotations__', '__call__', '__class__', '__closure__', '__code__', '__defaults__', '__delattr__', '__dict__', '__dir__', '__doc__', '__eq__', '__format__', '__ge__', '__get__', '__getattribute__', '__globals__', '__gt__', '__hash__', '__init__', '__init_subclass__', '__kwdefaults__', '__le__', '__lt__', '__module__', '__name__', '__ne__', '__new__', '__qualname__', '__reduce__', '__reduce_ex__', '__repr__', '__setattr__', '__sizeof__', '__str__', '__subclasshook__']\n"
     ]
    }
   ],
   "source": [
    "# 함수의 dir\n",
    "print(dir(avg_closure1))"
   ]
  },
  {
   "cell_type": "markdown",
   "metadata": {},
   "source": [
    "- `__closure__`가 있다."
   ]
  },
  {
   "cell_type": "code",
   "execution_count": 24,
   "metadata": {},
   "outputs": [
    {
     "name": "stdout",
     "output_type": "stream",
     "text": [
      "['__class__', '__delattr__', '__dir__', '__doc__', '__eq__', '__format__', '__ge__', '__getattribute__', '__gt__', '__hash__', '__init__', '__init_subclass__', '__le__', '__lt__', '__ne__', '__new__', '__reduce__', '__reduce_ex__', '__repr__', '__setattr__', '__sizeof__', '__str__', '__subclasshook__', 'co_argcount', 'co_cellvars', 'co_code', 'co_consts', 'co_filename', 'co_firstlineno', 'co_flags', 'co_freevars', 'co_kwonlyargcount', 'co_lnotab', 'co_name', 'co_names', 'co_nlocals', 'co_stacksize', 'co_varnames']\n"
     ]
    }
   ],
   "source": [
    "# avg_closure의 __code__\n",
    "print(dir(avg_closure1.__code__))"
   ]
  },
  {
   "cell_type": "markdown",
   "metadata": {},
   "source": [
    "- `co_freevars` 자유변수가 있다"
   ]
  },
  {
   "cell_type": "code",
   "execution_count": 25,
   "metadata": {},
   "outputs": [
    {
     "name": "stdout",
     "output_type": "stream",
     "text": [
      "('series',)\n"
     ]
    }
   ],
   "source": [
    "# co_freevars(자유변수)\n",
    "print(avg_closure1.__code__.co_freevars)"
   ]
  },
  {
   "cell_type": "markdown",
   "metadata": {},
   "source": [
    "- 자유변수 `co_freevars`를 확인하니 `series`가 출력이 되었다."
   ]
  },
  {
   "cell_type": "code",
   "execution_count": 26,
   "metadata": {},
   "outputs": [
    {
     "name": "stdout",
     "output_type": "stream",
     "text": [
      "['__add__', '__class__', '__contains__', '__delattr__', '__dir__', '__doc__', '__eq__', '__format__', '__ge__', '__getattribute__', '__getitem__', '__getnewargs__', '__gt__', '__hash__', '__init__', '__init_subclass__', '__iter__', '__le__', '__len__', '__lt__', '__mul__', '__ne__', '__new__', '__reduce__', '__reduce_ex__', '__repr__', '__rmul__', '__setattr__', '__sizeof__', '__str__', '__subclasshook__', 'count', 'index']\n"
     ]
    }
   ],
   "source": [
    "# 클로저의 [0]\n",
    "print(dir(avg_closure1.__closure__))"
   ]
  },
  {
   "cell_type": "code",
   "execution_count": 27,
   "metadata": {},
   "outputs": [
    {
     "name": "stdout",
     "output_type": "stream",
     "text": [
      "[10, 20, 30]\n"
     ]
    }
   ],
   "source": [
    "# 클로저[0]의 cell_contents\n",
    "print(avg_closure1.__closure__[0].cell_contents)"
   ]
  },
  {
   "cell_type": "markdown",
   "metadata": {},
   "source": [
    "- closure의 0번째의 `cell_contents`를 확인해보니 값이 들어있다."
   ]
  },
  {
   "cell_type": "code",
   "execution_count": 28,
   "metadata": {},
   "outputs": [
    {
     "name": "stdout",
     "output_type": "stream",
     "text": [
      "  9           0 LOAD_DEREF               0 (series)\n",
      "              2 LOAD_METHOD              0 (append)\n",
      "              4 LOAD_FAST                0 (v)\n",
      "              6 CALL_METHOD              1\n",
      "              8 POP_TOP\n",
      "\n",
      " 10          10 LOAD_GLOBAL              1 (print)\n",
      "             12 LOAD_CONST               1 ('inner >>> {} / {}')\n",
      "             14 LOAD_METHOD              2 (format)\n",
      "             16 LOAD_DEREF               0 (series)\n",
      "             18 LOAD_GLOBAL              3 (len)\n",
      "             20 LOAD_DEREF               0 (series)\n",
      "             22 CALL_FUNCTION            1\n",
      "             24 CALL_METHOD              2\n",
      "             26 CALL_FUNCTION            1\n",
      "             28 POP_TOP\n",
      "\n",
      " 11          30 LOAD_GLOBAL              4 (sum)\n",
      "             32 LOAD_DEREF               0 (series)\n",
      "             34 CALL_FUNCTION            1\n",
      "             36 LOAD_GLOBAL              3 (len)\n",
      "             38 LOAD_DEREF               0 (series)\n",
      "             40 CALL_FUNCTION            1\n",
      "             42 BINARY_TRUE_DIVIDE\n",
      "             44 RETURN_VALUE\n",
      "None\n"
     ]
    }
   ],
   "source": [
    "from dis import dis\n",
    "print(dis(avg_closure1))"
   ]
  },
  {
   "cell_type": "markdown",
   "metadata": {},
   "source": [
    "### 잘못된 클로저의 사용"
   ]
  },
  {
   "cell_type": "code",
   "execution_count": 29,
   "metadata": {},
   "outputs": [],
   "source": [
    "# 잘못된 클로저 사용\n",
    "def closure_ex2():\n",
    "    # Free variable\n",
    "    cnt = 0\n",
    "    total = 0\n",
    "\n",
    "    def averager(v):\n",
    "        cnt += 1  # cnt = cnt + 1\n",
    "        total += v\n",
    "        return total / cnt\n",
    "\n",
    "    return averager\n",
    "\n",
    "\n",
    "avg_closure2 = closure_ex2()\n",
    "\n",
    "# print(avg_closure2(15)) # 예외"
   ]
  },
  {
   "cell_type": "markdown",
   "metadata": {},
   "source": [
    "- 내부함수에서의 변수는 바깥의 변수와 다른 스코프에 있기 때문에 별개의 변수이다."
   ]
  },
  {
   "cell_type": "code",
   "execution_count": 30,
   "metadata": {},
   "outputs": [
    {
     "name": "stdout",
     "output_type": "stream",
     "text": [
      "15.0\n",
      "25.0\n",
      "30.0\n"
     ]
    }
   ],
   "source": [
    "# Nonlocal -> Free variable\n",
    "def closure_ex3():\n",
    "    # Free variable\n",
    "    cnt = 0\n",
    "    total = 0\n",
    "\n",
    "    def averager(v):\n",
    "        nonlocal cnt, total\n",
    "        cnt += 1\n",
    "        total += v\n",
    "        return total / cnt\n",
    "\n",
    "    return averager\n",
    "\n",
    "\n",
    "avg_closure3 = closure_ex3()\n",
    "\n",
    "print(avg_closure3(15))\n",
    "print(avg_closure3(35))\n",
    "print(avg_closure3(40))"
   ]
  },
  {
   "cell_type": "markdown",
   "metadata": {},
   "source": [
    "- `nonlocal` : 지역변수가 아님을 선언\n",
    "- `nonlocal` 예약어를 사용하여 내부함수의 외부에 있는 변수라고 알려줘야 한다. 이렇게 해야 `cnt`와 `total`이 free 변수가 된다."
   ]
  },
  {
   "cell_type": "markdown",
   "metadata": {},
   "source": [
    "## 데코레이터\n",
    "- 클로저 → 데코레이터 관계\n",
    "- 데코레이터 실습(1)\n",
    "- 데코레이터 실습(2)"
   ]
  },
  {
   "cell_type": "markdown",
   "metadata": {},
   "source": [
    "### 데코레이터란?\n",
    "- 파이썬 데코레이터는 사용하기가 아주 쉽습니다. 파이썬 함수를 작성하는 법만 알면 데코레이터 사용법을 배울 수 있습니다.\n",
    "\n",
    "```python\n",
    "@somedecorator\n",
    "def some_function():\n",
    "    print(\"Check it out, I'm using decorators!\")\n",
    "```\n",
    "- 하지만 데코레이터를 작성하는 것은 완전히 다른 기술입니다. 그리고 그리 간단하지도 않으며, 다음과 같은 내용을 이해해야 합니다.\n",
    "    - 클로저\n",
    "    - 함수를 일급 인자(first-class argument)로 활용하는 법\n",
    "    - 가변 인자\n",
    "    - 인자 풀기(argument unpacking)\n",
    "    - 파이썬이 소스코드를 불러오는 자세한 과정\n",
    "- [5 reasons you need to learn to write Python decorators](https://www.oreilly.com/ideas/5-reasons-you-need-to-learn-to-write-python-decorators)\n",
    "\n",
    "**장점**\n",
    "\n",
    "1. 중복 제거, 코드 간결, 공통 함수 작성\n",
    "\n",
    "2. 로깅, 프레임워크, 유효성 체크..... -> 공통 기능\n",
    "\n",
    "3. 조합해서 사용 용이\n",
    "\n",
    "**단점**\n",
    "\n",
    "1. 가독성 감소?\n",
    "\n",
    "2. 특정 기능에 한정된 함수는 -> 단일 함수로 작성하는 것이 유리\n",
    "\n",
    "3. 디버깅 불편"
   ]
  },
  {
   "cell_type": "code",
   "execution_count": 31,
   "metadata": {},
   "outputs": [],
   "source": [
    "# 데코레이터 실습\n",
    "import time\n",
    "\n",
    "\n",
    "# 함수 실행시간 측정 함수\n",
    "def perf_clock(func):  # 함수를 인자로 받는다\n",
    "    \n",
    "    # 외부에서 받은 함수 func를 자유 변수로 기억한다\n",
    "    def perf_clocked(*args):\n",
    "        # 함수 시작 시간\n",
    "        st = time.perf_counter()\n",
    "\n",
    "        # 함수 실행(내부에서 함수를 실행한다)\n",
    "        result = func(*args) # 부모에서 받은 func를 여기서 실행한다\n",
    "\n",
    "        # 함수 실행 시간 계산\n",
    "        et = time.perf_counter() - st\n",
    "\n",
    "        # 실행 함수명\n",
    "        name = func.__name__\n",
    "\n",
    "        # 함수 매개변수\n",
    "        arg_str = ', '.join(repr(arg) for arg in args)\n",
    "\n",
    "        # 결과 출력\n",
    "        print('[%0.5fs] %s(%s) -> %r' % (et, name, arg_str, result))\n",
    "\n",
    "        return result\n",
    "    return perf_clocked"
   ]
  },
  {
   "cell_type": "markdown",
   "metadata": {},
   "source": [
    "- 모든 함수의 실행시간을 측정하는 함수를 클로저 형태로 만들었다.\n",
    "- `perf_clock` 외부 함수에서 함수 `func`를 인자로 받는다.\n",
    "- `perf_clocked` 내부 함수에서는 외부 함수에서 받은 `func`를 자유 변수로 기억한다."
   ]
  },
  {
   "cell_type": "markdown",
   "metadata": {},
   "source": [
    "### 데코레이터 실습 (1) - 데코레이터 미사용"
   ]
  },
  {
   "cell_type": "code",
   "execution_count": 32,
   "metadata": {},
   "outputs": [],
   "source": [
    "# sleep 함수\n",
    "def time_func(seconds):  # 이 함수를 인자로 보낸다\n",
    "    time.sleep(seconds)\n",
    "    \n",
    "# sum 함수\n",
    "def sum_func(*numbers):  # 이 함수를 인자로 보낸다\n",
    "    return sum(numbers)"
   ]
  },
  {
   "cell_type": "code",
   "execution_count": 33,
   "metadata": {},
   "outputs": [],
   "source": [
    "# 데코레이터 미사용\n",
    "# 함수를 매개변수로 직접 넣어주면 된다\n",
    "# 이 함수가 자유변수가 된다\n",
    "none_deco1 = perf_clock(time_func)\n",
    "none_deco2 = perf_clock(sum_func)"
   ]
  },
  {
   "cell_type": "code",
   "execution_count": 34,
   "metadata": {},
   "outputs": [
    {
     "name": "stdout",
     "output_type": "stream",
     "text": [
      "<function perf_clock.<locals>.perf_clocked at 0x000001CB845BB3A8> ('func',)\n",
      "<function perf_clock.<locals>.perf_clocked at 0x000001CB845BB318> ('func',)\n"
     ]
    }
   ],
   "source": [
    "print(none_deco1, none_deco1.__code__.co_freevars)\n",
    "print(none_deco2, none_deco2.__code__.co_freevars)"
   ]
  },
  {
   "cell_type": "markdown",
   "metadata": {},
   "source": [
    "- 자유 변수는 `func`\n",
    "- 함수를 인자를 넣을 수 있다."
   ]
  },
  {
   "cell_type": "code",
   "execution_count": 35,
   "metadata": {},
   "outputs": [
    {
     "name": "stdout",
     "output_type": "stream",
     "text": [
      "---------------------------------------- Called None Decorator -> time_func\n",
      "[1.50003s] time_func(1.5) -> None\n",
      "\n",
      "---------------------------------------- Called None Decorator -> sum_func\n",
      "[0.00000s] sum_func(100, 150, 250, 300, 350) -> 1150\n"
     ]
    },
    {
     "data": {
      "text/plain": [
       "1150"
      ]
     },
     "execution_count": 35,
     "metadata": {},
     "output_type": "execute_result"
    }
   ],
   "source": [
    "print('-' * 40, 'Called None Decorator -> time_func')\n",
    "none_deco1(1.5)\n",
    "\n",
    "print()\n",
    "\n",
    "print('-' * 40, 'Called None Decorator -> sum_func')\n",
    "none_deco2(100, 150, 250, 300, 350)"
   ]
  },
  {
   "cell_type": "markdown",
   "metadata": {},
   "source": [
    "### 데코레이터 실습 (2) - 데코레이터 사용"
   ]
  },
  {
   "cell_type": "code",
   "execution_count": 36,
   "metadata": {},
   "outputs": [],
   "source": [
    "# sleep 함수\n",
    "@perf_clock\n",
    "def time_func(seconds):  # 이 함수를 인자로 보낸다\n",
    "    time.sleep(seconds)\n",
    "\n",
    "\n",
    "# sum 함수\n",
    "@perf_clock\n",
    "def sum_func(*numbers):  # 이 함수를 인자로 보낸다\n",
    "    return sum(numbers)"
   ]
  },
  {
   "cell_type": "code",
   "execution_count": 37,
   "metadata": {},
   "outputs": [
    {
     "name": "stdout",
     "output_type": "stream",
     "text": [
      "**************************************** Called Decorator -> time_func\n",
      "[1.50054s] time_func(1.5) -> None\n",
      "\n",
      "**************************************** Called Decorator -> sum_func\n",
      "[0.00000s] sum_func(100, 150, 250, 300, 350) -> 1150\n"
     ]
    },
    {
     "data": {
      "text/plain": [
       "1150"
      ]
     },
     "execution_count": 37,
     "metadata": {},
     "output_type": "execute_result"
    }
   ],
   "source": [
    "# 데코레이터 사용\n",
    "print('*' * 40, 'Called Decorator -> time_func')\n",
    "time_func(1.5)\n",
    "\n",
    "print()\n",
    "\n",
    "print('*' * 40, 'Called Decorator -> sum_func')\n",
    "sum_func(100, 150, 250, 300, 350)"
   ]
  },
  {
   "cell_type": "markdown",
   "metadata": {},
   "source": [
    "- 데코레이더가 달려있으면 원 함수로 바로 실행할 수 있게 된다."
   ]
  }
 ],
 "metadata": {
  "kernelspec": {
   "display_name": "Python 3",
   "language": "python",
   "name": "python3"
  },
  "language_info": {
   "codemirror_mode": {
    "name": "ipython",
    "version": 3
   },
   "file_extension": ".py",
   "mimetype": "text/x-python",
   "name": "python",
   "nbconvert_exporter": "python",
   "pygments_lexer": "ipython3",
   "version": "3.7.6"
  },
  "toc": {
   "base_numbering": 1,
   "nav_menu": {},
   "number_sections": true,
   "sideBar": true,
   "skip_h1_title": false,
   "title_cell": "Table of Contents",
   "title_sidebar": "Contents",
   "toc_cell": false,
   "toc_position": {},
   "toc_section_display": true,
   "toc_window_display": false
  },
  "varInspector": {
   "cols": {
    "lenName": 16,
    "lenType": 16,
    "lenVar": 40
   },
   "kernels_config": {
    "python": {
     "delete_cmd_postfix": "",
     "delete_cmd_prefix": "del ",
     "library": "var_list.py",
     "varRefreshCmd": "print(var_dic_list())"
    },
    "r": {
     "delete_cmd_postfix": ") ",
     "delete_cmd_prefix": "rm(",
     "library": "var_list.r",
     "varRefreshCmd": "cat(var_dic_list()) "
    }
   },
   "types_to_exclude": [
    "module",
    "function",
    "builtin_function_or_method",
    "instance",
    "_Feature"
   ],
   "window_display": false
  }
 },
 "nbformat": 4,
 "nbformat_minor": 4
}
